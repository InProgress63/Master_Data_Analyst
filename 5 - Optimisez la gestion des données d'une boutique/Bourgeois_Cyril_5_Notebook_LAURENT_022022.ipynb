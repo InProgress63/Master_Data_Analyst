{
 "cells": [
  {
   "cell_type": "markdown",
   "id": "2e8d00cd",
   "metadata": {},
   "source": [
    "# ---------------------------------------------------\n",
    "# Analyses demandées par Laurent :\n",
    "# ---------------------------------------------------"
   ]
  },
  {
   "cell_type": "markdown",
   "id": "ee6b1737",
   "metadata": {},
   "source": [
    "#### 1/ Récupération des données\n",
    "#### 2/ Nettoyage\n",
    "#### 3/ Exploration\n",
    "\n",
    "# Objectifs : \n",
    "## A / Réalisation d'une jonction entre tables via une table de liaison\n",
    "## B / Analyse de données\n",
    "## C / Présentation COPIL"
   ]
  },
  {
   "cell_type": "code",
   "execution_count": 2,
   "id": "108b68d3",
   "metadata": {},
   "outputs": [
    {
     "name": "stdout",
     "output_type": "stream",
     "text": [
      "Requirement already satisfied: pandas in c:\\users\\cyril\\anaconda3\\lib\\site-packages (1.4.1)\n",
      "Requirement already satisfied: pytz>=2020.1 in c:\\users\\cyril\\anaconda3\\lib\\site-packages (from pandas) (2021.3)\n",
      "Requirement already satisfied: python-dateutil>=2.8.1 in c:\\users\\cyril\\anaconda3\\lib\\site-packages (from pandas) (2.8.2)\n",
      "Requirement already satisfied: numpy>=1.18.5 in c:\\users\\cyril\\anaconda3\\lib\\site-packages (from pandas) (1.20.3)\n",
      "Requirement already satisfied: six>=1.5 in c:\\users\\cyril\\anaconda3\\lib\\site-packages (from python-dateutil>=2.8.1->pandas) (1.16.0)\n",
      "Note: you may need to restart the kernel to use updated packages.\n"
     ]
    }
   ],
   "source": [
    "pip install pandas"
   ]
  },
  {
   "cell_type": "code",
   "execution_count": 3,
   "id": "deda60cd",
   "metadata": {},
   "outputs": [],
   "source": [
    "# Chargement des modules :\n",
    "\n",
    "import matplotlib.pyplot as plt\n",
    "import pandas as pd\n",
    "import numpy as np\n",
    "import seaborn as sns"
   ]
  },
  {
   "cell_type": "markdown",
   "id": "4f60f812",
   "metadata": {},
   "source": [
    "# 1 / Chargement des données :\n",
    "### df_erp\n",
    "### df_liaison\n",
    "### df_web"
   ]
  },
  {
   "cell_type": "code",
   "execution_count": 4,
   "id": "c7ce61ce",
   "metadata": {},
   "outputs": [
    {
     "name": "stderr",
     "output_type": "stream",
     "text": [
      "C:\\Users\\cyril\\anaconda3\\lib\\site-packages\\openpyxl\\worksheet\\_reader.py:312: UserWarning: Unknown extension is not supported and will be removed\n",
      "  warn(msg)\n"
     ]
    }
   ],
   "source": [
    "# ********************************************************\n",
    "# Chargement des données de df_erp :\n",
    "df_erp = pd.read_excel(\"erp.xlsx\")"
   ]
  },
  {
   "cell_type": "code",
   "execution_count": 5,
   "id": "b254cda5",
   "metadata": {},
   "outputs": [
    {
     "data": {
      "text/html": [
       "<div>\n",
       "<style scoped>\n",
       "    .dataframe tbody tr th:only-of-type {\n",
       "        vertical-align: middle;\n",
       "    }\n",
       "\n",
       "    .dataframe tbody tr th {\n",
       "        vertical-align: top;\n",
       "    }\n",
       "\n",
       "    .dataframe thead th {\n",
       "        text-align: right;\n",
       "    }\n",
       "</style>\n",
       "<table border=\"1\" class=\"dataframe\">\n",
       "  <thead>\n",
       "    <tr style=\"text-align: right;\">\n",
       "      <th></th>\n",
       "      <th>product_id</th>\n",
       "      <th>onsale_web</th>\n",
       "      <th>price</th>\n",
       "      <th>stock_quantity</th>\n",
       "      <th>stock_status</th>\n",
       "    </tr>\n",
       "  </thead>\n",
       "  <tbody>\n",
       "    <tr>\n",
       "      <th>0</th>\n",
       "      <td>3847</td>\n",
       "      <td>1</td>\n",
       "      <td>24.2</td>\n",
       "      <td>0</td>\n",
       "      <td>outofstock</td>\n",
       "    </tr>\n",
       "    <tr>\n",
       "      <th>1</th>\n",
       "      <td>3849</td>\n",
       "      <td>1</td>\n",
       "      <td>34.3</td>\n",
       "      <td>0</td>\n",
       "      <td>outofstock</td>\n",
       "    </tr>\n",
       "    <tr>\n",
       "      <th>2</th>\n",
       "      <td>3850</td>\n",
       "      <td>1</td>\n",
       "      <td>20.8</td>\n",
       "      <td>0</td>\n",
       "      <td>outofstock</td>\n",
       "    </tr>\n",
       "    <tr>\n",
       "      <th>3</th>\n",
       "      <td>4032</td>\n",
       "      <td>1</td>\n",
       "      <td>14.1</td>\n",
       "      <td>0</td>\n",
       "      <td>outofstock</td>\n",
       "    </tr>\n",
       "    <tr>\n",
       "      <th>4</th>\n",
       "      <td>4039</td>\n",
       "      <td>1</td>\n",
       "      <td>46.0</td>\n",
       "      <td>0</td>\n",
       "      <td>outofstock</td>\n",
       "    </tr>\n",
       "    <tr>\n",
       "      <th>...</th>\n",
       "      <td>...</td>\n",
       "      <td>...</td>\n",
       "      <td>...</td>\n",
       "      <td>...</td>\n",
       "      <td>...</td>\n",
       "    </tr>\n",
       "    <tr>\n",
       "      <th>820</th>\n",
       "      <td>7203</td>\n",
       "      <td>0</td>\n",
       "      <td>45.0</td>\n",
       "      <td>30</td>\n",
       "      <td>instock</td>\n",
       "    </tr>\n",
       "    <tr>\n",
       "      <th>821</th>\n",
       "      <td>7204</td>\n",
       "      <td>0</td>\n",
       "      <td>45.0</td>\n",
       "      <td>9</td>\n",
       "      <td>instock</td>\n",
       "    </tr>\n",
       "    <tr>\n",
       "      <th>822</th>\n",
       "      <td>7247</td>\n",
       "      <td>1</td>\n",
       "      <td>54.8</td>\n",
       "      <td>23</td>\n",
       "      <td>instock</td>\n",
       "    </tr>\n",
       "    <tr>\n",
       "      <th>823</th>\n",
       "      <td>7329</td>\n",
       "      <td>0</td>\n",
       "      <td>26.5</td>\n",
       "      <td>14</td>\n",
       "      <td>instock</td>\n",
       "    </tr>\n",
       "    <tr>\n",
       "      <th>824</th>\n",
       "      <td>7338</td>\n",
       "      <td>1</td>\n",
       "      <td>16.3</td>\n",
       "      <td>45</td>\n",
       "      <td>instock</td>\n",
       "    </tr>\n",
       "  </tbody>\n",
       "</table>\n",
       "<p>825 rows × 5 columns</p>\n",
       "</div>"
      ],
      "text/plain": [
       "     product_id  onsale_web  price  stock_quantity stock_status\n",
       "0          3847           1   24.2               0   outofstock\n",
       "1          3849           1   34.3               0   outofstock\n",
       "2          3850           1   20.8               0   outofstock\n",
       "3          4032           1   14.1               0   outofstock\n",
       "4          4039           1   46.0               0   outofstock\n",
       "..          ...         ...    ...             ...          ...\n",
       "820        7203           0   45.0              30      instock\n",
       "821        7204           0   45.0               9      instock\n",
       "822        7247           1   54.8              23      instock\n",
       "823        7329           0   26.5              14      instock\n",
       "824        7338           1   16.3              45      instock\n",
       "\n",
       "[825 rows x 5 columns]"
      ]
     },
     "execution_count": 5,
     "metadata": {},
     "output_type": "execute_result"
    }
   ],
   "source": [
    "df_erp.sort_values('product_id',ascending= True)"
   ]
  },
  {
   "cell_type": "code",
   "execution_count": 6,
   "id": "b15e0523",
   "metadata": {},
   "outputs": [
    {
     "data": {
      "text/plain": [
       "<AxesSubplot:ylabel='None'>"
      ]
     },
     "execution_count": 6,
     "metadata": {},
     "output_type": "execute_result"
    },
    {
     "data": {
      "image/png": "[encoded data removed]",
      "text/plain": [
       "<Figure size 432x288 with 1 Axes>"
      ]
     },
     "metadata": {},
     "output_type": "display_data"
    }
   ],
   "source": [
    "df_erp.dtypes.value_counts().plot.pie()"
   ]
  },
  {
   "cell_type": "markdown",
   "id": "6b2bdab5",
   "metadata": {},
   "source": [
    "# df_erp : Visualisation des NaN "
   ]
  },
  {
   "cell_type": "code",
   "execution_count": 7,
   "id": "b2bee9ac",
   "metadata": {},
   "outputs": [
    {
     "data": {
      "text/plain": [
       "<AxesSubplot:>"
      ]
     },
     "execution_count": 7,
     "metadata": {},
     "output_type": "execute_result"
    },
    {
     "data": {
      "image/png": "[encoded data removed]",
      "text/plain": [
       "<Figure size 1440x720 with 1 Axes>"
      ]
     },
     "metadata": {
      "needs_background": "light"
     },
     "output_type": "display_data"
    }
   ],
   "source": [
    "plt.figure(figsize=(20,10))\n",
    "sns.heatmap(df_erp.isna(), cbar=False)"
   ]
  },
  {
   "cell_type": "code",
   "execution_count": 8,
   "id": "3fa18658",
   "metadata": {},
   "outputs": [
    {
     "data": {
      "text/plain": [
       "product_id        0.0\n",
       "onsale_web        0.0\n",
       "price             0.0\n",
       "stock_quantity    0.0\n",
       "stock_status      0.0\n",
       "dtype: float64"
      ]
     },
     "execution_count": 8,
     "metadata": {},
     "output_type": "execute_result"
    }
   ],
   "source": [
    "(df_erp.isna().sum()/df_erp.shape[0]).sort_values(ascending=True)"
   ]
  },
  {
   "cell_type": "markdown",
   "id": "c092fe72",
   "metadata": {},
   "source": [
    "## df_ERP : Aucun NaN"
   ]
  },
  {
   "cell_type": "code",
   "execution_count": 9,
   "id": "5addd5fb",
   "metadata": {},
   "outputs": [
    {
     "name": "stderr",
     "output_type": "stream",
     "text": [
      "C:\\Users\\cyril\\anaconda3\\lib\\site-packages\\openpyxl\\worksheet\\_reader.py:312: UserWarning: Unknown extension is not supported and will be removed\n",
      "  warn(msg)\n"
     ]
    }
   ],
   "source": [
    "# *************************************************************\n",
    "# Chargement des données de df_liaison :\n",
    "\n",
    "df_liaison = pd.read_excel(\"liaison.xlsx\")"
   ]
  },
  {
   "cell_type": "code",
   "execution_count": 10,
   "id": "089d79ce",
   "metadata": {},
   "outputs": [
    {
     "data": {
      "text/plain": [
       "<AxesSubplot:ylabel='None'>"
      ]
     },
     "execution_count": 10,
     "metadata": {},
     "output_type": "execute_result"
    },
    {
     "data": {
      "image/png": "[encoded data removed]",
      "text/plain": [
       "<Figure size 432x288 with 1 Axes>"
      ]
     },
     "metadata": {},
     "output_type": "display_data"
    }
   ],
   "source": [
    "df_liaison.dtypes.value_counts().plot.pie()"
   ]
  },
  {
   "cell_type": "code",
   "execution_count": 11,
   "id": "716835e3",
   "metadata": {},
   "outputs": [
    {
     "data": {
      "text/html": [
       "<div>\n",
       "<style scoped>\n",
       "    .dataframe tbody tr th:only-of-type {\n",
       "        vertical-align: middle;\n",
       "    }\n",
       "\n",
       "    .dataframe tbody tr th {\n",
       "        vertical-align: top;\n",
       "    }\n",
       "\n",
       "    .dataframe thead th {\n",
       "        text-align: right;\n",
       "    }\n",
       "</style>\n",
       "<table border=\"1\" class=\"dataframe\">\n",
       "  <thead>\n",
       "    <tr style=\"text-align: right;\">\n",
       "      <th></th>\n",
       "      <th>product_id</th>\n",
       "      <th>id_web</th>\n",
       "    </tr>\n",
       "  </thead>\n",
       "  <tbody>\n",
       "    <tr>\n",
       "      <th>0</th>\n",
       "      <td>3847</td>\n",
       "      <td>15298</td>\n",
       "    </tr>\n",
       "    <tr>\n",
       "      <th>1</th>\n",
       "      <td>3849</td>\n",
       "      <td>15296</td>\n",
       "    </tr>\n",
       "    <tr>\n",
       "      <th>2</th>\n",
       "      <td>3850</td>\n",
       "      <td>15300</td>\n",
       "    </tr>\n",
       "    <tr>\n",
       "      <th>3</th>\n",
       "      <td>4032</td>\n",
       "      <td>19814</td>\n",
       "    </tr>\n",
       "    <tr>\n",
       "      <th>4</th>\n",
       "      <td>4039</td>\n",
       "      <td>19815</td>\n",
       "    </tr>\n",
       "    <tr>\n",
       "      <th>...</th>\n",
       "      <td>...</td>\n",
       "      <td>...</td>\n",
       "    </tr>\n",
       "    <tr>\n",
       "      <th>820</th>\n",
       "      <td>7203</td>\n",
       "      <td>NaN</td>\n",
       "    </tr>\n",
       "    <tr>\n",
       "      <th>821</th>\n",
       "      <td>7204</td>\n",
       "      <td>NaN</td>\n",
       "    </tr>\n",
       "    <tr>\n",
       "      <th>822</th>\n",
       "      <td>7247</td>\n",
       "      <td>13127-1</td>\n",
       "    </tr>\n",
       "    <tr>\n",
       "      <th>823</th>\n",
       "      <td>7329</td>\n",
       "      <td>14680-1</td>\n",
       "    </tr>\n",
       "    <tr>\n",
       "      <th>824</th>\n",
       "      <td>7338</td>\n",
       "      <td>16230</td>\n",
       "    </tr>\n",
       "  </tbody>\n",
       "</table>\n",
       "<p>825 rows × 2 columns</p>\n",
       "</div>"
      ],
      "text/plain": [
       "     product_id   id_web\n",
       "0          3847    15298\n",
       "1          3849    15296\n",
       "2          3850    15300\n",
       "3          4032    19814\n",
       "4          4039    19815\n",
       "..          ...      ...\n",
       "820        7203      NaN\n",
       "821        7204      NaN\n",
       "822        7247  13127-1\n",
       "823        7329  14680-1\n",
       "824        7338    16230\n",
       "\n",
       "[825 rows x 2 columns]"
      ]
     },
     "execution_count": 11,
     "metadata": {},
     "output_type": "execute_result"
    }
   ],
   "source": [
    "df_liaison"
   ]
  },
  {
   "cell_type": "markdown",
   "id": "e68c6c4b",
   "metadata": {},
   "source": [
    "# df_liaison : Visualisation des NaN"
   ]
  },
  {
   "cell_type": "code",
   "execution_count": 12,
   "id": "97182252",
   "metadata": {},
   "outputs": [
    {
     "data": {
      "text/plain": [
       "<AxesSubplot:>"
      ]
     },
     "execution_count": 12,
     "metadata": {},
     "output_type": "execute_result"
    },
    {
     "data": {
      "image/png": "[encoded data removed]",
      "text/plain": [
       "<Figure size 1440x720 with 1 Axes>"
      ]
     },
     "metadata": {
      "needs_background": "light"
     },
     "output_type": "display_data"
    }
   ],
   "source": [
    "plt.figure(figsize=(20,10))\n",
    "sns.heatmap(df_liaison.isna(), cbar=False)"
   ]
  },
  {
   "cell_type": "code",
   "execution_count": 13,
   "id": "f113063f",
   "metadata": {},
   "outputs": [
    {
     "data": {
      "text/plain": [
       "product_id    0.000000\n",
       "id_web        0.110303\n",
       "dtype: float64"
      ]
     },
     "execution_count": 13,
     "metadata": {},
     "output_type": "execute_result"
    }
   ],
   "source": [
    "(df_liaison.isna().sum()/df_liaison.shape[0]).sort_values(ascending=True)"
   ]
  },
  {
   "cell_type": "markdown",
   "id": "9ed41ac0",
   "metadata": {},
   "source": [
    "# - PROBLÈME REPÉRÉ ! -"
   ]
  },
  {
   "cell_type": "markdown",
   "id": "fefa7a01",
   "metadata": {},
   "source": [
    "# Cause : \n",
    "\n",
    "## table Liaison :11,03% des données de la colonne id_web vides.\n",
    "\n",
    "# Conséquence :\n",
    "\n",
    "## Possibilité de \"stock dormant\", produits en stocks sur lesquels il n'y a pas de communication web."
   ]
  },
  {
   "cell_type": "markdown",
   "id": "59f58ed6",
   "metadata": {},
   "source": [
    "# Nous vérifierons ca ensuite."
   ]
  },
  {
   "cell_type": "code",
   "execution_count": 14,
   "id": "bbc02c43",
   "metadata": {},
   "outputs": [
    {
     "name": "stderr",
     "output_type": "stream",
     "text": [
      "C:\\Users\\cyril\\anaconda3\\lib\\site-packages\\openpyxl\\worksheet\\_reader.py:312: UserWarning: Unknown extension is not supported and will be removed\n",
      "  warn(msg)\n"
     ]
    }
   ],
   "source": [
    "# **************************************************************************\n",
    "# Chargement des données df_web :\n",
    "df_web = pd.read_excel(\"web.xlsx\")"
   ]
  },
  {
   "cell_type": "code",
   "execution_count": 15,
   "id": "344f5697",
   "metadata": {},
   "outputs": [
    {
     "data": {
      "text/html": [
       "<div>\n",
       "<style scoped>\n",
       "    .dataframe tbody tr th:only-of-type {\n",
       "        vertical-align: middle;\n",
       "    }\n",
       "\n",
       "    .dataframe tbody tr th {\n",
       "        vertical-align: top;\n",
       "    }\n",
       "\n",
       "    .dataframe thead th {\n",
       "        text-align: right;\n",
       "    }\n",
       "</style>\n",
       "<table border=\"1\" class=\"dataframe\">\n",
       "  <thead>\n",
       "    <tr style=\"text-align: right;\">\n",
       "      <th></th>\n",
       "      <th>sku</th>\n",
       "      <th>virtual</th>\n",
       "      <th>downloadable</th>\n",
       "      <th>rating_count</th>\n",
       "      <th>average_rating</th>\n",
       "      <th>total_sales</th>\n",
       "      <th>tax_status</th>\n",
       "      <th>tax_class</th>\n",
       "      <th>post_author</th>\n",
       "      <th>post_date</th>\n",
       "      <th>...</th>\n",
       "      <th>post_name</th>\n",
       "      <th>post_modified</th>\n",
       "      <th>post_modified_gmt</th>\n",
       "      <th>post_content_filtered</th>\n",
       "      <th>post_parent</th>\n",
       "      <th>guid</th>\n",
       "      <th>menu_order</th>\n",
       "      <th>post_type</th>\n",
       "      <th>post_mime_type</th>\n",
       "      <th>comment_count</th>\n",
       "    </tr>\n",
       "  </thead>\n",
       "  <tbody>\n",
       "    <tr>\n",
       "      <th>0</th>\n",
       "      <td>bon-cadeau-25-euros</td>\n",
       "      <td>0</td>\n",
       "      <td>0</td>\n",
       "      <td>0</td>\n",
       "      <td>0.0</td>\n",
       "      <td>10.0</td>\n",
       "      <td>taxable</td>\n",
       "      <td>NaN</td>\n",
       "      <td>1.0</td>\n",
       "      <td>2018-06-01 13:53:46</td>\n",
       "      <td>...</td>\n",
       "      <td>bon-cadeau-de-25-euros</td>\n",
       "      <td>2018-06-01 14:13:57</td>\n",
       "      <td>2018-06-01 12:13:57</td>\n",
       "      <td>NaN</td>\n",
       "      <td>0.0</td>\n",
       "      <td>https://www.bottle-neck.fr/?post_type=product&amp;...</td>\n",
       "      <td>0.0</td>\n",
       "      <td>product</td>\n",
       "      <td>NaN</td>\n",
       "      <td>0.0</td>\n",
       "    </tr>\n",
       "    <tr>\n",
       "      <th>1</th>\n",
       "      <td>15298</td>\n",
       "      <td>0</td>\n",
       "      <td>0</td>\n",
       "      <td>0</td>\n",
       "      <td>0.0</td>\n",
       "      <td>6.0</td>\n",
       "      <td>taxable</td>\n",
       "      <td>NaN</td>\n",
       "      <td>2.0</td>\n",
       "      <td>2018-02-08 12:58:52</td>\n",
       "      <td>...</td>\n",
       "      <td>pierre-jean-villa-saint-joseph-preface-2018</td>\n",
       "      <td>2019-12-30 09:30:29</td>\n",
       "      <td>2019-12-30 08:30:29</td>\n",
       "      <td>NaN</td>\n",
       "      <td>0.0</td>\n",
       "      <td>https://www.bottle-neck.fr/?post_type=product&amp;...</td>\n",
       "      <td>0.0</td>\n",
       "      <td>product</td>\n",
       "      <td>NaN</td>\n",
       "      <td>0.0</td>\n",
       "    </tr>\n",
       "    <tr>\n",
       "      <th>2</th>\n",
       "      <td>15296</td>\n",
       "      <td>0</td>\n",
       "      <td>0</td>\n",
       "      <td>0</td>\n",
       "      <td>0.0</td>\n",
       "      <td>0.0</td>\n",
       "      <td>taxable</td>\n",
       "      <td>NaN</td>\n",
       "      <td>2.0</td>\n",
       "      <td>2018-02-08 13:49:41</td>\n",
       "      <td>...</td>\n",
       "      <td>pierre-jean-villa-saint-joseph-tilde-2017</td>\n",
       "      <td>2019-12-21 09:00:17</td>\n",
       "      <td>2019-12-21 08:00:17</td>\n",
       "      <td>NaN</td>\n",
       "      <td>0.0</td>\n",
       "      <td>https://www.bottle-neck.fr/?post_type=product&amp;...</td>\n",
       "      <td>0.0</td>\n",
       "      <td>product</td>\n",
       "      <td>NaN</td>\n",
       "      <td>0.0</td>\n",
       "    </tr>\n",
       "  </tbody>\n",
       "</table>\n",
       "<p>3 rows × 28 columns</p>\n",
       "</div>"
      ],
      "text/plain": [
       "                   sku  virtual  downloadable  rating_count  average_rating  \\\n",
       "0  bon-cadeau-25-euros        0             0             0             0.0   \n",
       "1                15298        0             0             0             0.0   \n",
       "2                15296        0             0             0             0.0   \n",
       "\n",
       "   total_sales tax_status  tax_class  post_author           post_date  ...  \\\n",
       "0         10.0    taxable        NaN          1.0 2018-06-01 13:53:46  ...   \n",
       "1          6.0    taxable        NaN          2.0 2018-02-08 12:58:52  ...   \n",
       "2          0.0    taxable        NaN          2.0 2018-02-08 13:49:41  ...   \n",
       "\n",
       "                                     post_name       post_modified  \\\n",
       "0                       bon-cadeau-de-25-euros 2018-06-01 14:13:57   \n",
       "1  pierre-jean-villa-saint-joseph-preface-2018 2019-12-30 09:30:29   \n",
       "2    pierre-jean-villa-saint-joseph-tilde-2017 2019-12-21 09:00:17   \n",
       "\n",
       "    post_modified_gmt post_content_filtered post_parent  \\\n",
       "0 2018-06-01 12:13:57                   NaN         0.0   \n",
       "1 2019-12-30 08:30:29                   NaN         0.0   \n",
       "2 2019-12-21 08:00:17                   NaN         0.0   \n",
       "\n",
       "                                                guid menu_order  post_type  \\\n",
       "0  https://www.bottle-neck.fr/?post_type=product&...        0.0    product   \n",
       "1  https://www.bottle-neck.fr/?post_type=product&...        0.0    product   \n",
       "2  https://www.bottle-neck.fr/?post_type=product&...        0.0    product   \n",
       "\n",
       "  post_mime_type comment_count  \n",
       "0            NaN           0.0  \n",
       "1            NaN           0.0  \n",
       "2            NaN           0.0  \n",
       "\n",
       "[3 rows x 28 columns]"
      ]
     },
     "execution_count": 15,
     "metadata": {},
     "output_type": "execute_result"
    }
   ],
   "source": [
    "df_web.head(3)"
   ]
  },
  {
   "cell_type": "code",
   "execution_count": 16,
   "id": "05e8d0f6",
   "metadata": {},
   "outputs": [
    {
     "data": {
      "text/plain": [
       "<AxesSubplot:ylabel='None'>"
      ]
     },
     "execution_count": 16,
     "metadata": {},
     "output_type": "execute_result"
    },
    {
     "data": {
      "image/png": "[encoded data removed]",
      "text/plain": [
       "<Figure size 432x288 with 1 Axes>"
      ]
     },
     "metadata": {},
     "output_type": "display_data"
    }
   ],
   "source": [
    "df_web.dtypes.value_counts().plot.pie()"
   ]
  },
  {
   "cell_type": "markdown",
   "id": "0d855256",
   "metadata": {},
   "source": [
    "# Constatation :\n",
    "## Des données DateTime sont disponibles, nous pourrons peut-être extraire des informations temporelles"
   ]
  },
  {
   "cell_type": "code",
   "execution_count": 17,
   "id": "e4cead3c",
   "metadata": {},
   "outputs": [],
   "source": [
    "# import du module\n",
    "import datetime"
   ]
  },
  {
   "cell_type": "code",
   "execution_count": 18,
   "id": "0fdd1812",
   "metadata": {},
   "outputs": [
    {
     "data": {
      "text/plain": [
       "<AxesSubplot:ylabel='post_type'>"
      ]
     },
     "execution_count": 18,
     "metadata": {},
     "output_type": "execute_result"
    },
    {
     "data": {
      "image/png": "[encoded data removed]",
      "text/plain": [
       "<Figure size 432x288 with 1 Axes>"
      ]
     },
     "metadata": {},
     "output_type": "display_data"
    }
   ],
   "source": [
    "# Analyse des product / attachment dans df_web colonne post_type :\n",
    "df_web.post_type.value_counts().plot.pie()"
   ]
  },
  {
   "cell_type": "code",
   "execution_count": 19,
   "id": "84d70fb0",
   "metadata": {},
   "outputs": [
    {
     "data": {
      "text/plain": [
       "array(['product', nan, 'attachment'], dtype=object)"
      ]
     },
     "execution_count": 19,
     "metadata": {},
     "output_type": "execute_result"
    }
   ],
   "source": [
    "# Vérification sur colonne post_type :\n",
    "df_web.post_type.unique()\n",
    "\n",
    "# nan = Des traitements à réaliser"
   ]
  },
  {
   "cell_type": "code",
   "execution_count": 20,
   "id": "6ef099cc",
   "metadata": {},
   "outputs": [
    {
     "data": {
      "text/plain": [
       "<AxesSubplot:ylabel='post_type'>"
      ]
     },
     "execution_count": 20,
     "metadata": {},
     "output_type": "execute_result"
    },
    {
     "data": {
      "image/png": "[encoded data removed]",
      "text/plain": [
       "<Figure size 432x288 with 1 Axes>"
      ]
     },
     "metadata": {},
     "output_type": "display_data"
    }
   ],
   "source": [
    "# Analyse des NaN dans post_type :\n",
    "df_web.post_type.isna().value_counts().plot.pie()"
   ]
  },
  {
   "cell_type": "markdown",
   "id": "f5566450",
   "metadata": {},
   "source": [
    "# df_web : Visualisation des NaN "
   ]
  },
  {
   "cell_type": "code",
   "execution_count": 21,
   "id": "c0bd40db",
   "metadata": {},
   "outputs": [
    {
     "data": {
      "text/plain": [
       "<AxesSubplot:>"
      ]
     },
     "execution_count": 21,
     "metadata": {},
     "output_type": "execute_result"
    },
    {
     "data": {
      "image/png": "[encoded data removed]",
      "text/plain": [
       "<Figure size 1440x720 with 1 Axes>"
      ]
     },
     "metadata": {
      "needs_background": "light"
     },
     "output_type": "display_data"
    }
   ],
   "source": [
    "plt.figure(figsize=(20,10))\n",
    "sns.heatmap(df_web.isna(), cbar=False)"
   ]
  },
  {
   "cell_type": "code",
   "execution_count": 22,
   "id": "46c41b44",
   "metadata": {},
   "outputs": [],
   "source": [
    "# Des colonnes sont vides, on les traite :"
   ]
  },
  {
   "cell_type": "code",
   "execution_count": 23,
   "id": "e180ac0c",
   "metadata": {},
   "outputs": [
    {
     "data": {
      "text/plain": [
       "virtual                  0.000000\n",
       "downloadable             0.000000\n",
       "rating_count             0.000000\n",
       "comment_count            0.054858\n",
       "post_modified_gmt        0.054858\n",
       "ping_status              0.054858\n",
       "comment_status           0.054858\n",
       "post_status              0.054858\n",
       "post_parent              0.054858\n",
       "post_title               0.054858\n",
       "guid                     0.054858\n",
       "post_date                0.054858\n",
       "post_name                0.054858\n",
       "post_author              0.054858\n",
       "menu_order               0.054858\n",
       "post_type                0.054858\n",
       "total_sales              0.054858\n",
       "average_rating           0.054858\n",
       "post_date_gmt            0.054858\n",
       "post_modified            0.054858\n",
       "sku                      0.056180\n",
       "tax_status               0.526768\n",
       "post_excerpt             0.526768\n",
       "post_mime_type           0.528090\n",
       "post_content_filtered    1.000000\n",
       "post_content             1.000000\n",
       "tax_class                1.000000\n",
       "post_password            1.000000\n",
       "dtype: float64"
      ]
     },
     "execution_count": 23,
     "metadata": {},
     "output_type": "execute_result"
    }
   ],
   "source": [
    "# Comptage des % de Nan à l'intérieur des colonnes de df_web :\n",
    "(df_web.isna().sum()/df_web.shape[0]).sort_values(ascending=True)"
   ]
  },
  {
   "cell_type": "code",
   "execution_count": 24,
   "id": "c2117f75",
   "metadata": {},
   "outputs": [],
   "source": [
    "# Suppression des colonnes sans information :\n",
    "df_web = df_web.drop(columns=['post_content_filtered','post_content','tax_class','post_password'])"
   ]
  },
  {
   "cell_type": "code",
   "execution_count": 25,
   "id": "07726c0d",
   "metadata": {},
   "outputs": [
    {
     "data": {
      "text/plain": [
       "Index(['sku', 'virtual', 'downloadable', 'rating_count', 'average_rating',\n",
       "       'total_sales', 'tax_status', 'post_author', 'post_date',\n",
       "       'post_date_gmt', 'post_title', 'post_excerpt', 'post_status',\n",
       "       'comment_status', 'ping_status', 'post_name', 'post_modified',\n",
       "       'post_modified_gmt', 'post_parent', 'guid', 'menu_order', 'post_type',\n",
       "       'post_mime_type', 'comment_count'],\n",
       "      dtype='object')"
      ]
     },
     "execution_count": 25,
     "metadata": {},
     "output_type": "execute_result"
    }
   ],
   "source": [
    "df_web.columns\n",
    "# Vérif colonnes/Extraction variables pour copier/coller fonctionnels"
   ]
  },
  {
   "cell_type": "markdown",
   "id": "4c4c4f37",
   "metadata": {},
   "source": [
    "# df_web : Visualisation actualisée"
   ]
  },
  {
   "cell_type": "code",
   "execution_count": 26,
   "id": "07de1881",
   "metadata": {},
   "outputs": [
    {
     "data": {
      "text/plain": [
       "<AxesSubplot:>"
      ]
     },
     "execution_count": 26,
     "metadata": {},
     "output_type": "execute_result"
    },
    {
     "data": {
      "image/png": "[encoded data removed]",
      "text/plain": [
       "<Figure size 1440x720 with 1 Axes>"
      ]
     },
     "metadata": {
      "needs_background": "light"
     },
     "output_type": "display_data"
    }
   ],
   "source": [
    "plt.figure(figsize=(20,10))\n",
    "sns.heatmap(df_web.isna(), cbar=False)"
   ]
  },
  {
   "cell_type": "code",
   "execution_count": 27,
   "id": "038424b3",
   "metadata": {},
   "outputs": [],
   "source": [
    "# On renomme la colonne sku en id_web :\n",
    "\n",
    "df_web = df_web.rename(columns={'sku':'id_web'})"
   ]
  },
  {
   "cell_type": "code",
   "execution_count": 28,
   "id": "8548101f",
   "metadata": {},
   "outputs": [
    {
     "data": {
      "text/plain": [
       "(1513, 24)"
      ]
     },
     "execution_count": 28,
     "metadata": {},
     "output_type": "execute_result"
    }
   ],
   "source": [
    "df_web.shape"
   ]
  },
  {
   "cell_type": "markdown",
   "id": "21fde3ab",
   "metadata": {},
   "source": [
    "# RECOMMANDATIONS :"
   ]
  },
  {
   "cell_type": "code",
   "execution_count": 29,
   "id": "786ebaec",
   "metadata": {},
   "outputs": [
    {
     "data": {
      "text/html": [
       "<div>\n",
       "<style scoped>\n",
       "    .dataframe tbody tr th:only-of-type {\n",
       "        vertical-align: middle;\n",
       "    }\n",
       "\n",
       "    .dataframe tbody tr th {\n",
       "        vertical-align: top;\n",
       "    }\n",
       "\n",
       "    .dataframe thead th {\n",
       "        text-align: right;\n",
       "    }\n",
       "</style>\n",
       "<table border=\"1\" class=\"dataframe\">\n",
       "  <thead>\n",
       "    <tr style=\"text-align: right;\">\n",
       "      <th></th>\n",
       "      <th>product_id</th>\n",
       "      <th>id_web</th>\n",
       "    </tr>\n",
       "  </thead>\n",
       "  <tbody>\n",
       "    <tr>\n",
       "      <th>19</th>\n",
       "      <td>4055</td>\n",
       "      <td>NaN</td>\n",
       "    </tr>\n",
       "    <tr>\n",
       "      <th>49</th>\n",
       "      <td>4090</td>\n",
       "      <td>NaN</td>\n",
       "    </tr>\n",
       "    <tr>\n",
       "      <th>50</th>\n",
       "      <td>4092</td>\n",
       "      <td>NaN</td>\n",
       "    </tr>\n",
       "    <tr>\n",
       "      <th>119</th>\n",
       "      <td>4195</td>\n",
       "      <td>NaN</td>\n",
       "    </tr>\n",
       "    <tr>\n",
       "      <th>131</th>\n",
       "      <td>4209</td>\n",
       "      <td>NaN</td>\n",
       "    </tr>\n",
       "    <tr>\n",
       "      <th>...</th>\n",
       "      <td>...</td>\n",
       "      <td>...</td>\n",
       "    </tr>\n",
       "    <tr>\n",
       "      <th>817</th>\n",
       "      <td>7196</td>\n",
       "      <td>NaN</td>\n",
       "    </tr>\n",
       "    <tr>\n",
       "      <th>818</th>\n",
       "      <td>7200</td>\n",
       "      <td>NaN</td>\n",
       "    </tr>\n",
       "    <tr>\n",
       "      <th>819</th>\n",
       "      <td>7201</td>\n",
       "      <td>NaN</td>\n",
       "    </tr>\n",
       "    <tr>\n",
       "      <th>820</th>\n",
       "      <td>7203</td>\n",
       "      <td>NaN</td>\n",
       "    </tr>\n",
       "    <tr>\n",
       "      <th>821</th>\n",
       "      <td>7204</td>\n",
       "      <td>NaN</td>\n",
       "    </tr>\n",
       "  </tbody>\n",
       "</table>\n",
       "<p>91 rows × 2 columns</p>\n",
       "</div>"
      ],
      "text/plain": [
       "     product_id id_web\n",
       "19         4055    NaN\n",
       "49         4090    NaN\n",
       "50         4092    NaN\n",
       "119        4195    NaN\n",
       "131        4209    NaN\n",
       "..          ...    ...\n",
       "817        7196    NaN\n",
       "818        7200    NaN\n",
       "819        7201    NaN\n",
       "820        7203    NaN\n",
       "821        7204    NaN\n",
       "\n",
       "[91 rows x 2 columns]"
      ]
     },
     "execution_count": 29,
     "metadata": {},
     "output_type": "execute_result"
    }
   ],
   "source": [
    "# Extraction des product_id sans liens id_web :\n",
    "df_liaisons_vides = df_liaison.loc[df_liaison.id_web.isna(),: ]\n",
    "df_liaisons_vides"
   ]
  },
  {
   "cell_type": "code",
   "execution_count": 30,
   "id": "feaa0386",
   "metadata": {},
   "outputs": [
    {
     "data": {
      "text/html": [
       "<div>\n",
       "<style scoped>\n",
       "    .dataframe tbody tr th:only-of-type {\n",
       "        vertical-align: middle;\n",
       "    }\n",
       "\n",
       "    .dataframe tbody tr th {\n",
       "        vertical-align: top;\n",
       "    }\n",
       "\n",
       "    .dataframe thead th {\n",
       "        text-align: right;\n",
       "    }\n",
       "</style>\n",
       "<table border=\"1\" class=\"dataframe\">\n",
       "  <thead>\n",
       "    <tr style=\"text-align: right;\">\n",
       "      <th></th>\n",
       "      <th>product_id</th>\n",
       "      <th>onsale_web</th>\n",
       "      <th>price</th>\n",
       "      <th>stock_quantity</th>\n",
       "      <th>stock_status</th>\n",
       "    </tr>\n",
       "  </thead>\n",
       "  <tbody>\n",
       "    <tr>\n",
       "      <th>0</th>\n",
       "      <td>3847</td>\n",
       "      <td>1</td>\n",
       "      <td>24.2</td>\n",
       "      <td>0</td>\n",
       "      <td>outofstock</td>\n",
       "    </tr>\n",
       "    <tr>\n",
       "      <th>1</th>\n",
       "      <td>3849</td>\n",
       "      <td>1</td>\n",
       "      <td>34.3</td>\n",
       "      <td>0</td>\n",
       "      <td>outofstock</td>\n",
       "    </tr>\n",
       "    <tr>\n",
       "      <th>2</th>\n",
       "      <td>3850</td>\n",
       "      <td>1</td>\n",
       "      <td>20.8</td>\n",
       "      <td>0</td>\n",
       "      <td>outofstock</td>\n",
       "    </tr>\n",
       "    <tr>\n",
       "      <th>3</th>\n",
       "      <td>4032</td>\n",
       "      <td>1</td>\n",
       "      <td>14.1</td>\n",
       "      <td>0</td>\n",
       "      <td>outofstock</td>\n",
       "    </tr>\n",
       "    <tr>\n",
       "      <th>4</th>\n",
       "      <td>4039</td>\n",
       "      <td>1</td>\n",
       "      <td>46.0</td>\n",
       "      <td>0</td>\n",
       "      <td>outofstock</td>\n",
       "    </tr>\n",
       "    <tr>\n",
       "      <th>...</th>\n",
       "      <td>...</td>\n",
       "      <td>...</td>\n",
       "      <td>...</td>\n",
       "      <td>...</td>\n",
       "      <td>...</td>\n",
       "    </tr>\n",
       "    <tr>\n",
       "      <th>820</th>\n",
       "      <td>7203</td>\n",
       "      <td>0</td>\n",
       "      <td>45.0</td>\n",
       "      <td>30</td>\n",
       "      <td>instock</td>\n",
       "    </tr>\n",
       "    <tr>\n",
       "      <th>821</th>\n",
       "      <td>7204</td>\n",
       "      <td>0</td>\n",
       "      <td>45.0</td>\n",
       "      <td>9</td>\n",
       "      <td>instock</td>\n",
       "    </tr>\n",
       "    <tr>\n",
       "      <th>822</th>\n",
       "      <td>7247</td>\n",
       "      <td>1</td>\n",
       "      <td>54.8</td>\n",
       "      <td>23</td>\n",
       "      <td>instock</td>\n",
       "    </tr>\n",
       "    <tr>\n",
       "      <th>823</th>\n",
       "      <td>7329</td>\n",
       "      <td>0</td>\n",
       "      <td>26.5</td>\n",
       "      <td>14</td>\n",
       "      <td>instock</td>\n",
       "    </tr>\n",
       "    <tr>\n",
       "      <th>824</th>\n",
       "      <td>7338</td>\n",
       "      <td>1</td>\n",
       "      <td>16.3</td>\n",
       "      <td>45</td>\n",
       "      <td>instock</td>\n",
       "    </tr>\n",
       "  </tbody>\n",
       "</table>\n",
       "<p>825 rows × 5 columns</p>\n",
       "</div>"
      ],
      "text/plain": [
       "     product_id  onsale_web  price  stock_quantity stock_status\n",
       "0          3847           1   24.2               0   outofstock\n",
       "1          3849           1   34.3               0   outofstock\n",
       "2          3850           1   20.8               0   outofstock\n",
       "3          4032           1   14.1               0   outofstock\n",
       "4          4039           1   46.0               0   outofstock\n",
       "..          ...         ...    ...             ...          ...\n",
       "820        7203           0   45.0              30      instock\n",
       "821        7204           0   45.0               9      instock\n",
       "822        7247           1   54.8              23      instock\n",
       "823        7329           0   26.5              14      instock\n",
       "824        7338           1   16.3              45      instock\n",
       "\n",
       "[825 rows x 5 columns]"
      ]
     },
     "execution_count": 30,
     "metadata": {},
     "output_type": "execute_result"
    }
   ],
   "source": [
    "# Contrôle rapide pré-fusion :\n",
    "df_erp"
   ]
  },
  {
   "cell_type": "code",
   "execution_count": 31,
   "id": "eb1cb22b",
   "metadata": {},
   "outputs": [
    {
     "data": {
      "text/html": [
       "<div>\n",
       "<style scoped>\n",
       "    .dataframe tbody tr th:only-of-type {\n",
       "        vertical-align: middle;\n",
       "    }\n",
       "\n",
       "    .dataframe tbody tr th {\n",
       "        vertical-align: top;\n",
       "    }\n",
       "\n",
       "    .dataframe thead th {\n",
       "        text-align: right;\n",
       "    }\n",
       "</style>\n",
       "<table border=\"1\" class=\"dataframe\">\n",
       "  <thead>\n",
       "    <tr style=\"text-align: right;\">\n",
       "      <th></th>\n",
       "      <th>id_web</th>\n",
       "      <th>virtual</th>\n",
       "      <th>downloadable</th>\n",
       "      <th>rating_count</th>\n",
       "      <th>average_rating</th>\n",
       "      <th>total_sales</th>\n",
       "      <th>tax_status</th>\n",
       "      <th>post_author</th>\n",
       "      <th>post_date</th>\n",
       "      <th>post_date_gmt</th>\n",
       "      <th>...</th>\n",
       "      <th>ping_status</th>\n",
       "      <th>post_name</th>\n",
       "      <th>post_modified</th>\n",
       "      <th>post_modified_gmt</th>\n",
       "      <th>post_parent</th>\n",
       "      <th>guid</th>\n",
       "      <th>menu_order</th>\n",
       "      <th>post_type</th>\n",
       "      <th>post_mime_type</th>\n",
       "      <th>comment_count</th>\n",
       "    </tr>\n",
       "  </thead>\n",
       "  <tbody>\n",
       "    <tr>\n",
       "      <th>0</th>\n",
       "      <td>bon-cadeau-25-euros</td>\n",
       "      <td>0</td>\n",
       "      <td>0</td>\n",
       "      <td>0</td>\n",
       "      <td>0.0</td>\n",
       "      <td>10.0</td>\n",
       "      <td>taxable</td>\n",
       "      <td>1.0</td>\n",
       "      <td>2018-06-01 13:53:46</td>\n",
       "      <td>2018-06-01 11:53:46</td>\n",
       "      <td>...</td>\n",
       "      <td>closed</td>\n",
       "      <td>bon-cadeau-de-25-euros</td>\n",
       "      <td>2018-06-01 14:13:57</td>\n",
       "      <td>2018-06-01 12:13:57</td>\n",
       "      <td>0.0</td>\n",
       "      <td>https://www.bottle-neck.fr/?post_type=product&amp;...</td>\n",
       "      <td>0.0</td>\n",
       "      <td>product</td>\n",
       "      <td>NaN</td>\n",
       "      <td>0.0</td>\n",
       "    </tr>\n",
       "    <tr>\n",
       "      <th>1</th>\n",
       "      <td>15298</td>\n",
       "      <td>0</td>\n",
       "      <td>0</td>\n",
       "      <td>0</td>\n",
       "      <td>0.0</td>\n",
       "      <td>6.0</td>\n",
       "      <td>taxable</td>\n",
       "      <td>2.0</td>\n",
       "      <td>2018-02-08 12:58:52</td>\n",
       "      <td>2018-02-08 11:58:52</td>\n",
       "      <td>...</td>\n",
       "      <td>closed</td>\n",
       "      <td>pierre-jean-villa-saint-joseph-preface-2018</td>\n",
       "      <td>2019-12-30 09:30:29</td>\n",
       "      <td>2019-12-30 08:30:29</td>\n",
       "      <td>0.0</td>\n",
       "      <td>https://www.bottle-neck.fr/?post_type=product&amp;...</td>\n",
       "      <td>0.0</td>\n",
       "      <td>product</td>\n",
       "      <td>NaN</td>\n",
       "      <td>0.0</td>\n",
       "    </tr>\n",
       "    <tr>\n",
       "      <th>2</th>\n",
       "      <td>15296</td>\n",
       "      <td>0</td>\n",
       "      <td>0</td>\n",
       "      <td>0</td>\n",
       "      <td>0.0</td>\n",
       "      <td>0.0</td>\n",
       "      <td>taxable</td>\n",
       "      <td>2.0</td>\n",
       "      <td>2018-02-08 13:49:41</td>\n",
       "      <td>2018-02-08 12:49:41</td>\n",
       "      <td>...</td>\n",
       "      <td>closed</td>\n",
       "      <td>pierre-jean-villa-saint-joseph-tilde-2017</td>\n",
       "      <td>2019-12-21 09:00:17</td>\n",
       "      <td>2019-12-21 08:00:17</td>\n",
       "      <td>0.0</td>\n",
       "      <td>https://www.bottle-neck.fr/?post_type=product&amp;...</td>\n",
       "      <td>0.0</td>\n",
       "      <td>product</td>\n",
       "      <td>NaN</td>\n",
       "      <td>0.0</td>\n",
       "    </tr>\n",
       "    <tr>\n",
       "      <th>3</th>\n",
       "      <td>15300</td>\n",
       "      <td>0</td>\n",
       "      <td>0</td>\n",
       "      <td>0</td>\n",
       "      <td>0.0</td>\n",
       "      <td>0.0</td>\n",
       "      <td>taxable</td>\n",
       "      <td>2.0</td>\n",
       "      <td>2018-02-08 14:08:36</td>\n",
       "      <td>2018-02-08 13:08:36</td>\n",
       "      <td>...</td>\n",
       "      <td>closed</td>\n",
       "      <td>pierre-jean-villa-croze-hermitage-accroche-coe...</td>\n",
       "      <td>2020-06-26 18:15:03</td>\n",
       "      <td>2020-06-26 16:15:03</td>\n",
       "      <td>0.0</td>\n",
       "      <td>https://www.bottle-neck.fr/?post_type=product&amp;...</td>\n",
       "      <td>0.0</td>\n",
       "      <td>product</td>\n",
       "      <td>NaN</td>\n",
       "      <td>0.0</td>\n",
       "    </tr>\n",
       "    <tr>\n",
       "      <th>4</th>\n",
       "      <td>19814</td>\n",
       "      <td>0</td>\n",
       "      <td>0</td>\n",
       "      <td>0</td>\n",
       "      <td>0.0</td>\n",
       "      <td>3.0</td>\n",
       "      <td>taxable</td>\n",
       "      <td>2.0</td>\n",
       "      <td>2018-02-09 14:01:05</td>\n",
       "      <td>2018-02-09 13:01:05</td>\n",
       "      <td>...</td>\n",
       "      <td>closed</td>\n",
       "      <td>pierre-jean-villa-igp-gamine-2018</td>\n",
       "      <td>2020-01-04 16:36:01</td>\n",
       "      <td>2020-01-04 15:36:01</td>\n",
       "      <td>0.0</td>\n",
       "      <td>https://www.bottle-neck.fr/?post_type=product&amp;...</td>\n",
       "      <td>0.0</td>\n",
       "      <td>product</td>\n",
       "      <td>NaN</td>\n",
       "      <td>0.0</td>\n",
       "    </tr>\n",
       "    <tr>\n",
       "      <th>...</th>\n",
       "      <td>...</td>\n",
       "      <td>...</td>\n",
       "      <td>...</td>\n",
       "      <td>...</td>\n",
       "      <td>...</td>\n",
       "      <td>...</td>\n",
       "      <td>...</td>\n",
       "      <td>...</td>\n",
       "      <td>...</td>\n",
       "      <td>...</td>\n",
       "      <td>...</td>\n",
       "      <td>...</td>\n",
       "      <td>...</td>\n",
       "      <td>...</td>\n",
       "      <td>...</td>\n",
       "      <td>...</td>\n",
       "      <td>...</td>\n",
       "      <td>...</td>\n",
       "      <td>...</td>\n",
       "      <td>...</td>\n",
       "      <td>...</td>\n",
       "    </tr>\n",
       "    <tr>\n",
       "      <th>1508</th>\n",
       "      <td>16135</td>\n",
       "      <td>0</td>\n",
       "      <td>0</td>\n",
       "      <td>0</td>\n",
       "      <td>0.0</td>\n",
       "      <td>5.0</td>\n",
       "      <td>NaN</td>\n",
       "      <td>2.0</td>\n",
       "      <td>2020-04-25 13:22:38</td>\n",
       "      <td>2020-04-25 11:22:38</td>\n",
       "      <td>...</td>\n",
       "      <td>closed</td>\n",
       "      <td>mouthes-le-bihan-aime-chai-2015</td>\n",
       "      <td>2020-08-26 17:35:03</td>\n",
       "      <td>2020-08-26 15:35:03</td>\n",
       "      <td>0.0</td>\n",
       "      <td>https://www.bottle-neck.fr/wp-content/uploads/...</td>\n",
       "      <td>0.0</td>\n",
       "      <td>attachment</td>\n",
       "      <td>image/jpeg</td>\n",
       "      <td>0.0</td>\n",
       "    </tr>\n",
       "    <tr>\n",
       "      <th>1509</th>\n",
       "      <td>15891</td>\n",
       "      <td>0</td>\n",
       "      <td>0</td>\n",
       "      <td>0</td>\n",
       "      <td>0.0</td>\n",
       "      <td>0.0</td>\n",
       "      <td>NaN</td>\n",
       "      <td>2.0</td>\n",
       "      <td>2020-05-02 14:53:40</td>\n",
       "      <td>2020-05-02 12:53:40</td>\n",
       "      <td>...</td>\n",
       "      <td>closed</td>\n",
       "      <td>camin-larredya-jurancon-sec-la-virada-2018</td>\n",
       "      <td>2020-08-26 17:35:02</td>\n",
       "      <td>2020-08-26 15:35:02</td>\n",
       "      <td>0.0</td>\n",
       "      <td>https://www.bottle-neck.fr/wp-content/uploads/...</td>\n",
       "      <td>0.0</td>\n",
       "      <td>attachment</td>\n",
       "      <td>image/jpeg</td>\n",
       "      <td>0.0</td>\n",
       "    </tr>\n",
       "    <tr>\n",
       "      <th>1510</th>\n",
       "      <td>15887</td>\n",
       "      <td>0</td>\n",
       "      <td>0</td>\n",
       "      <td>0</td>\n",
       "      <td>0.0</td>\n",
       "      <td>0.0</td>\n",
       "      <td>NaN</td>\n",
       "      <td>2.0</td>\n",
       "      <td>2020-05-02 15:00:54</td>\n",
       "      <td>2020-05-02 13:00:54</td>\n",
       "      <td>...</td>\n",
       "      <td>closed</td>\n",
       "      <td>jamet-cote-rotie-fructus-voluptas-2018</td>\n",
       "      <td>2020-08-14 18:15:03</td>\n",
       "      <td>2020-08-14 16:15:03</td>\n",
       "      <td>0.0</td>\n",
       "      <td>https://www.bottle-neck.fr/wp-content/uploads/...</td>\n",
       "      <td>0.0</td>\n",
       "      <td>attachment</td>\n",
       "      <td>image/jpeg</td>\n",
       "      <td>0.0</td>\n",
       "    </tr>\n",
       "    <tr>\n",
       "      <th>1511</th>\n",
       "      <td>13127-1</td>\n",
       "      <td>0</td>\n",
       "      <td>0</td>\n",
       "      <td>0</td>\n",
       "      <td>0.0</td>\n",
       "      <td>0.0</td>\n",
       "      <td>NaN</td>\n",
       "      <td>2.0</td>\n",
       "      <td>2020-06-09 15:42:04</td>\n",
       "      <td>2020-06-09 13:42:04</td>\n",
       "      <td>...</td>\n",
       "      <td>closed</td>\n",
       "      <td>clos-du-mont-olivet-chateauneuf-du-pape-2007-2</td>\n",
       "      <td>2020-07-20 17:09:06</td>\n",
       "      <td>2020-07-20 15:09:06</td>\n",
       "      <td>0.0</td>\n",
       "      <td>https://www.bottle-neck.fr/wp-content/uploads/...</td>\n",
       "      <td>0.0</td>\n",
       "      <td>attachment</td>\n",
       "      <td>image/jpeg</td>\n",
       "      <td>0.0</td>\n",
       "    </tr>\n",
       "    <tr>\n",
       "      <th>1512</th>\n",
       "      <td>16230</td>\n",
       "      <td>0</td>\n",
       "      <td>0</td>\n",
       "      <td>0</td>\n",
       "      <td>0.0</td>\n",
       "      <td>0.0</td>\n",
       "      <td>NaN</td>\n",
       "      <td>2.0</td>\n",
       "      <td>2020-07-20 11:00:00</td>\n",
       "      <td>2020-07-20 09:00:00</td>\n",
       "      <td>...</td>\n",
       "      <td>closed</td>\n",
       "      <td>domaine-saint-nicolas-fiefs-vendeens-blanc-les...</td>\n",
       "      <td>2020-08-13 10:45:03</td>\n",
       "      <td>2020-08-13 08:45:03</td>\n",
       "      <td>0.0</td>\n",
       "      <td>https://www.bottle-neck.fr/wp-content/uploads/...</td>\n",
       "      <td>0.0</td>\n",
       "      <td>attachment</td>\n",
       "      <td>image/jpeg</td>\n",
       "      <td>0.0</td>\n",
       "    </tr>\n",
       "  </tbody>\n",
       "</table>\n",
       "<p>1513 rows × 24 columns</p>\n",
       "</div>"
      ],
      "text/plain": [
       "                   id_web  virtual  downloadable  rating_count  \\\n",
       "0     bon-cadeau-25-euros        0             0             0   \n",
       "1                   15298        0             0             0   \n",
       "2                   15296        0             0             0   \n",
       "3                   15300        0             0             0   \n",
       "4                   19814        0             0             0   \n",
       "...                   ...      ...           ...           ...   \n",
       "1508                16135        0             0             0   \n",
       "1509                15891        0             0             0   \n",
       "1510                15887        0             0             0   \n",
       "1511              13127-1        0             0             0   \n",
       "1512                16230        0             0             0   \n",
       "\n",
       "      average_rating  total_sales tax_status  post_author           post_date  \\\n",
       "0                0.0         10.0    taxable          1.0 2018-06-01 13:53:46   \n",
       "1                0.0          6.0    taxable          2.0 2018-02-08 12:58:52   \n",
       "2                0.0          0.0    taxable          2.0 2018-02-08 13:49:41   \n",
       "3                0.0          0.0    taxable          2.0 2018-02-08 14:08:36   \n",
       "4                0.0          3.0    taxable          2.0 2018-02-09 14:01:05   \n",
       "...              ...          ...        ...          ...                 ...   \n",
       "1508             0.0          5.0        NaN          2.0 2020-04-25 13:22:38   \n",
       "1509             0.0          0.0        NaN          2.0 2020-05-02 14:53:40   \n",
       "1510             0.0          0.0        NaN          2.0 2020-05-02 15:00:54   \n",
       "1511             0.0          0.0        NaN          2.0 2020-06-09 15:42:04   \n",
       "1512             0.0          0.0        NaN          2.0 2020-07-20 11:00:00   \n",
       "\n",
       "           post_date_gmt  ... ping_status  \\\n",
       "0    2018-06-01 11:53:46  ...      closed   \n",
       "1    2018-02-08 11:58:52  ...      closed   \n",
       "2    2018-02-08 12:49:41  ...      closed   \n",
       "3    2018-02-08 13:08:36  ...      closed   \n",
       "4    2018-02-09 13:01:05  ...      closed   \n",
       "...                  ...  ...         ...   \n",
       "1508 2020-04-25 11:22:38  ...      closed   \n",
       "1509 2020-05-02 12:53:40  ...      closed   \n",
       "1510 2020-05-02 13:00:54  ...      closed   \n",
       "1511 2020-06-09 13:42:04  ...      closed   \n",
       "1512 2020-07-20 09:00:00  ...      closed   \n",
       "\n",
       "                                              post_name       post_modified  \\\n",
       "0                                bon-cadeau-de-25-euros 2018-06-01 14:13:57   \n",
       "1           pierre-jean-villa-saint-joseph-preface-2018 2019-12-30 09:30:29   \n",
       "2             pierre-jean-villa-saint-joseph-tilde-2017 2019-12-21 09:00:17   \n",
       "3     pierre-jean-villa-croze-hermitage-accroche-coe... 2020-06-26 18:15:03   \n",
       "4                     pierre-jean-villa-igp-gamine-2018 2020-01-04 16:36:01   \n",
       "...                                                 ...                 ...   \n",
       "1508                    mouthes-le-bihan-aime-chai-2015 2020-08-26 17:35:03   \n",
       "1509         camin-larredya-jurancon-sec-la-virada-2018 2020-08-26 17:35:02   \n",
       "1510             jamet-cote-rotie-fructus-voluptas-2018 2020-08-14 18:15:03   \n",
       "1511     clos-du-mont-olivet-chateauneuf-du-pape-2007-2 2020-07-20 17:09:06   \n",
       "1512  domaine-saint-nicolas-fiefs-vendeens-blanc-les... 2020-08-13 10:45:03   \n",
       "\n",
       "       post_modified_gmt post_parent  \\\n",
       "0    2018-06-01 12:13:57         0.0   \n",
       "1    2019-12-30 08:30:29         0.0   \n",
       "2    2019-12-21 08:00:17         0.0   \n",
       "3    2020-06-26 16:15:03         0.0   \n",
       "4    2020-01-04 15:36:01         0.0   \n",
       "...                  ...         ...   \n",
       "1508 2020-08-26 15:35:03         0.0   \n",
       "1509 2020-08-26 15:35:02         0.0   \n",
       "1510 2020-08-14 16:15:03         0.0   \n",
       "1511 2020-07-20 15:09:06         0.0   \n",
       "1512 2020-08-13 08:45:03         0.0   \n",
       "\n",
       "                                                   guid menu_order  \\\n",
       "0     https://www.bottle-neck.fr/?post_type=product&...        0.0   \n",
       "1     https://www.bottle-neck.fr/?post_type=product&...        0.0   \n",
       "2     https://www.bottle-neck.fr/?post_type=product&...        0.0   \n",
       "3     https://www.bottle-neck.fr/?post_type=product&...        0.0   \n",
       "4     https://www.bottle-neck.fr/?post_type=product&...        0.0   \n",
       "...                                                 ...        ...   \n",
       "1508  https://www.bottle-neck.fr/wp-content/uploads/...        0.0   \n",
       "1509  https://www.bottle-neck.fr/wp-content/uploads/...        0.0   \n",
       "1510  https://www.bottle-neck.fr/wp-content/uploads/...        0.0   \n",
       "1511  https://www.bottle-neck.fr/wp-content/uploads/...        0.0   \n",
       "1512  https://www.bottle-neck.fr/wp-content/uploads/...        0.0   \n",
       "\n",
       "       post_type  post_mime_type comment_count  \n",
       "0        product             NaN           0.0  \n",
       "1        product             NaN           0.0  \n",
       "2        product             NaN           0.0  \n",
       "3        product             NaN           0.0  \n",
       "4        product             NaN           0.0  \n",
       "...          ...             ...           ...  \n",
       "1508  attachment      image/jpeg           0.0  \n",
       "1509  attachment      image/jpeg           0.0  \n",
       "1510  attachment      image/jpeg           0.0  \n",
       "1511  attachment      image/jpeg           0.0  \n",
       "1512  attachment      image/jpeg           0.0  \n",
       "\n",
       "[1513 rows x 24 columns]"
      ]
     },
     "execution_count": 31,
     "metadata": {},
     "output_type": "execute_result"
    }
   ],
   "source": [
    "# Contrôle rapide pré-fusion :\n",
    "df_web"
   ]
  },
  {
   "cell_type": "code",
   "execution_count": 32,
   "id": "ac9eacfc",
   "metadata": {},
   "outputs": [
    {
     "data": {
      "text/plain": [
       "19     4055\n",
       "49     4090\n",
       "50     4092\n",
       "119    4195\n",
       "131    4209\n",
       "       ... \n",
       "817    7196\n",
       "818    7200\n",
       "819    7201\n",
       "820    7203\n",
       "821    7204\n",
       "Name: product_id, Length: 91, dtype: int64"
      ]
     },
     "execution_count": 32,
     "metadata": {},
     "output_type": "execute_result"
    }
   ],
   "source": [
    "# Récupération des product_id à liens webs vides :\n",
    "df_liaisons_vides.product_id"
   ]
  },
  {
   "cell_type": "code",
   "execution_count": 33,
   "id": "2fb2c500",
   "metadata": {},
   "outputs": [
    {
     "data": {
      "text/html": [
       "<div>\n",
       "<style scoped>\n",
       "    .dataframe tbody tr th:only-of-type {\n",
       "        vertical-align: middle;\n",
       "    }\n",
       "\n",
       "    .dataframe tbody tr th {\n",
       "        vertical-align: top;\n",
       "    }\n",
       "\n",
       "    .dataframe thead th {\n",
       "        text-align: right;\n",
       "    }\n",
       "</style>\n",
       "<table border=\"1\" class=\"dataframe\">\n",
       "  <thead>\n",
       "    <tr style=\"text-align: right;\">\n",
       "      <th></th>\n",
       "      <th>product_id</th>\n",
       "      <th>id_web</th>\n",
       "      <th>onsale_web</th>\n",
       "      <th>price</th>\n",
       "      <th>stock_quantity</th>\n",
       "      <th>stock_status</th>\n",
       "    </tr>\n",
       "  </thead>\n",
       "  <tbody>\n",
       "    <tr>\n",
       "      <th>0</th>\n",
       "      <td>4055</td>\n",
       "      <td>NaN</td>\n",
       "      <td>0</td>\n",
       "      <td>86.1</td>\n",
       "      <td>0</td>\n",
       "      <td>outofstock</td>\n",
       "    </tr>\n",
       "    <tr>\n",
       "      <th>1</th>\n",
       "      <td>4090</td>\n",
       "      <td>NaN</td>\n",
       "      <td>0</td>\n",
       "      <td>73.0</td>\n",
       "      <td>0</td>\n",
       "      <td>outofstock</td>\n",
       "    </tr>\n",
       "    <tr>\n",
       "      <th>2</th>\n",
       "      <td>4092</td>\n",
       "      <td>NaN</td>\n",
       "      <td>0</td>\n",
       "      <td>47.0</td>\n",
       "      <td>0</td>\n",
       "      <td>outofstock</td>\n",
       "    </tr>\n",
       "    <tr>\n",
       "      <th>3</th>\n",
       "      <td>4195</td>\n",
       "      <td>NaN</td>\n",
       "      <td>0</td>\n",
       "      <td>14.1</td>\n",
       "      <td>0</td>\n",
       "      <td>outofstock</td>\n",
       "    </tr>\n",
       "    <tr>\n",
       "      <th>4</th>\n",
       "      <td>4209</td>\n",
       "      <td>NaN</td>\n",
       "      <td>0</td>\n",
       "      <td>73.5</td>\n",
       "      <td>0</td>\n",
       "      <td>outofstock</td>\n",
       "    </tr>\n",
       "    <tr>\n",
       "      <th>...</th>\n",
       "      <td>...</td>\n",
       "      <td>...</td>\n",
       "      <td>...</td>\n",
       "      <td>...</td>\n",
       "      <td>...</td>\n",
       "      <td>...</td>\n",
       "    </tr>\n",
       "    <tr>\n",
       "      <th>86</th>\n",
       "      <td>7196</td>\n",
       "      <td>NaN</td>\n",
       "      <td>0</td>\n",
       "      <td>31.0</td>\n",
       "      <td>55</td>\n",
       "      <td>instock</td>\n",
       "    </tr>\n",
       "    <tr>\n",
       "      <th>87</th>\n",
       "      <td>7200</td>\n",
       "      <td>NaN</td>\n",
       "      <td>0</td>\n",
       "      <td>31.0</td>\n",
       "      <td>6</td>\n",
       "      <td>instock</td>\n",
       "    </tr>\n",
       "    <tr>\n",
       "      <th>88</th>\n",
       "      <td>7201</td>\n",
       "      <td>NaN</td>\n",
       "      <td>0</td>\n",
       "      <td>31.0</td>\n",
       "      <td>18</td>\n",
       "      <td>instock</td>\n",
       "    </tr>\n",
       "    <tr>\n",
       "      <th>89</th>\n",
       "      <td>7203</td>\n",
       "      <td>NaN</td>\n",
       "      <td>0</td>\n",
       "      <td>45.0</td>\n",
       "      <td>30</td>\n",
       "      <td>instock</td>\n",
       "    </tr>\n",
       "    <tr>\n",
       "      <th>90</th>\n",
       "      <td>7204</td>\n",
       "      <td>NaN</td>\n",
       "      <td>0</td>\n",
       "      <td>45.0</td>\n",
       "      <td>9</td>\n",
       "      <td>instock</td>\n",
       "    </tr>\n",
       "  </tbody>\n",
       "</table>\n",
       "<p>91 rows × 6 columns</p>\n",
       "</div>"
      ],
      "text/plain": [
       "    product_id id_web  onsale_web  price  stock_quantity stock_status\n",
       "0         4055    NaN           0   86.1               0   outofstock\n",
       "1         4090    NaN           0   73.0               0   outofstock\n",
       "2         4092    NaN           0   47.0               0   outofstock\n",
       "3         4195    NaN           0   14.1               0   outofstock\n",
       "4         4209    NaN           0   73.5               0   outofstock\n",
       "..         ...    ...         ...    ...             ...          ...\n",
       "86        7196    NaN           0   31.0              55      instock\n",
       "87        7200    NaN           0   31.0               6      instock\n",
       "88        7201    NaN           0   31.0              18      instock\n",
       "89        7203    NaN           0   45.0              30      instock\n",
       "90        7204    NaN           0   45.0               9      instock\n",
       "\n",
       "[91 rows x 6 columns]"
      ]
     },
     "execution_count": 33,
     "metadata": {},
     "output_type": "execute_result"
    }
   ],
   "source": [
    "df_liaisons_vides_verif = df_liaisons_vides.merge(df_erp,left_on = 'product_id', right_on='product_id')\n",
    "df_liaisons_vides_verif"
   ]
  },
  {
   "cell_type": "code",
   "execution_count": 34,
   "id": "17a95fe4",
   "metadata": {},
   "outputs": [],
   "source": [
    "# Extraction des lignes présentes "
   ]
  },
  {
   "cell_type": "code",
   "execution_count": 35,
   "id": "569b6569",
   "metadata": {},
   "outputs": [
    {
     "data": {
      "text/html": [
       "<div>\n",
       "<style scoped>\n",
       "    .dataframe tbody tr th:only-of-type {\n",
       "        vertical-align: middle;\n",
       "    }\n",
       "\n",
       "    .dataframe tbody tr th {\n",
       "        vertical-align: top;\n",
       "    }\n",
       "\n",
       "    .dataframe thead th {\n",
       "        text-align: right;\n",
       "    }\n",
       "</style>\n",
       "<table border=\"1\" class=\"dataframe\">\n",
       "  <thead>\n",
       "    <tr style=\"text-align: right;\">\n",
       "      <th></th>\n",
       "      <th>product_id</th>\n",
       "      <th>id_web</th>\n",
       "      <th>onsale_web</th>\n",
       "      <th>price</th>\n",
       "      <th>stock_quantity</th>\n",
       "      <th>stock_status</th>\n",
       "    </tr>\n",
       "  </thead>\n",
       "  <tbody>\n",
       "    <tr>\n",
       "      <th>38</th>\n",
       "      <td>6594</td>\n",
       "      <td>NaN</td>\n",
       "      <td>0</td>\n",
       "      <td>9.1</td>\n",
       "      <td>192</td>\n",
       "      <td>instock</td>\n",
       "    </tr>\n",
       "    <tr>\n",
       "      <th>67</th>\n",
       "      <td>7087</td>\n",
       "      <td>NaN</td>\n",
       "      <td>0</td>\n",
       "      <td>30.0</td>\n",
       "      <td>91</td>\n",
       "      <td>instock</td>\n",
       "    </tr>\n",
       "    <tr>\n",
       "      <th>30</th>\n",
       "      <td>5560</td>\n",
       "      <td>NaN</td>\n",
       "      <td>0</td>\n",
       "      <td>47.0</td>\n",
       "      <td>62</td>\n",
       "      <td>instock</td>\n",
       "    </tr>\n",
       "    <tr>\n",
       "      <th>86</th>\n",
       "      <td>7196</td>\n",
       "      <td>NaN</td>\n",
       "      <td>0</td>\n",
       "      <td>31.0</td>\n",
       "      <td>55</td>\n",
       "      <td>instock</td>\n",
       "    </tr>\n",
       "    <tr>\n",
       "      <th>52</th>\n",
       "      <td>6903</td>\n",
       "      <td>NaN</td>\n",
       "      <td>0</td>\n",
       "      <td>27.0</td>\n",
       "      <td>54</td>\n",
       "      <td>instock</td>\n",
       "    </tr>\n",
       "    <tr>\n",
       "      <th>68</th>\n",
       "      <td>7088</td>\n",
       "      <td>NaN</td>\n",
       "      <td>0</td>\n",
       "      <td>20.0</td>\n",
       "      <td>53</td>\n",
       "      <td>instock</td>\n",
       "    </tr>\n",
       "    <tr>\n",
       "      <th>78</th>\n",
       "      <td>7164</td>\n",
       "      <td>NaN</td>\n",
       "      <td>0</td>\n",
       "      <td>31.0</td>\n",
       "      <td>51</td>\n",
       "      <td>instock</td>\n",
       "    </tr>\n",
       "    <tr>\n",
       "      <th>47</th>\n",
       "      <td>6898</td>\n",
       "      <td>NaN</td>\n",
       "      <td>0</td>\n",
       "      <td>30.0</td>\n",
       "      <td>51</td>\n",
       "      <td>instock</td>\n",
       "    </tr>\n",
       "    <tr>\n",
       "      <th>14</th>\n",
       "      <td>4692</td>\n",
       "      <td>NaN</td>\n",
       "      <td>0</td>\n",
       "      <td>12.0</td>\n",
       "      <td>48</td>\n",
       "      <td>instock</td>\n",
       "    </tr>\n",
       "    <tr>\n",
       "      <th>81</th>\n",
       "      <td>7170</td>\n",
       "      <td>NaN</td>\n",
       "      <td>0</td>\n",
       "      <td>45.0</td>\n",
       "      <td>43</td>\n",
       "      <td>instock</td>\n",
       "    </tr>\n",
       "    <tr>\n",
       "      <th>44</th>\n",
       "      <td>6866</td>\n",
       "      <td>NaN</td>\n",
       "      <td>0</td>\n",
       "      <td>40.0</td>\n",
       "      <td>42</td>\n",
       "      <td>instock</td>\n",
       "    </tr>\n",
       "    <tr>\n",
       "      <th>77</th>\n",
       "      <td>7163</td>\n",
       "      <td>NaN</td>\n",
       "      <td>0</td>\n",
       "      <td>31.0</td>\n",
       "      <td>42</td>\n",
       "      <td>instock</td>\n",
       "    </tr>\n",
       "    <tr>\n",
       "      <th>61</th>\n",
       "      <td>7010</td>\n",
       "      <td>NaN</td>\n",
       "      <td>0</td>\n",
       "      <td>47.0</td>\n",
       "      <td>37</td>\n",
       "      <td>instock</td>\n",
       "    </tr>\n",
       "    <tr>\n",
       "      <th>43</th>\n",
       "      <td>6864</td>\n",
       "      <td>NaN</td>\n",
       "      <td>0</td>\n",
       "      <td>40.0</td>\n",
       "      <td>32</td>\n",
       "      <td>instock</td>\n",
       "    </tr>\n",
       "    <tr>\n",
       "      <th>89</th>\n",
       "      <td>7203</td>\n",
       "      <td>NaN</td>\n",
       "      <td>0</td>\n",
       "      <td>45.0</td>\n",
       "      <td>30</td>\n",
       "      <td>instock</td>\n",
       "    </tr>\n",
       "    <tr>\n",
       "      <th>79</th>\n",
       "      <td>7168</td>\n",
       "      <td>NaN</td>\n",
       "      <td>0</td>\n",
       "      <td>45.0</td>\n",
       "      <td>29</td>\n",
       "      <td>instock</td>\n",
       "    </tr>\n",
       "    <tr>\n",
       "      <th>82</th>\n",
       "      <td>7192</td>\n",
       "      <td>NaN</td>\n",
       "      <td>0</td>\n",
       "      <td>31.0</td>\n",
       "      <td>28</td>\n",
       "      <td>instock</td>\n",
       "    </tr>\n",
       "    <tr>\n",
       "      <th>71</th>\n",
       "      <td>7133</td>\n",
       "      <td>NaN</td>\n",
       "      <td>0</td>\n",
       "      <td>45.0</td>\n",
       "      <td>26</td>\n",
       "      <td>instock</td>\n",
       "    </tr>\n",
       "    <tr>\n",
       "      <th>70</th>\n",
       "      <td>7132</td>\n",
       "      <td>NaN</td>\n",
       "      <td>0</td>\n",
       "      <td>45.0</td>\n",
       "      <td>22</td>\n",
       "      <td>instock</td>\n",
       "    </tr>\n",
       "    <tr>\n",
       "      <th>53</th>\n",
       "      <td>6904</td>\n",
       "      <td>NaN</td>\n",
       "      <td>0</td>\n",
       "      <td>31.0</td>\n",
       "      <td>22</td>\n",
       "      <td>instock</td>\n",
       "    </tr>\n",
       "    <tr>\n",
       "      <th>39</th>\n",
       "      <td>6821</td>\n",
       "      <td>NaN</td>\n",
       "      <td>0</td>\n",
       "      <td>28.0</td>\n",
       "      <td>21</td>\n",
       "      <td>instock</td>\n",
       "    </tr>\n",
       "    <tr>\n",
       "      <th>69</th>\n",
       "      <td>7131</td>\n",
       "      <td>NaN</td>\n",
       "      <td>0</td>\n",
       "      <td>45.0</td>\n",
       "      <td>19</td>\n",
       "      <td>instock</td>\n",
       "    </tr>\n",
       "    <tr>\n",
       "      <th>36</th>\n",
       "      <td>6324</td>\n",
       "      <td>NaN</td>\n",
       "      <td>0</td>\n",
       "      <td>92.0</td>\n",
       "      <td>18</td>\n",
       "      <td>instock</td>\n",
       "    </tr>\n",
       "    <tr>\n",
       "      <th>88</th>\n",
       "      <td>7201</td>\n",
       "      <td>NaN</td>\n",
       "      <td>0</td>\n",
       "      <td>31.0</td>\n",
       "      <td>18</td>\n",
       "      <td>instock</td>\n",
       "    </tr>\n",
       "    <tr>\n",
       "      <th>46</th>\n",
       "      <td>6875</td>\n",
       "      <td>NaN</td>\n",
       "      <td>0</td>\n",
       "      <td>40.0</td>\n",
       "      <td>17</td>\n",
       "      <td>instock</td>\n",
       "    </tr>\n",
       "    <tr>\n",
       "      <th>63</th>\n",
       "      <td>7081</td>\n",
       "      <td>NaN</td>\n",
       "      <td>0</td>\n",
       "      <td>45.0</td>\n",
       "      <td>17</td>\n",
       "      <td>instock</td>\n",
       "    </tr>\n",
       "    <tr>\n",
       "      <th>83</th>\n",
       "      <td>7193</td>\n",
       "      <td>NaN</td>\n",
       "      <td>0</td>\n",
       "      <td>27.0</td>\n",
       "      <td>14</td>\n",
       "      <td>instock</td>\n",
       "    </tr>\n",
       "    <tr>\n",
       "      <th>57</th>\n",
       "      <td>6908</td>\n",
       "      <td>NaN</td>\n",
       "      <td>0</td>\n",
       "      <td>31.0</td>\n",
       "      <td>14</td>\n",
       "      <td>instock</td>\n",
       "    </tr>\n",
       "    <tr>\n",
       "      <th>55</th>\n",
       "      <td>6906</td>\n",
       "      <td>NaN</td>\n",
       "      <td>0</td>\n",
       "      <td>31.0</td>\n",
       "      <td>12</td>\n",
       "      <td>instock</td>\n",
       "    </tr>\n",
       "    <tr>\n",
       "      <th>62</th>\n",
       "      <td>7015</td>\n",
       "      <td>NaN</td>\n",
       "      <td>0</td>\n",
       "      <td>45.0</td>\n",
       "      <td>12</td>\n",
       "      <td>instock</td>\n",
       "    </tr>\n",
       "    <tr>\n",
       "      <th>42</th>\n",
       "      <td>6826</td>\n",
       "      <td>NaN</td>\n",
       "      <td>0</td>\n",
       "      <td>18.0</td>\n",
       "      <td>11</td>\n",
       "      <td>instock</td>\n",
       "    </tr>\n",
       "    <tr>\n",
       "      <th>60</th>\n",
       "      <td>7009</td>\n",
       "      <td>NaN</td>\n",
       "      <td>0</td>\n",
       "      <td>40.0</td>\n",
       "      <td>10</td>\n",
       "      <td>instock</td>\n",
       "    </tr>\n",
       "    <tr>\n",
       "      <th>90</th>\n",
       "      <td>7204</td>\n",
       "      <td>NaN</td>\n",
       "      <td>0</td>\n",
       "      <td>45.0</td>\n",
       "      <td>9</td>\n",
       "      <td>instock</td>\n",
       "    </tr>\n",
       "    <tr>\n",
       "      <th>56</th>\n",
       "      <td>6907</td>\n",
       "      <td>NaN</td>\n",
       "      <td>0</td>\n",
       "      <td>27.0</td>\n",
       "      <td>8</td>\n",
       "      <td>instock</td>\n",
       "    </tr>\n",
       "    <tr>\n",
       "      <th>65</th>\n",
       "      <td>7085</td>\n",
       "      <td>NaN</td>\n",
       "      <td>0</td>\n",
       "      <td>30.0</td>\n",
       "      <td>8</td>\n",
       "      <td>instock</td>\n",
       "    </tr>\n",
       "  </tbody>\n",
       "</table>\n",
       "</div>"
      ],
      "text/plain": [
       "    product_id id_web  onsale_web  price  stock_quantity stock_status\n",
       "38        6594    NaN           0    9.1             192      instock\n",
       "67        7087    NaN           0   30.0              91      instock\n",
       "30        5560    NaN           0   47.0              62      instock\n",
       "86        7196    NaN           0   31.0              55      instock\n",
       "52        6903    NaN           0   27.0              54      instock\n",
       "68        7088    NaN           0   20.0              53      instock\n",
       "78        7164    NaN           0   31.0              51      instock\n",
       "47        6898    NaN           0   30.0              51      instock\n",
       "14        4692    NaN           0   12.0              48      instock\n",
       "81        7170    NaN           0   45.0              43      instock\n",
       "44        6866    NaN           0   40.0              42      instock\n",
       "77        7163    NaN           0   31.0              42      instock\n",
       "61        7010    NaN           0   47.0              37      instock\n",
       "43        6864    NaN           0   40.0              32      instock\n",
       "89        7203    NaN           0   45.0              30      instock\n",
       "79        7168    NaN           0   45.0              29      instock\n",
       "82        7192    NaN           0   31.0              28      instock\n",
       "71        7133    NaN           0   45.0              26      instock\n",
       "70        7132    NaN           0   45.0              22      instock\n",
       "53        6904    NaN           0   31.0              22      instock\n",
       "39        6821    NaN           0   28.0              21      instock\n",
       "69        7131    NaN           0   45.0              19      instock\n",
       "36        6324    NaN           0   92.0              18      instock\n",
       "88        7201    NaN           0   31.0              18      instock\n",
       "46        6875    NaN           0   40.0              17      instock\n",
       "63        7081    NaN           0   45.0              17      instock\n",
       "83        7193    NaN           0   27.0              14      instock\n",
       "57        6908    NaN           0   31.0              14      instock\n",
       "55        6906    NaN           0   31.0              12      instock\n",
       "62        7015    NaN           0   45.0              12      instock\n",
       "42        6826    NaN           0   18.0              11      instock\n",
       "60        7009    NaN           0   40.0              10      instock\n",
       "90        7204    NaN           0   45.0               9      instock\n",
       "56        6907    NaN           0   27.0               8      instock\n",
       "65        7085    NaN           0   30.0               8      instock"
      ]
     },
     "execution_count": 35,
     "metadata": {},
     "output_type": "execute_result"
    }
   ],
   "source": [
    "df_liaisons_vides_verif.sort_values(by=['stock_quantity'], inplace=True, ascending=False)\n",
    "df_liaisons_vides_verif.head(35)"
   ]
  },
  {
   "cell_type": "code",
   "execution_count": 36,
   "id": "392cc324",
   "metadata": {},
   "outputs": [],
   "source": [
    "# Calcul du CA total des produits non référencés web :\n",
    "ca_produits_non_référencés_web = df_liaisons_vides_verif.stock_quantity*df_liaisons_vides_verif.price"
   ]
  },
  {
   "cell_type": "code",
   "execution_count": 37,
   "id": "0122ef80",
   "metadata": {},
   "outputs": [
    {
     "data": {
      "text/plain": [
       "41000.8"
      ]
     },
     "execution_count": 37,
     "metadata": {},
     "output_type": "execute_result"
    }
   ],
   "source": [
    "ca_produits_non_référencés_web.sum()"
   ]
  },
  {
   "cell_type": "markdown",
   "id": "cef01436",
   "metadata": {},
   "source": [
    "# 41000€ dormant sur lesquels il n'y a pas de communication web !"
   ]
  },
  {
   "cell_type": "markdown",
   "id": "4c3ded65",
   "metadata": {},
   "source": [
    "## Sauf si la valorisation du stockage dans le temps est plus importante que le coût du stockage il serait judicieux de mettre en vente ces produits?"
   ]
  },
  {
   "cell_type": "code",
   "execution_count": 38,
   "id": "bae649a7",
   "metadata": {},
   "outputs": [],
   "source": [
    "# Recommandation de changement de nom de la variables id_web = '13127-1' en 9990001,9990002,...par exemple.\n",
    "# Nécessité d'enlever les signes - pour le classement\n",
    "# Ce numéro de référence représente un Chateau-Neuf-du-Pape 2007 mais comme il n'y a ni stock ni ventes pour notre analyse nous\n",
    "# le retirons du DataFrame d'analyse des ventes.\n",
    "\n",
    "# df_web.loc[df_web['id_web'] == \"13127-1\",:]"
   ]
  },
  {
   "cell_type": "code",
   "execution_count": 39,
   "id": "0822a1e4",
   "metadata": {},
   "outputs": [],
   "source": [
    "# df_web_nettoyé = df_web.loc[df_web['id_web'] != \"bon-cadeau-25-euros\",:]"
   ]
  },
  {
   "cell_type": "code",
   "execution_count": 40,
   "id": "e9133a26",
   "metadata": {},
   "outputs": [],
   "source": [
    "# df_web_nettoyé.shape"
   ]
  },
  {
   "cell_type": "code",
   "execution_count": 41,
   "id": "6ea5b4dd",
   "metadata": {},
   "outputs": [],
   "source": [
    "# df_web_nettoyé = df_web_nettoyé.loc[df_web_nettoyé['id_web'] != \"13127-1\",:]"
   ]
  },
  {
   "cell_type": "code",
   "execution_count": 42,
   "id": "50aa6251",
   "metadata": {},
   "outputs": [],
   "source": [
    "# df_web_nettoyé.shape"
   ]
  },
  {
   "cell_type": "code",
   "execution_count": 43,
   "id": "7f14bf06",
   "metadata": {},
   "outputs": [],
   "source": [
    "# df_web_nettoyé.id_web.astype(float)"
   ]
  },
  {
   "cell_type": "code",
   "execution_count": 44,
   "id": "74385281",
   "metadata": {},
   "outputs": [],
   "source": [
    "# df_web_nettoyé.shape"
   ]
  },
  {
   "cell_type": "code",
   "execution_count": 45,
   "id": "8ac12f1b",
   "metadata": {},
   "outputs": [],
   "source": [
    "# df_web_nettoyé = df_web_nettoyé.sort_values('id_web',ascending=True)"
   ]
  },
  {
   "cell_type": "code",
   "execution_count": 46,
   "id": "2f0ee8cb",
   "metadata": {},
   "outputs": [],
   "source": [
    "# df_web_nettoyé.shape"
   ]
  },
  {
   "cell_type": "code",
   "execution_count": 47,
   "id": "0cbc4752",
   "metadata": {},
   "outputs": [],
   "source": [
    "# df_web_nettoyé.columns"
   ]
  },
  {
   "cell_type": "code",
   "execution_count": 48,
   "id": "1ab24f55",
   "metadata": {},
   "outputs": [],
   "source": [
    "# df_web_nettoyé"
   ]
  },
  {
   "cell_type": "code",
   "execution_count": 49,
   "id": "7cf331f3",
   "metadata": {},
   "outputs": [],
   "source": [
    "df_web_nettoyé = df_web\n",
    "df_web_nettoyé = df_web_nettoyé.drop(columns=['menu_order','comment_count','post_mime_type','post_parent'])"
   ]
  },
  {
   "cell_type": "code",
   "execution_count": 50,
   "id": "77966509",
   "metadata": {},
   "outputs": [],
   "source": [
    "df_web_nettoyé = df_web_nettoyé.drop(columns=['ping_status','comment_status','post_status','post_modified'])"
   ]
  },
  {
   "cell_type": "code",
   "execution_count": 51,
   "id": "cf6f8d11",
   "metadata": {},
   "outputs": [],
   "source": [
    "df_web_nettoyé = df_web_nettoyé.loc[df_web_nettoyé['post_type'] == \"product\", :]"
   ]
  },
  {
   "cell_type": "code",
   "execution_count": 52,
   "id": "c5d868f8",
   "metadata": {},
   "outputs": [
    {
     "data": {
      "text/html": [
       "<div>\n",
       "<style scoped>\n",
       "    .dataframe tbody tr th:only-of-type {\n",
       "        vertical-align: middle;\n",
       "    }\n",
       "\n",
       "    .dataframe tbody tr th {\n",
       "        vertical-align: top;\n",
       "    }\n",
       "\n",
       "    .dataframe thead th {\n",
       "        text-align: right;\n",
       "    }\n",
       "</style>\n",
       "<table border=\"1\" class=\"dataframe\">\n",
       "  <thead>\n",
       "    <tr style=\"text-align: right;\">\n",
       "      <th></th>\n",
       "      <th>id_web</th>\n",
       "      <th>virtual</th>\n",
       "      <th>downloadable</th>\n",
       "      <th>rating_count</th>\n",
       "      <th>average_rating</th>\n",
       "      <th>total_sales</th>\n",
       "      <th>tax_status</th>\n",
       "      <th>post_author</th>\n",
       "      <th>post_date</th>\n",
       "      <th>post_date_gmt</th>\n",
       "      <th>post_title</th>\n",
       "      <th>post_excerpt</th>\n",
       "      <th>post_name</th>\n",
       "      <th>post_modified_gmt</th>\n",
       "      <th>guid</th>\n",
       "      <th>post_type</th>\n",
       "    </tr>\n",
       "  </thead>\n",
       "  <tbody>\n",
       "    <tr>\n",
       "      <th>0</th>\n",
       "      <td>bon-cadeau-25-euros</td>\n",
       "      <td>0</td>\n",
       "      <td>0</td>\n",
       "      <td>0</td>\n",
       "      <td>0.0</td>\n",
       "      <td>10.0</td>\n",
       "      <td>taxable</td>\n",
       "      <td>1.0</td>\n",
       "      <td>2018-06-01 13:53:46</td>\n",
       "      <td>2018-06-01 11:53:46</td>\n",
       "      <td>Bon cadeau de 25€</td>\n",
       "      <td>&lt;span style=\"color: #a85253;\"&gt;&lt;strong&gt;Parlons ...</td>\n",
       "      <td>bon-cadeau-de-25-euros</td>\n",
       "      <td>2018-06-01 12:13:57</td>\n",
       "      <td>https://www.bottle-neck.fr/?post_type=product&amp;...</td>\n",
       "      <td>product</td>\n",
       "    </tr>\n",
       "    <tr>\n",
       "      <th>1</th>\n",
       "      <td>15298</td>\n",
       "      <td>0</td>\n",
       "      <td>0</td>\n",
       "      <td>0</td>\n",
       "      <td>0.0</td>\n",
       "      <td>6.0</td>\n",
       "      <td>taxable</td>\n",
       "      <td>2.0</td>\n",
       "      <td>2018-02-08 12:58:52</td>\n",
       "      <td>2018-02-08 11:58:52</td>\n",
       "      <td>Pierre Jean Villa Saint-Joseph Préface 2018</td>\n",
       "      <td>Il exhale un nez subtil, racé avec du poivre f...</td>\n",
       "      <td>pierre-jean-villa-saint-joseph-preface-2018</td>\n",
       "      <td>2019-12-30 08:30:29</td>\n",
       "      <td>https://www.bottle-neck.fr/?post_type=product&amp;...</td>\n",
       "      <td>product</td>\n",
       "    </tr>\n",
       "    <tr>\n",
       "      <th>2</th>\n",
       "      <td>15296</td>\n",
       "      <td>0</td>\n",
       "      <td>0</td>\n",
       "      <td>0</td>\n",
       "      <td>0.0</td>\n",
       "      <td>0.0</td>\n",
       "      <td>taxable</td>\n",
       "      <td>2.0</td>\n",
       "      <td>2018-02-08 13:49:41</td>\n",
       "      <td>2018-02-08 12:49:41</td>\n",
       "      <td>Pierre Jean Villa Saint-Joseph Rouge Tildé 2017</td>\n",
       "      <td>Les vieilles vignes lui apportent une rare pro...</td>\n",
       "      <td>pierre-jean-villa-saint-joseph-tilde-2017</td>\n",
       "      <td>2019-12-21 08:00:17</td>\n",
       "      <td>https://www.bottle-neck.fr/?post_type=product&amp;...</td>\n",
       "      <td>product</td>\n",
       "    </tr>\n",
       "    <tr>\n",
       "      <th>3</th>\n",
       "      <td>15300</td>\n",
       "      <td>0</td>\n",
       "      <td>0</td>\n",
       "      <td>0</td>\n",
       "      <td>0.0</td>\n",
       "      <td>0.0</td>\n",
       "      <td>taxable</td>\n",
       "      <td>2.0</td>\n",
       "      <td>2018-02-08 14:08:36</td>\n",
       "      <td>2018-02-08 13:08:36</td>\n",
       "      <td>Pierre Jean Villa Crozes-Hermitage Accroche Co...</td>\n",
       "      <td>Dentelle de fruit de jeunes syrah, aux tanins ...</td>\n",
       "      <td>pierre-jean-villa-croze-hermitage-accroche-coe...</td>\n",
       "      <td>2020-06-26 16:15:03</td>\n",
       "      <td>https://www.bottle-neck.fr/?post_type=product&amp;...</td>\n",
       "      <td>product</td>\n",
       "    </tr>\n",
       "    <tr>\n",
       "      <th>4</th>\n",
       "      <td>19814</td>\n",
       "      <td>0</td>\n",
       "      <td>0</td>\n",
       "      <td>0</td>\n",
       "      <td>0.0</td>\n",
       "      <td>3.0</td>\n",
       "      <td>taxable</td>\n",
       "      <td>2.0</td>\n",
       "      <td>2018-02-09 14:01:05</td>\n",
       "      <td>2018-02-09 13:01:05</td>\n",
       "      <td>Pierre Jean Villa IGP Collines Rhodaniennes Ga...</td>\n",
       "      <td>Gamine représente tout le fruité et la gourman...</td>\n",
       "      <td>pierre-jean-villa-igp-gamine-2018</td>\n",
       "      <td>2020-01-04 15:36:01</td>\n",
       "      <td>https://www.bottle-neck.fr/?post_type=product&amp;...</td>\n",
       "      <td>product</td>\n",
       "    </tr>\n",
       "  </tbody>\n",
       "</table>\n",
       "</div>"
      ],
      "text/plain": [
       "                id_web  virtual  downloadable  rating_count  average_rating  \\\n",
       "0  bon-cadeau-25-euros        0             0             0             0.0   \n",
       "1                15298        0             0             0             0.0   \n",
       "2                15296        0             0             0             0.0   \n",
       "3                15300        0             0             0             0.0   \n",
       "4                19814        0             0             0             0.0   \n",
       "\n",
       "   total_sales tax_status  post_author           post_date  \\\n",
       "0         10.0    taxable          1.0 2018-06-01 13:53:46   \n",
       "1          6.0    taxable          2.0 2018-02-08 12:58:52   \n",
       "2          0.0    taxable          2.0 2018-02-08 13:49:41   \n",
       "3          0.0    taxable          2.0 2018-02-08 14:08:36   \n",
       "4          3.0    taxable          2.0 2018-02-09 14:01:05   \n",
       "\n",
       "        post_date_gmt                                         post_title  \\\n",
       "0 2018-06-01 11:53:46                                  Bon cadeau de 25€   \n",
       "1 2018-02-08 11:58:52        Pierre Jean Villa Saint-Joseph Préface 2018   \n",
       "2 2018-02-08 12:49:41    Pierre Jean Villa Saint-Joseph Rouge Tildé 2017   \n",
       "3 2018-02-08 13:08:36  Pierre Jean Villa Crozes-Hermitage Accroche Co...   \n",
       "4 2018-02-09 13:01:05  Pierre Jean Villa IGP Collines Rhodaniennes Ga...   \n",
       "\n",
       "                                        post_excerpt  \\\n",
       "0  <span style=\"color: #a85253;\"><strong>Parlons ...   \n",
       "1  Il exhale un nez subtil, racé avec du poivre f...   \n",
       "2  Les vieilles vignes lui apportent une rare pro...   \n",
       "3  Dentelle de fruit de jeunes syrah, aux tanins ...   \n",
       "4  Gamine représente tout le fruité et la gourman...   \n",
       "\n",
       "                                           post_name   post_modified_gmt  \\\n",
       "0                             bon-cadeau-de-25-euros 2018-06-01 12:13:57   \n",
       "1        pierre-jean-villa-saint-joseph-preface-2018 2019-12-30 08:30:29   \n",
       "2          pierre-jean-villa-saint-joseph-tilde-2017 2019-12-21 08:00:17   \n",
       "3  pierre-jean-villa-croze-hermitage-accroche-coe... 2020-06-26 16:15:03   \n",
       "4                  pierre-jean-villa-igp-gamine-2018 2020-01-04 15:36:01   \n",
       "\n",
       "                                                guid post_type  \n",
       "0  https://www.bottle-neck.fr/?post_type=product&...   product  \n",
       "1  https://www.bottle-neck.fr/?post_type=product&...   product  \n",
       "2  https://www.bottle-neck.fr/?post_type=product&...   product  \n",
       "3  https://www.bottle-neck.fr/?post_type=product&...   product  \n",
       "4  https://www.bottle-neck.fr/?post_type=product&...   product  "
      ]
     },
     "execution_count": 52,
     "metadata": {},
     "output_type": "execute_result"
    }
   ],
   "source": [
    "df_web_nettoyé.head()"
   ]
  },
  {
   "cell_type": "code",
   "execution_count": 53,
   "id": "f5990c4d",
   "metadata": {
    "scrolled": true
   },
   "outputs": [
    {
     "data": {
      "text/plain": [
       "<AxesSubplot:>"
      ]
     },
     "execution_count": 53,
     "metadata": {},
     "output_type": "execute_result"
    },
    {
     "data": {
      "image/png": "[encoded data removed]",
      "text/plain": [
       "<Figure size 1440x720 with 1 Axes>"
      ]
     },
     "metadata": {
      "needs_background": "light"
     },
     "output_type": "display_data"
    }
   ],
   "source": [
    "plt.figure(figsize=(20,10))\n",
    "sns.heatmap(df_web_nettoyé.isna(), cbar=False)"
   ]
  },
  {
   "cell_type": "code",
   "execution_count": 54,
   "id": "c79ecf80",
   "metadata": {},
   "outputs": [
    {
     "data": {
      "text/html": [
       "<div>\n",
       "<style scoped>\n",
       "    .dataframe tbody tr th:only-of-type {\n",
       "        vertical-align: middle;\n",
       "    }\n",
       "\n",
       "    .dataframe tbody tr th {\n",
       "        vertical-align: top;\n",
       "    }\n",
       "\n",
       "    .dataframe thead th {\n",
       "        text-align: right;\n",
       "    }\n",
       "</style>\n",
       "<table border=\"1\" class=\"dataframe\">\n",
       "  <thead>\n",
       "    <tr style=\"text-align: right;\">\n",
       "      <th></th>\n",
       "      <th>id_web</th>\n",
       "      <th>virtual</th>\n",
       "      <th>downloadable</th>\n",
       "      <th>rating_count</th>\n",
       "      <th>average_rating</th>\n",
       "      <th>total_sales</th>\n",
       "      <th>tax_status</th>\n",
       "      <th>post_author</th>\n",
       "      <th>post_date</th>\n",
       "      <th>post_date_gmt</th>\n",
       "      <th>post_title</th>\n",
       "      <th>post_excerpt</th>\n",
       "      <th>post_name</th>\n",
       "      <th>post_modified_gmt</th>\n",
       "      <th>guid</th>\n",
       "      <th>post_type</th>\n",
       "    </tr>\n",
       "  </thead>\n",
       "  <tbody>\n",
       "    <tr>\n",
       "      <th>470</th>\n",
       "      <td>NaN</td>\n",
       "      <td>0</td>\n",
       "      <td>0</td>\n",
       "      <td>0</td>\n",
       "      <td>0.0</td>\n",
       "      <td>0.0</td>\n",
       "      <td>taxable</td>\n",
       "      <td>2.0</td>\n",
       "      <td>2018-07-31 12:07:23</td>\n",
       "      <td>2018-07-31 10:07:23</td>\n",
       "      <td>Pierre Jean Villa Côte Rôtie Fongeant 2017</td>\n",
       "      <td>Fongeant 2017 explose sur un fruit brillant, p...</td>\n",
       "      <td>pierre-jean-villa-cote-rotie-fongeant-2017</td>\n",
       "      <td>2019-11-02 12:24:15</td>\n",
       "      <td>https://www.bottle-neck.fr/?post_type=product&amp;...</td>\n",
       "      <td>product</td>\n",
       "    </tr>\n",
       "    <tr>\n",
       "      <th>471</th>\n",
       "      <td>NaN</td>\n",
       "      <td>0</td>\n",
       "      <td>0</td>\n",
       "      <td>0</td>\n",
       "      <td>0.0</td>\n",
       "      <td>0.0</td>\n",
       "      <td>taxable</td>\n",
       "      <td>2.0</td>\n",
       "      <td>2018-08-08 11:23:43</td>\n",
       "      <td>2018-08-08 09:23:43</td>\n",
       "      <td>Pierre Jean Villa Condrieu Jardin Suspendu 2018</td>\n",
       "      <td>&lt;span id=\"u1194-83\"&gt;Le nez séduit par ses parf...</td>\n",
       "      <td>pierre-jean-villa-condrieu-suspendu-2018</td>\n",
       "      <td>2019-11-02 12:24:01</td>\n",
       "      <td>https://www.bottle-neck.fr/?post_type=product&amp;...</td>\n",
       "      <td>product</td>\n",
       "    </tr>\n",
       "  </tbody>\n",
       "</table>\n",
       "</div>"
      ],
      "text/plain": [
       "    id_web  virtual  downloadable  rating_count  average_rating  total_sales  \\\n",
       "470    NaN        0             0             0             0.0          0.0   \n",
       "471    NaN        0             0             0             0.0          0.0   \n",
       "\n",
       "    tax_status  post_author           post_date       post_date_gmt  \\\n",
       "470    taxable          2.0 2018-07-31 12:07:23 2018-07-31 10:07:23   \n",
       "471    taxable          2.0 2018-08-08 11:23:43 2018-08-08 09:23:43   \n",
       "\n",
       "                                          post_title  \\\n",
       "470       Pierre Jean Villa Côte Rôtie Fongeant 2017   \n",
       "471  Pierre Jean Villa Condrieu Jardin Suspendu 2018   \n",
       "\n",
       "                                          post_excerpt  \\\n",
       "470  Fongeant 2017 explose sur un fruit brillant, p...   \n",
       "471  <span id=\"u1194-83\">Le nez séduit par ses parf...   \n",
       "\n",
       "                                      post_name   post_modified_gmt  \\\n",
       "470  pierre-jean-villa-cote-rotie-fongeant-2017 2019-11-02 12:24:15   \n",
       "471    pierre-jean-villa-condrieu-suspendu-2018 2019-11-02 12:24:01   \n",
       "\n",
       "                                                  guid post_type  \n",
       "470  https://www.bottle-neck.fr/?post_type=product&...   product  \n",
       "471  https://www.bottle-neck.fr/?post_type=product&...   product  "
      ]
     },
     "execution_count": 54,
     "metadata": {},
     "output_type": "execute_result"
    }
   ],
   "source": [
    "# Des produits ressortent sans avoir d'id_web :\n",
    "\n",
    "df_web_nettoyé.loc[df_web_nettoyé['id_web'].isna(),:]"
   ]
  },
  {
   "cell_type": "code",
   "execution_count": 55,
   "id": "71b40df2",
   "metadata": {},
   "outputs": [],
   "source": [
    "# Suppression des lignes vides :\n",
    "df_web_nettoyé = df_web_nettoyé.drop(index = 470)\n",
    "df_web_nettoyé = df_web_nettoyé.drop(index = 471)"
   ]
  },
  {
   "cell_type": "code",
   "execution_count": 56,
   "id": "7caddf45",
   "metadata": {},
   "outputs": [
    {
     "data": {
      "text/html": [
       "<div>\n",
       "<style scoped>\n",
       "    .dataframe tbody tr th:only-of-type {\n",
       "        vertical-align: middle;\n",
       "    }\n",
       "\n",
       "    .dataframe tbody tr th {\n",
       "        vertical-align: top;\n",
       "    }\n",
       "\n",
       "    .dataframe thead th {\n",
       "        text-align: right;\n",
       "    }\n",
       "</style>\n",
       "<table border=\"1\" class=\"dataframe\">\n",
       "  <thead>\n",
       "    <tr style=\"text-align: right;\">\n",
       "      <th></th>\n",
       "      <th>id_web</th>\n",
       "      <th>virtual</th>\n",
       "      <th>downloadable</th>\n",
       "      <th>rating_count</th>\n",
       "      <th>average_rating</th>\n",
       "      <th>total_sales</th>\n",
       "      <th>tax_status</th>\n",
       "      <th>post_author</th>\n",
       "      <th>post_date</th>\n",
       "      <th>post_date_gmt</th>\n",
       "      <th>post_title</th>\n",
       "      <th>post_excerpt</th>\n",
       "      <th>post_name</th>\n",
       "      <th>post_modified_gmt</th>\n",
       "      <th>guid</th>\n",
       "      <th>post_type</th>\n",
       "    </tr>\n",
       "  </thead>\n",
       "  <tbody>\n",
       "  </tbody>\n",
       "</table>\n",
       "</div>"
      ],
      "text/plain": [
       "Empty DataFrame\n",
       "Columns: [id_web, virtual, downloadable, rating_count, average_rating, total_sales, tax_status, post_author, post_date, post_date_gmt, post_title, post_excerpt, post_name, post_modified_gmt, guid, post_type]\n",
       "Index: []"
      ]
     },
     "execution_count": 56,
     "metadata": {},
     "output_type": "execute_result"
    }
   ],
   "source": [
    "df_web_nettoyé.loc[df_web_nettoyé['id_web'].isna(),:]"
   ]
  },
  {
   "cell_type": "code",
   "execution_count": 57,
   "id": "02cd9ad9",
   "metadata": {},
   "outputs": [],
   "source": [
    "# Suppression des id_web vides."
   ]
  },
  {
   "cell_type": "code",
   "execution_count": 58,
   "id": "00611169",
   "metadata": {},
   "outputs": [
    {
     "data": {
      "text/plain": [
       "<AxesSubplot:>"
      ]
     },
     "execution_count": 58,
     "metadata": {},
     "output_type": "execute_result"
    },
    {
     "data": {
      "image/png": "[encoded data removed]",
      "text/plain": [
       "<Figure size 1440x720 with 1 Axes>"
      ]
     },
     "metadata": {
      "needs_background": "light"
     },
     "output_type": "display_data"
    }
   ],
   "source": [
    "plt.figure(figsize=(20,10))\n",
    "sns.heatmap(df_web_nettoyé.isna(), cbar=False)"
   ]
  },
  {
   "cell_type": "markdown",
   "id": "6b30da52",
   "metadata": {},
   "source": [
    "## Vérifications avant fusion des tables :"
   ]
  },
  {
   "cell_type": "markdown",
   "id": "93d345cf",
   "metadata": {},
   "source": [
    "### web :"
   ]
  },
  {
   "cell_type": "code",
   "execution_count": 59,
   "id": "2d089118",
   "metadata": {},
   "outputs": [
    {
     "data": {
      "text/plain": [
       "(714,)"
      ]
     },
     "execution_count": 59,
     "metadata": {},
     "output_type": "execute_result"
    }
   ],
   "source": [
    "# Vérifications du nombre d'id_web différentes dans df_web :\n",
    "df_web_nettoyé.id_web.unique().shape"
   ]
  },
  {
   "cell_type": "markdown",
   "id": "049d1784",
   "metadata": {},
   "source": [
    "### erp :"
   ]
  },
  {
   "cell_type": "code",
   "execution_count": 60,
   "id": "2cc36b26",
   "metadata": {},
   "outputs": [
    {
     "data": {
      "text/plain": [
       "(825,)"
      ]
     },
     "execution_count": 60,
     "metadata": {},
     "output_type": "execute_result"
    }
   ],
   "source": [
    "# Vérifications du nombre de product_id différentes dans df_erp :\n",
    "df_erp.product_id.unique().shape"
   ]
  },
  {
   "cell_type": "markdown",
   "id": "c79a7c9e",
   "metadata": {},
   "source": [
    "### liaison :"
   ]
  },
  {
   "cell_type": "code",
   "execution_count": 61,
   "id": "f1a68620",
   "metadata": {},
   "outputs": [
    {
     "data": {
      "text/plain": [
       "(825,)"
      ]
     },
     "execution_count": 61,
     "metadata": {},
     "output_type": "execute_result"
    }
   ],
   "source": [
    "# Vérifications du nombre de product_id différentes dans df_liaison :\n",
    "df_liaison.product_id.unique().shape"
   ]
  },
  {
   "cell_type": "code",
   "execution_count": 62,
   "id": "957429c8",
   "metadata": {},
   "outputs": [
    {
     "data": {
      "text/plain": [
       "(735,)"
      ]
     },
     "execution_count": 62,
     "metadata": {},
     "output_type": "execute_result"
    }
   ],
   "source": [
    "# Vérifications du nombre d'id_web différentes dans df_liaison :\n",
    "df_liaison.id_web.unique().shape"
   ]
  },
  {
   "cell_type": "markdown",
   "id": "f0b75e8f",
   "metadata": {},
   "source": [
    "# Fusion des tables :"
   ]
  },
  {
   "cell_type": "code",
   "execution_count": 63,
   "id": "6666f91a",
   "metadata": {},
   "outputs": [],
   "source": [
    "df_erp_liaison = df_erp.merge(df_liaison, left_on='product_id', right_on='product_id')"
   ]
  },
  {
   "cell_type": "code",
   "execution_count": 64,
   "id": "bcefddc7",
   "metadata": {},
   "outputs": [
    {
     "data": {
      "text/plain": [
       "(825, 6)"
      ]
     },
     "execution_count": 64,
     "metadata": {},
     "output_type": "execute_result"
    }
   ],
   "source": [
    "df_erp_liaison.shape"
   ]
  },
  {
   "cell_type": "code",
   "execution_count": 65,
   "id": "9ecbbee8",
   "metadata": {},
   "outputs": [
    {
     "data": {
      "text/html": [
       "<div>\n",
       "<style scoped>\n",
       "    .dataframe tbody tr th:only-of-type {\n",
       "        vertical-align: middle;\n",
       "    }\n",
       "\n",
       "    .dataframe tbody tr th {\n",
       "        vertical-align: top;\n",
       "    }\n",
       "\n",
       "    .dataframe thead th {\n",
       "        text-align: right;\n",
       "    }\n",
       "</style>\n",
       "<table border=\"1\" class=\"dataframe\">\n",
       "  <thead>\n",
       "    <tr style=\"text-align: right;\">\n",
       "      <th></th>\n",
       "      <th>product_id</th>\n",
       "      <th>onsale_web</th>\n",
       "      <th>price</th>\n",
       "      <th>stock_quantity</th>\n",
       "      <th>stock_status</th>\n",
       "      <th>id_web</th>\n",
       "    </tr>\n",
       "  </thead>\n",
       "  <tbody>\n",
       "    <tr>\n",
       "      <th>0</th>\n",
       "      <td>3847</td>\n",
       "      <td>1</td>\n",
       "      <td>24.2</td>\n",
       "      <td>0</td>\n",
       "      <td>outofstock</td>\n",
       "      <td>15298</td>\n",
       "    </tr>\n",
       "    <tr>\n",
       "      <th>1</th>\n",
       "      <td>3849</td>\n",
       "      <td>1</td>\n",
       "      <td>34.3</td>\n",
       "      <td>0</td>\n",
       "      <td>outofstock</td>\n",
       "      <td>15296</td>\n",
       "    </tr>\n",
       "    <tr>\n",
       "      <th>2</th>\n",
       "      <td>3850</td>\n",
       "      <td>1</td>\n",
       "      <td>20.8</td>\n",
       "      <td>0</td>\n",
       "      <td>outofstock</td>\n",
       "      <td>15300</td>\n",
       "    </tr>\n",
       "    <tr>\n",
       "      <th>3</th>\n",
       "      <td>4032</td>\n",
       "      <td>1</td>\n",
       "      <td>14.1</td>\n",
       "      <td>0</td>\n",
       "      <td>outofstock</td>\n",
       "      <td>19814</td>\n",
       "    </tr>\n",
       "    <tr>\n",
       "      <th>4</th>\n",
       "      <td>4039</td>\n",
       "      <td>1</td>\n",
       "      <td>46.0</td>\n",
       "      <td>0</td>\n",
       "      <td>outofstock</td>\n",
       "      <td>19815</td>\n",
       "    </tr>\n",
       "    <tr>\n",
       "      <th>...</th>\n",
       "      <td>...</td>\n",
       "      <td>...</td>\n",
       "      <td>...</td>\n",
       "      <td>...</td>\n",
       "      <td>...</td>\n",
       "      <td>...</td>\n",
       "    </tr>\n",
       "    <tr>\n",
       "      <th>820</th>\n",
       "      <td>7203</td>\n",
       "      <td>0</td>\n",
       "      <td>45.0</td>\n",
       "      <td>30</td>\n",
       "      <td>instock</td>\n",
       "      <td>NaN</td>\n",
       "    </tr>\n",
       "    <tr>\n",
       "      <th>821</th>\n",
       "      <td>7204</td>\n",
       "      <td>0</td>\n",
       "      <td>45.0</td>\n",
       "      <td>9</td>\n",
       "      <td>instock</td>\n",
       "      <td>NaN</td>\n",
       "    </tr>\n",
       "    <tr>\n",
       "      <th>822</th>\n",
       "      <td>7247</td>\n",
       "      <td>1</td>\n",
       "      <td>54.8</td>\n",
       "      <td>23</td>\n",
       "      <td>instock</td>\n",
       "      <td>13127-1</td>\n",
       "    </tr>\n",
       "    <tr>\n",
       "      <th>823</th>\n",
       "      <td>7329</td>\n",
       "      <td>0</td>\n",
       "      <td>26.5</td>\n",
       "      <td>14</td>\n",
       "      <td>instock</td>\n",
       "      <td>14680-1</td>\n",
       "    </tr>\n",
       "    <tr>\n",
       "      <th>824</th>\n",
       "      <td>7338</td>\n",
       "      <td>1</td>\n",
       "      <td>16.3</td>\n",
       "      <td>45</td>\n",
       "      <td>instock</td>\n",
       "      <td>16230</td>\n",
       "    </tr>\n",
       "  </tbody>\n",
       "</table>\n",
       "<p>825 rows × 6 columns</p>\n",
       "</div>"
      ],
      "text/plain": [
       "     product_id  onsale_web  price  stock_quantity stock_status   id_web\n",
       "0          3847           1   24.2               0   outofstock    15298\n",
       "1          3849           1   34.3               0   outofstock    15296\n",
       "2          3850           1   20.8               0   outofstock    15300\n",
       "3          4032           1   14.1               0   outofstock    19814\n",
       "4          4039           1   46.0               0   outofstock    19815\n",
       "..          ...         ...    ...             ...          ...      ...\n",
       "820        7203           0   45.0              30      instock      NaN\n",
       "821        7204           0   45.0               9      instock      NaN\n",
       "822        7247           1   54.8              23      instock  13127-1\n",
       "823        7329           0   26.5              14      instock  14680-1\n",
       "824        7338           1   16.3              45      instock    16230\n",
       "\n",
       "[825 rows x 6 columns]"
      ]
     },
     "execution_count": 65,
     "metadata": {},
     "output_type": "execute_result"
    }
   ],
   "source": [
    "df_erp_liaison"
   ]
  },
  {
   "cell_type": "code",
   "execution_count": 66,
   "id": "d06723c4",
   "metadata": {},
   "outputs": [],
   "source": [
    "df_erp_liaison = df_erp_liaison.reindex(columns = ['product_id','id_web','stock_quantity','price','stock_status','onsale_web'])"
   ]
  },
  {
   "cell_type": "code",
   "execution_count": 67,
   "id": "6ab0ccc3",
   "metadata": {},
   "outputs": [
    {
     "data": {
      "text/plain": [
       "<AxesSubplot:ylabel='post_type'>"
      ]
     },
     "execution_count": 67,
     "metadata": {},
     "output_type": "execute_result"
    },
    {
     "data": {
      "image/png": "[encoded data removed]",
      "text/plain": [
       "<Figure size 432x288 with 1 Axes>"
      ]
     },
     "metadata": {},
     "output_type": "display_data"
    }
   ],
   "source": [
    "df_web.post_type.isna().value_counts().plot.pie()"
   ]
  },
  {
   "cell_type": "code",
   "execution_count": 68,
   "id": "2b6bc985",
   "metadata": {},
   "outputs": [
    {
     "data": {
      "text/plain": [
       "<AxesSubplot:ylabel='id_web'>"
      ]
     },
     "execution_count": 68,
     "metadata": {},
     "output_type": "execute_result"
    },
    {
     "data": {
      "image/png": "[encoded data removed]",
      "text/plain": [
       "<Figure size 432x288 with 1 Axes>"
      ]
     },
     "metadata": {},
     "output_type": "display_data"
    }
   ],
   "source": [
    "df_erp_liaison.id_web.isna().value_counts().plot.pie()"
   ]
  },
  {
   "cell_type": "markdown",
   "id": "c8989508",
   "metadata": {},
   "source": [
    "### Réalisation de la connexion entre df_erp et df_liaison réalisée."
   ]
  },
  {
   "cell_type": "raw",
   "id": "cd49a830",
   "metadata": {},
   "source": [
    "********************************************************************************************************************************"
   ]
  },
  {
   "cell_type": "markdown",
   "id": "6f99ca06",
   "metadata": {},
   "source": [
    "## Réalisation de la connexion entre df_erp_liaison et df_web :"
   ]
  },
  {
   "cell_type": "code",
   "execution_count": 69,
   "id": "efb2716c",
   "metadata": {},
   "outputs": [
    {
     "data": {
      "text/plain": [
       "(714, 16)"
      ]
     },
     "execution_count": 69,
     "metadata": {},
     "output_type": "execute_result"
    }
   ],
   "source": [
    "df_web_nettoyé.shape"
   ]
  },
  {
   "cell_type": "code",
   "execution_count": 70,
   "id": "b9c609b3",
   "metadata": {},
   "outputs": [
    {
     "data": {
      "text/plain": [
       "(714,)"
      ]
     },
     "execution_count": 70,
     "metadata": {},
     "output_type": "execute_result"
    }
   ],
   "source": [
    "df_web_nettoyé.id_web.unique().shape"
   ]
  },
  {
   "cell_type": "code",
   "execution_count": 71,
   "id": "34af8988",
   "metadata": {},
   "outputs": [
    {
     "data": {
      "text/plain": [
       "id_web               714\n",
       "virtual              714\n",
       "downloadable         714\n",
       "rating_count         714\n",
       "average_rating       714\n",
       "total_sales          714\n",
       "tax_status           714\n",
       "post_author          714\n",
       "post_date            714\n",
       "post_date_gmt        714\n",
       "post_title           714\n",
       "post_excerpt         714\n",
       "post_name            714\n",
       "post_modified_gmt    714\n",
       "guid                 714\n",
       "post_type            714\n",
       "dtype: int64"
      ]
     },
     "execution_count": 71,
     "metadata": {},
     "output_type": "execute_result"
    }
   ],
   "source": [
    "df_web_nettoyé.count()"
   ]
  },
  {
   "cell_type": "code",
   "execution_count": 72,
   "id": "03e2b1f6",
   "metadata": {},
   "outputs": [
    {
     "data": {
      "text/html": [
       "<div>\n",
       "<style scoped>\n",
       "    .dataframe tbody tr th:only-of-type {\n",
       "        vertical-align: middle;\n",
       "    }\n",
       "\n",
       "    .dataframe tbody tr th {\n",
       "        vertical-align: top;\n",
       "    }\n",
       "\n",
       "    .dataframe thead th {\n",
       "        text-align: right;\n",
       "    }\n",
       "</style>\n",
       "<table border=\"1\" class=\"dataframe\">\n",
       "  <thead>\n",
       "    <tr style=\"text-align: right;\">\n",
       "      <th></th>\n",
       "      <th>product_id</th>\n",
       "      <th>id_web</th>\n",
       "      <th>stock_quantity</th>\n",
       "      <th>price</th>\n",
       "      <th>stock_status</th>\n",
       "      <th>onsale_web</th>\n",
       "      <th>virtual</th>\n",
       "      <th>downloadable</th>\n",
       "      <th>rating_count</th>\n",
       "      <th>average_rating</th>\n",
       "      <th>...</th>\n",
       "      <th>tax_status</th>\n",
       "      <th>post_author</th>\n",
       "      <th>post_date</th>\n",
       "      <th>post_date_gmt</th>\n",
       "      <th>post_title</th>\n",
       "      <th>post_excerpt</th>\n",
       "      <th>post_name</th>\n",
       "      <th>post_modified_gmt</th>\n",
       "      <th>guid</th>\n",
       "      <th>post_type</th>\n",
       "    </tr>\n",
       "  </thead>\n",
       "  <tbody>\n",
       "    <tr>\n",
       "      <th>194</th>\n",
       "      <td>4334</td>\n",
       "      <td>7818</td>\n",
       "      <td>0</td>\n",
       "      <td>49.0</td>\n",
       "      <td>outofstock</td>\n",
       "      <td>1</td>\n",
       "      <td>0</td>\n",
       "      <td>0</td>\n",
       "      <td>0</td>\n",
       "      <td>0.0</td>\n",
       "      <td>...</td>\n",
       "      <td>taxable</td>\n",
       "      <td>2.0</td>\n",
       "      <td>2018-03-01 14:02:44</td>\n",
       "      <td>2018-03-01 13:02:44</td>\n",
       "      <td>Champagne Gosset Grand Blanc de Blancs</td>\n",
       "      <td>La bulle fine et presente se dirige vers la su...</td>\n",
       "      <td>champagne-gosset-grand-blanc-de-blanc</td>\n",
       "      <td>2020-08-12 12:00:03</td>\n",
       "      <td>https://www.bottle-neck.fr/?post_type=product&amp;...</td>\n",
       "      <td>product</td>\n",
       "    </tr>\n",
       "    <tr>\n",
       "      <th>71</th>\n",
       "      <td>4144</td>\n",
       "      <td>1662</td>\n",
       "      <td>11</td>\n",
       "      <td>49.0</td>\n",
       "      <td>instock</td>\n",
       "      <td>1</td>\n",
       "      <td>0</td>\n",
       "      <td>0</td>\n",
       "      <td>0</td>\n",
       "      <td>0.0</td>\n",
       "      <td>...</td>\n",
       "      <td>taxable</td>\n",
       "      <td>2.0</td>\n",
       "      <td>2018-02-13 13:17:25</td>\n",
       "      <td>2018-02-13 12:17:25</td>\n",
       "      <td>Champagne Gosset Grand Rosé</td>\n",
       "      <td>Le nez exprime sans détour la fraise, dans sa ...</td>\n",
       "      <td>champagne-gosset-grand-rose</td>\n",
       "      <td>2020-08-14 14:45:03</td>\n",
       "      <td>https://www.bottle-neck.fr/?post_type=product&amp;...</td>\n",
       "      <td>product</td>\n",
       "    </tr>\n",
       "  </tbody>\n",
       "</table>\n",
       "<p>2 rows × 21 columns</p>\n",
       "</div>"
      ],
      "text/plain": [
       "     product_id id_web  stock_quantity  price stock_status  onsale_web  \\\n",
       "194        4334   7818               0   49.0   outofstock           1   \n",
       "71         4144   1662              11   49.0      instock           1   \n",
       "\n",
       "     virtual  downloadable  rating_count  average_rating  ...  tax_status  \\\n",
       "194        0             0             0             0.0  ...     taxable   \n",
       "71         0             0             0             0.0  ...     taxable   \n",
       "\n",
       "    post_author           post_date       post_date_gmt  \\\n",
       "194         2.0 2018-03-01 14:02:44 2018-03-01 13:02:44   \n",
       "71          2.0 2018-02-13 13:17:25 2018-02-13 12:17:25   \n",
       "\n",
       "                                 post_title  \\\n",
       "194  Champagne Gosset Grand Blanc de Blancs   \n",
       "71              Champagne Gosset Grand Rosé   \n",
       "\n",
       "                                          post_excerpt  \\\n",
       "194  La bulle fine et presente se dirige vers la su...   \n",
       "71   Le nez exprime sans détour la fraise, dans sa ...   \n",
       "\n",
       "                                 post_name   post_modified_gmt  \\\n",
       "194  champagne-gosset-grand-blanc-de-blanc 2020-08-12 12:00:03   \n",
       "71             champagne-gosset-grand-rose 2020-08-14 14:45:03   \n",
       "\n",
       "                                                  guid post_type  \n",
       "194  https://www.bottle-neck.fr/?post_type=product&...   product  \n",
       "71   https://www.bottle-neck.fr/?post_type=product&...   product  \n",
       "\n",
       "[2 rows x 21 columns]"
      ]
     },
     "execution_count": 72,
     "metadata": {},
     "output_type": "execute_result"
    }
   ],
   "source": [
    "df_erp_liaison_web = pd.merge(df_erp_liaison, df_web_nettoyé, on=\"id_web\").sort_values(by='total_sales',ascending=False)\n",
    "df_erp_liaison_web.head(2)"
   ]
  },
  {
   "cell_type": "code",
   "execution_count": 73,
   "id": "9ab0f3b4",
   "metadata": {},
   "outputs": [
    {
     "data": {
      "text/plain": [
       "Index(['product_id', 'id_web', 'stock_quantity', 'price', 'stock_status',\n",
       "       'onsale_web', 'virtual', 'downloadable', 'rating_count',\n",
       "       'average_rating', 'total_sales', 'tax_status', 'post_author',\n",
       "       'post_date', 'post_date_gmt', 'post_title', 'post_excerpt', 'post_name',\n",
       "       'post_modified_gmt', 'guid', 'post_type'],\n",
       "      dtype='object')"
      ]
     },
     "execution_count": 73,
     "metadata": {},
     "output_type": "execute_result"
    }
   ],
   "source": [
    "df_erp_liaison_web.columns"
   ]
  },
  {
   "cell_type": "markdown",
   "id": "56670a03",
   "metadata": {},
   "source": [
    "# Choix de l'ordre des colonnes pour y voir plus clair :"
   ]
  },
  {
   "cell_type": "code",
   "execution_count": 74,
   "id": "17244668",
   "metadata": {},
   "outputs": [
    {
     "data": {
      "text/html": [
       "<div>\n",
       "<style scoped>\n",
       "    .dataframe tbody tr th:only-of-type {\n",
       "        vertical-align: middle;\n",
       "    }\n",
       "\n",
       "    .dataframe tbody tr th {\n",
       "        vertical-align: top;\n",
       "    }\n",
       "\n",
       "    .dataframe thead th {\n",
       "        text-align: right;\n",
       "    }\n",
       "</style>\n",
       "<table border=\"1\" class=\"dataframe\">\n",
       "  <thead>\n",
       "    <tr style=\"text-align: right;\">\n",
       "      <th></th>\n",
       "      <th>product_id</th>\n",
       "      <th>id_web</th>\n",
       "      <th>stock_quantity</th>\n",
       "      <th>price</th>\n",
       "      <th>total_sales</th>\n",
       "      <th>onsale_web</th>\n",
       "      <th>post_date_gmt</th>\n",
       "      <th>post_title</th>\n",
       "      <th>post_excerpt</th>\n",
       "      <th>guid</th>\n",
       "    </tr>\n",
       "  </thead>\n",
       "  <tbody>\n",
       "    <tr>\n",
       "      <th>194</th>\n",
       "      <td>4334</td>\n",
       "      <td>7818</td>\n",
       "      <td>0</td>\n",
       "      <td>49.0</td>\n",
       "      <td>96.0</td>\n",
       "      <td>1</td>\n",
       "      <td>2018-03-01 13:02:44</td>\n",
       "      <td>Champagne Gosset Grand Blanc de Blancs</td>\n",
       "      <td>La bulle fine et presente se dirige vers la su...</td>\n",
       "      <td>https://www.bottle-neck.fr/?post_type=product&amp;...</td>\n",
       "    </tr>\n",
       "    <tr>\n",
       "      <th>71</th>\n",
       "      <td>4144</td>\n",
       "      <td>1662</td>\n",
       "      <td>11</td>\n",
       "      <td>49.0</td>\n",
       "      <td>87.0</td>\n",
       "      <td>1</td>\n",
       "      <td>2018-02-13 12:17:25</td>\n",
       "      <td>Champagne Gosset Grand Rosé</td>\n",
       "      <td>Le nez exprime sans détour la fraise, dans sa ...</td>\n",
       "      <td>https://www.bottle-neck.fr/?post_type=product&amp;...</td>\n",
       "    </tr>\n",
       "    <tr>\n",
       "      <th>30</th>\n",
       "      <td>4068</td>\n",
       "      <td>16416</td>\n",
       "      <td>157</td>\n",
       "      <td>16.6</td>\n",
       "      <td>62.0</td>\n",
       "      <td>1</td>\n",
       "      <td>2018-02-12 12:42:28</td>\n",
       "      <td>Gilles Robin Crozes-Hermitage Rouge Papillon 2019</td>\n",
       "      <td>Avec ses arômes de cassis, de myrtille, de cer...</td>\n",
       "      <td>https://www.bottle-neck.fr/?post_type=product&amp;...</td>\n",
       "    </tr>\n",
       "    <tr>\n",
       "      <th>119</th>\n",
       "      <td>4200</td>\n",
       "      <td>16295</td>\n",
       "      <td>190</td>\n",
       "      <td>5.8</td>\n",
       "      <td>46.0</td>\n",
       "      <td>1</td>\n",
       "      <td>2018-02-15 13:05:06</td>\n",
       "      <td>Moulin de Gassac IGP Pays d'Hérault Guilhem Ro...</td>\n",
       "      <td>Rosé très agréable, intense, floral et minéral...</td>\n",
       "      <td>https://www.bottle-neck.fr/?post_type=product&amp;...</td>\n",
       "    </tr>\n",
       "    <tr>\n",
       "      <th>97</th>\n",
       "      <td>4172</td>\n",
       "      <td>16210</td>\n",
       "      <td>167</td>\n",
       "      <td>5.7</td>\n",
       "      <td>43.0</td>\n",
       "      <td>1</td>\n",
       "      <td>2018-02-14 15:54:33</td>\n",
       "      <td>Maurel Pays d'Oc Chardonnay 2019</td>\n",
       "      <td>Un très joli petit chardonnay qui nous révèle ...</td>\n",
       "      <td>https://www.bottle-neck.fr/?post_type=product&amp;...</td>\n",
       "    </tr>\n",
       "    <tr>\n",
       "      <th>...</th>\n",
       "      <td>...</td>\n",
       "      <td>...</td>\n",
       "      <td>...</td>\n",
       "      <td>...</td>\n",
       "      <td>...</td>\n",
       "      <td>...</td>\n",
       "      <td>...</td>\n",
       "      <td>...</td>\n",
       "      <td>...</td>\n",
       "      <td>...</td>\n",
       "    </tr>\n",
       "    <tr>\n",
       "      <th>352</th>\n",
       "      <td>4791</td>\n",
       "      <td>14599</td>\n",
       "      <td>24</td>\n",
       "      <td>13.6</td>\n",
       "      <td>0.0</td>\n",
       "      <td>1</td>\n",
       "      <td>2018-04-19 12:31:41</td>\n",
       "      <td>Maurice Schoech Pinot Noir Pièce de Chêne 2016</td>\n",
       "      <td>Cette cuvée est issue d’une sélection des plus...</td>\n",
       "      <td>https://www.bottle-neck.fr/?post_type=product&amp;...</td>\n",
       "    </tr>\n",
       "    <tr>\n",
       "      <th>351</th>\n",
       "      <td>4790</td>\n",
       "      <td>15732</td>\n",
       "      <td>43</td>\n",
       "      <td>11.1</td>\n",
       "      <td>0.0</td>\n",
       "      <td>1</td>\n",
       "      <td>2018-04-19 12:25:00</td>\n",
       "      <td>Maurice Schoech Riesling 2018</td>\n",
       "      <td>Un Riesling plein de fruits frais, sec et racé...</td>\n",
       "      <td>https://www.bottle-neck.fr/?post_type=product&amp;...</td>\n",
       "    </tr>\n",
       "    <tr>\n",
       "      <th>348</th>\n",
       "      <td>4786</td>\n",
       "      <td>15881</td>\n",
       "      <td>37</td>\n",
       "      <td>12.1</td>\n",
       "      <td>0.0</td>\n",
       "      <td>1</td>\n",
       "      <td>2018-04-19 11:52:18</td>\n",
       "      <td>Maurice Schoech Gewurztraminer 2018</td>\n",
       "      <td>Ce sont des vignes âgées situées autour d’Amme...</td>\n",
       "      <td>https://www.bottle-neck.fr/?post_type=product&amp;...</td>\n",
       "    </tr>\n",
       "    <tr>\n",
       "      <th>346</th>\n",
       "      <td>4784</td>\n",
       "      <td>15734</td>\n",
       "      <td>10</td>\n",
       "      <td>28.5</td>\n",
       "      <td>0.0</td>\n",
       "      <td>1</td>\n",
       "      <td>2018-04-19 11:46:52</td>\n",
       "      <td>Maurice Schoech Riesling Vendanges Tardives 2017</td>\n",
       "      <td>Ces raisins ont été récoltés en trois tris ave...</td>\n",
       "      <td>https://www.bottle-neck.fr/?post_type=product&amp;...</td>\n",
       "    </tr>\n",
       "    <tr>\n",
       "      <th>713</th>\n",
       "      <td>7338</td>\n",
       "      <td>16230</td>\n",
       "      <td>45</td>\n",
       "      <td>16.3</td>\n",
       "      <td>0.0</td>\n",
       "      <td>1</td>\n",
       "      <td>2020-07-20 09:00:00</td>\n",
       "      <td>Domaine Saint-Nicolas Vin de France Blanc Les ...</td>\n",
       "      <td>Issu d'un assemblage de chenin blanc et de cha...</td>\n",
       "      <td>https://www.bottle-neck.fr/?post_type=product&amp;...</td>\n",
       "    </tr>\n",
       "  </tbody>\n",
       "</table>\n",
       "<p>714 rows × 10 columns</p>\n",
       "</div>"
      ],
      "text/plain": [
       "     product_id id_web  stock_quantity  price  total_sales  onsale_web  \\\n",
       "194        4334   7818               0   49.0         96.0           1   \n",
       "71         4144   1662              11   49.0         87.0           1   \n",
       "30         4068  16416             157   16.6         62.0           1   \n",
       "119        4200  16295             190    5.8         46.0           1   \n",
       "97         4172  16210             167    5.7         43.0           1   \n",
       "..          ...    ...             ...    ...          ...         ...   \n",
       "352        4791  14599              24   13.6          0.0           1   \n",
       "351        4790  15732              43   11.1          0.0           1   \n",
       "348        4786  15881              37   12.1          0.0           1   \n",
       "346        4784  15734              10   28.5          0.0           1   \n",
       "713        7338  16230              45   16.3          0.0           1   \n",
       "\n",
       "          post_date_gmt                                         post_title  \\\n",
       "194 2018-03-01 13:02:44             Champagne Gosset Grand Blanc de Blancs   \n",
       "71  2018-02-13 12:17:25                        Champagne Gosset Grand Rosé   \n",
       "30  2018-02-12 12:42:28  Gilles Robin Crozes-Hermitage Rouge Papillon 2019   \n",
       "119 2018-02-15 13:05:06  Moulin de Gassac IGP Pays d'Hérault Guilhem Ro...   \n",
       "97  2018-02-14 15:54:33                   Maurel Pays d'Oc Chardonnay 2019   \n",
       "..                  ...                                                ...   \n",
       "352 2018-04-19 12:31:41     Maurice Schoech Pinot Noir Pièce de Chêne 2016   \n",
       "351 2018-04-19 12:25:00                      Maurice Schoech Riesling 2018   \n",
       "348 2018-04-19 11:52:18                Maurice Schoech Gewurztraminer 2018   \n",
       "346 2018-04-19 11:46:52   Maurice Schoech Riesling Vendanges Tardives 2017   \n",
       "713 2020-07-20 09:00:00  Domaine Saint-Nicolas Vin de France Blanc Les ...   \n",
       "\n",
       "                                          post_excerpt  \\\n",
       "194  La bulle fine et presente se dirige vers la su...   \n",
       "71   Le nez exprime sans détour la fraise, dans sa ...   \n",
       "30   Avec ses arômes de cassis, de myrtille, de cer...   \n",
       "119  Rosé très agréable, intense, floral et minéral...   \n",
       "97   Un très joli petit chardonnay qui nous révèle ...   \n",
       "..                                                 ...   \n",
       "352  Cette cuvée est issue d’une sélection des plus...   \n",
       "351  Un Riesling plein de fruits frais, sec et racé...   \n",
       "348  Ce sont des vignes âgées situées autour d’Amme...   \n",
       "346  Ces raisins ont été récoltés en trois tris ave...   \n",
       "713  Issu d'un assemblage de chenin blanc et de cha...   \n",
       "\n",
       "                                                  guid  \n",
       "194  https://www.bottle-neck.fr/?post_type=product&...  \n",
       "71   https://www.bottle-neck.fr/?post_type=product&...  \n",
       "30   https://www.bottle-neck.fr/?post_type=product&...  \n",
       "119  https://www.bottle-neck.fr/?post_type=product&...  \n",
       "97   https://www.bottle-neck.fr/?post_type=product&...  \n",
       "..                                                 ...  \n",
       "352  https://www.bottle-neck.fr/?post_type=product&...  \n",
       "351  https://www.bottle-neck.fr/?post_type=product&...  \n",
       "348  https://www.bottle-neck.fr/?post_type=product&...  \n",
       "346  https://www.bottle-neck.fr/?post_type=product&...  \n",
       "713  https://www.bottle-neck.fr/?post_type=product&...  \n",
       "\n",
       "[714 rows x 10 columns]"
      ]
     },
     "execution_count": 74,
     "metadata": {},
     "output_type": "execute_result"
    }
   ],
   "source": [
    "df_erp_liaison_web.reindex(columns=['product_id', 'id_web','stock_quantity','price','total_sales','onsale_web','post_date_gmt','post_title','post_excerpt','guid'])"
   ]
  },
  {
   "cell_type": "markdown",
   "id": "3c8f88bc",
   "metadata": {},
   "source": [
    "# Jeu de données prêt à l'exploitation : df_erp_liaison_web"
   ]
  },
  {
   "cell_type": "code",
   "execution_count": 75,
   "id": "4218c006",
   "metadata": {},
   "outputs": [
    {
     "data": {
      "text/plain": [
       "<AxesSubplot:>"
      ]
     },
     "execution_count": 75,
     "metadata": {},
     "output_type": "execute_result"
    },
    {
     "data": {
      "image/png": "[encoded data removed]",
      "text/plain": [
       "<Figure size 1440x720 with 1 Axes>"
      ]
     },
     "metadata": {
      "needs_background": "light"
     },
     "output_type": "display_data"
    }
   ],
   "source": [
    "plt.figure(figsize=(20,10))\n",
    "sns.heatmap(df_erp_liaison_web.isna(), cbar=False)"
   ]
  },
  {
   "cell_type": "code",
   "execution_count": 76,
   "id": "ff6d64b9",
   "metadata": {},
   "outputs": [
    {
     "data": {
      "text/html": [
       "<div>\n",
       "<style scoped>\n",
       "    .dataframe tbody tr th:only-of-type {\n",
       "        vertical-align: middle;\n",
       "    }\n",
       "\n",
       "    .dataframe tbody tr th {\n",
       "        vertical-align: top;\n",
       "    }\n",
       "\n",
       "    .dataframe thead th {\n",
       "        text-align: right;\n",
       "    }\n",
       "</style>\n",
       "<table border=\"1\" class=\"dataframe\">\n",
       "  <thead>\n",
       "    <tr style=\"text-align: right;\">\n",
       "      <th></th>\n",
       "      <th>product_id</th>\n",
       "      <th>id_web</th>\n",
       "      <th>stock_quantity</th>\n",
       "      <th>price</th>\n",
       "      <th>stock_status</th>\n",
       "      <th>onsale_web</th>\n",
       "      <th>virtual</th>\n",
       "      <th>downloadable</th>\n",
       "      <th>rating_count</th>\n",
       "      <th>average_rating</th>\n",
       "      <th>...</th>\n",
       "      <th>tax_status</th>\n",
       "      <th>post_author</th>\n",
       "      <th>post_date</th>\n",
       "      <th>post_date_gmt</th>\n",
       "      <th>post_title</th>\n",
       "      <th>post_excerpt</th>\n",
       "      <th>post_name</th>\n",
       "      <th>post_modified_gmt</th>\n",
       "      <th>guid</th>\n",
       "      <th>post_type</th>\n",
       "    </tr>\n",
       "  </thead>\n",
       "  <tbody>\n",
       "    <tr>\n",
       "      <th>194</th>\n",
       "      <td>4334</td>\n",
       "      <td>7818</td>\n",
       "      <td>0</td>\n",
       "      <td>49.0</td>\n",
       "      <td>outofstock</td>\n",
       "      <td>1</td>\n",
       "      <td>0</td>\n",
       "      <td>0</td>\n",
       "      <td>0</td>\n",
       "      <td>0.0</td>\n",
       "      <td>...</td>\n",
       "      <td>taxable</td>\n",
       "      <td>2.0</td>\n",
       "      <td>2018-03-01 14:02:44</td>\n",
       "      <td>2018-03-01 13:02:44</td>\n",
       "      <td>Champagne Gosset Grand Blanc de Blancs</td>\n",
       "      <td>La bulle fine et presente se dirige vers la su...</td>\n",
       "      <td>champagne-gosset-grand-blanc-de-blanc</td>\n",
       "      <td>2020-08-12 12:00:03</td>\n",
       "      <td>https://www.bottle-neck.fr/?post_type=product&amp;...</td>\n",
       "      <td>product</td>\n",
       "    </tr>\n",
       "    <tr>\n",
       "      <th>71</th>\n",
       "      <td>4144</td>\n",
       "      <td>1662</td>\n",
       "      <td>11</td>\n",
       "      <td>49.0</td>\n",
       "      <td>instock</td>\n",
       "      <td>1</td>\n",
       "      <td>0</td>\n",
       "      <td>0</td>\n",
       "      <td>0</td>\n",
       "      <td>0.0</td>\n",
       "      <td>...</td>\n",
       "      <td>taxable</td>\n",
       "      <td>2.0</td>\n",
       "      <td>2018-02-13 13:17:25</td>\n",
       "      <td>2018-02-13 12:17:25</td>\n",
       "      <td>Champagne Gosset Grand Rosé</td>\n",
       "      <td>Le nez exprime sans détour la fraise, dans sa ...</td>\n",
       "      <td>champagne-gosset-grand-rose</td>\n",
       "      <td>2020-08-14 14:45:03</td>\n",
       "      <td>https://www.bottle-neck.fr/?post_type=product&amp;...</td>\n",
       "      <td>product</td>\n",
       "    </tr>\n",
       "    <tr>\n",
       "      <th>30</th>\n",
       "      <td>4068</td>\n",
       "      <td>16416</td>\n",
       "      <td>157</td>\n",
       "      <td>16.6</td>\n",
       "      <td>instock</td>\n",
       "      <td>1</td>\n",
       "      <td>0</td>\n",
       "      <td>0</td>\n",
       "      <td>0</td>\n",
       "      <td>0.0</td>\n",
       "      <td>...</td>\n",
       "      <td>taxable</td>\n",
       "      <td>2.0</td>\n",
       "      <td>2018-02-12 13:42:28</td>\n",
       "      <td>2018-02-12 12:42:28</td>\n",
       "      <td>Gilles Robin Crozes-Hermitage Rouge Papillon 2019</td>\n",
       "      <td>Avec ses arômes de cassis, de myrtille, de cer...</td>\n",
       "      <td>gilles-robin-crozes-hermitage-papillon-2019</td>\n",
       "      <td>2020-08-27 14:05:04</td>\n",
       "      <td>https://www.bottle-neck.fr/?post_type=product&amp;...</td>\n",
       "      <td>product</td>\n",
       "    </tr>\n",
       "    <tr>\n",
       "      <th>119</th>\n",
       "      <td>4200</td>\n",
       "      <td>16295</td>\n",
       "      <td>190</td>\n",
       "      <td>5.8</td>\n",
       "      <td>instock</td>\n",
       "      <td>1</td>\n",
       "      <td>0</td>\n",
       "      <td>0</td>\n",
       "      <td>0</td>\n",
       "      <td>0.0</td>\n",
       "      <td>...</td>\n",
       "      <td>taxable</td>\n",
       "      <td>2.0</td>\n",
       "      <td>2018-02-15 14:05:06</td>\n",
       "      <td>2018-02-15 13:05:06</td>\n",
       "      <td>Moulin de Gassac IGP Pays d'Hérault Guilhem Ro...</td>\n",
       "      <td>Rosé très agréable, intense, floral et minéral...</td>\n",
       "      <td>moulin-de-gassac-igp-pays-dherault-guilhem-ros...</td>\n",
       "      <td>2020-08-27 16:55:03</td>\n",
       "      <td>https://www.bottle-neck.fr/?post_type=product&amp;...</td>\n",
       "      <td>product</td>\n",
       "    </tr>\n",
       "    <tr>\n",
       "      <th>97</th>\n",
       "      <td>4172</td>\n",
       "      <td>16210</td>\n",
       "      <td>167</td>\n",
       "      <td>5.7</td>\n",
       "      <td>instock</td>\n",
       "      <td>1</td>\n",
       "      <td>0</td>\n",
       "      <td>0</td>\n",
       "      <td>0</td>\n",
       "      <td>0.0</td>\n",
       "      <td>...</td>\n",
       "      <td>taxable</td>\n",
       "      <td>2.0</td>\n",
       "      <td>2018-02-14 16:54:33</td>\n",
       "      <td>2018-02-14 15:54:33</td>\n",
       "      <td>Maurel Pays d'Oc Chardonnay 2019</td>\n",
       "      <td>Un très joli petit chardonnay qui nous révèle ...</td>\n",
       "      <td>maurel-pays-oc-chardonnay-2019</td>\n",
       "      <td>2020-08-27 13:35:02</td>\n",
       "      <td>https://www.bottle-neck.fr/?post_type=product&amp;...</td>\n",
       "      <td>product</td>\n",
       "    </tr>\n",
       "    <tr>\n",
       "      <th>...</th>\n",
       "      <td>...</td>\n",
       "      <td>...</td>\n",
       "      <td>...</td>\n",
       "      <td>...</td>\n",
       "      <td>...</td>\n",
       "      <td>...</td>\n",
       "      <td>...</td>\n",
       "      <td>...</td>\n",
       "      <td>...</td>\n",
       "      <td>...</td>\n",
       "      <td>...</td>\n",
       "      <td>...</td>\n",
       "      <td>...</td>\n",
       "      <td>...</td>\n",
       "      <td>...</td>\n",
       "      <td>...</td>\n",
       "      <td>...</td>\n",
       "      <td>...</td>\n",
       "      <td>...</td>\n",
       "      <td>...</td>\n",
       "      <td>...</td>\n",
       "    </tr>\n",
       "    <tr>\n",
       "      <th>352</th>\n",
       "      <td>4791</td>\n",
       "      <td>14599</td>\n",
       "      <td>24</td>\n",
       "      <td>13.6</td>\n",
       "      <td>instock</td>\n",
       "      <td>1</td>\n",
       "      <td>0</td>\n",
       "      <td>0</td>\n",
       "      <td>0</td>\n",
       "      <td>0.0</td>\n",
       "      <td>...</td>\n",
       "      <td>taxable</td>\n",
       "      <td>2.0</td>\n",
       "      <td>2018-04-19 14:31:41</td>\n",
       "      <td>2018-04-19 12:31:41</td>\n",
       "      <td>Maurice Schoech Pinot Noir Pièce de Chêne 2016</td>\n",
       "      <td>Cette cuvée est issue d’une sélection des plus...</td>\n",
       "      <td>maurice-schoech-pinot-noir-piece-de-chene-2016</td>\n",
       "      <td>2020-07-07 15:05:02</td>\n",
       "      <td>https://www.bottle-neck.fr/?post_type=product&amp;...</td>\n",
       "      <td>product</td>\n",
       "    </tr>\n",
       "    <tr>\n",
       "      <th>351</th>\n",
       "      <td>4790</td>\n",
       "      <td>15732</td>\n",
       "      <td>43</td>\n",
       "      <td>11.1</td>\n",
       "      <td>instock</td>\n",
       "      <td>1</td>\n",
       "      <td>0</td>\n",
       "      <td>0</td>\n",
       "      <td>0</td>\n",
       "      <td>0.0</td>\n",
       "      <td>...</td>\n",
       "      <td>taxable</td>\n",
       "      <td>2.0</td>\n",
       "      <td>2018-04-19 14:25:00</td>\n",
       "      <td>2018-04-19 12:25:00</td>\n",
       "      <td>Maurice Schoech Riesling 2018</td>\n",
       "      <td>Un Riesling plein de fruits frais, sec et racé...</td>\n",
       "      <td>maurice-schoech-riesling-2018</td>\n",
       "      <td>2020-08-24 16:15:03</td>\n",
       "      <td>https://www.bottle-neck.fr/?post_type=product&amp;...</td>\n",
       "      <td>product</td>\n",
       "    </tr>\n",
       "    <tr>\n",
       "      <th>348</th>\n",
       "      <td>4786</td>\n",
       "      <td>15881</td>\n",
       "      <td>37</td>\n",
       "      <td>12.1</td>\n",
       "      <td>instock</td>\n",
       "      <td>1</td>\n",
       "      <td>0</td>\n",
       "      <td>0</td>\n",
       "      <td>0</td>\n",
       "      <td>0.0</td>\n",
       "      <td>...</td>\n",
       "      <td>taxable</td>\n",
       "      <td>2.0</td>\n",
       "      <td>2018-04-19 13:52:18</td>\n",
       "      <td>2018-04-19 11:52:18</td>\n",
       "      <td>Maurice Schoech Gewurztraminer 2018</td>\n",
       "      <td>Ce sont des vignes âgées situées autour d’Amme...</td>\n",
       "      <td>maurice-schoech-gewurztraminer-2018</td>\n",
       "      <td>2020-08-27 15:55:02</td>\n",
       "      <td>https://www.bottle-neck.fr/?post_type=product&amp;...</td>\n",
       "      <td>product</td>\n",
       "    </tr>\n",
       "    <tr>\n",
       "      <th>346</th>\n",
       "      <td>4784</td>\n",
       "      <td>15734</td>\n",
       "      <td>10</td>\n",
       "      <td>28.5</td>\n",
       "      <td>instock</td>\n",
       "      <td>1</td>\n",
       "      <td>0</td>\n",
       "      <td>0</td>\n",
       "      <td>0</td>\n",
       "      <td>0.0</td>\n",
       "      <td>...</td>\n",
       "      <td>taxable</td>\n",
       "      <td>2.0</td>\n",
       "      <td>2018-04-19 13:46:52</td>\n",
       "      <td>2018-04-19 11:46:52</td>\n",
       "      <td>Maurice Schoech Riesling Vendanges Tardives 2017</td>\n",
       "      <td>Ces raisins ont été récoltés en trois tris ave...</td>\n",
       "      <td>maurice-schoech-riesling-vendanges-tardives-2017</td>\n",
       "      <td>2020-08-20 07:30:12</td>\n",
       "      <td>https://www.bottle-neck.fr/?post_type=product&amp;...</td>\n",
       "      <td>product</td>\n",
       "    </tr>\n",
       "    <tr>\n",
       "      <th>713</th>\n",
       "      <td>7338</td>\n",
       "      <td>16230</td>\n",
       "      <td>45</td>\n",
       "      <td>16.3</td>\n",
       "      <td>instock</td>\n",
       "      <td>1</td>\n",
       "      <td>0</td>\n",
       "      <td>0</td>\n",
       "      <td>0</td>\n",
       "      <td>0.0</td>\n",
       "      <td>...</td>\n",
       "      <td>taxable</td>\n",
       "      <td>2.0</td>\n",
       "      <td>2020-07-20 11:00:00</td>\n",
       "      <td>2020-07-20 09:00:00</td>\n",
       "      <td>Domaine Saint-Nicolas Vin de France Blanc Les ...</td>\n",
       "      <td>Issu d'un assemblage de chenin blanc et de cha...</td>\n",
       "      <td>domaine-saint-nicolas-fiefs-vendeens-blanc-les...</td>\n",
       "      <td>2020-08-13 08:45:03</td>\n",
       "      <td>https://www.bottle-neck.fr/?post_type=product&amp;...</td>\n",
       "      <td>product</td>\n",
       "    </tr>\n",
       "  </tbody>\n",
       "</table>\n",
       "<p>714 rows × 21 columns</p>\n",
       "</div>"
      ],
      "text/plain": [
       "     product_id id_web  stock_quantity  price stock_status  onsale_web  \\\n",
       "194        4334   7818               0   49.0   outofstock           1   \n",
       "71         4144   1662              11   49.0      instock           1   \n",
       "30         4068  16416             157   16.6      instock           1   \n",
       "119        4200  16295             190    5.8      instock           1   \n",
       "97         4172  16210             167    5.7      instock           1   \n",
       "..          ...    ...             ...    ...          ...         ...   \n",
       "352        4791  14599              24   13.6      instock           1   \n",
       "351        4790  15732              43   11.1      instock           1   \n",
       "348        4786  15881              37   12.1      instock           1   \n",
       "346        4784  15734              10   28.5      instock           1   \n",
       "713        7338  16230              45   16.3      instock           1   \n",
       "\n",
       "     virtual  downloadable  rating_count  average_rating  ...  tax_status  \\\n",
       "194        0             0             0             0.0  ...     taxable   \n",
       "71         0             0             0             0.0  ...     taxable   \n",
       "30         0             0             0             0.0  ...     taxable   \n",
       "119        0             0             0             0.0  ...     taxable   \n",
       "97         0             0             0             0.0  ...     taxable   \n",
       "..       ...           ...           ...             ...  ...         ...   \n",
       "352        0             0             0             0.0  ...     taxable   \n",
       "351        0             0             0             0.0  ...     taxable   \n",
       "348        0             0             0             0.0  ...     taxable   \n",
       "346        0             0             0             0.0  ...     taxable   \n",
       "713        0             0             0             0.0  ...     taxable   \n",
       "\n",
       "    post_author           post_date       post_date_gmt  \\\n",
       "194         2.0 2018-03-01 14:02:44 2018-03-01 13:02:44   \n",
       "71          2.0 2018-02-13 13:17:25 2018-02-13 12:17:25   \n",
       "30          2.0 2018-02-12 13:42:28 2018-02-12 12:42:28   \n",
       "119         2.0 2018-02-15 14:05:06 2018-02-15 13:05:06   \n",
       "97          2.0 2018-02-14 16:54:33 2018-02-14 15:54:33   \n",
       "..          ...                 ...                 ...   \n",
       "352         2.0 2018-04-19 14:31:41 2018-04-19 12:31:41   \n",
       "351         2.0 2018-04-19 14:25:00 2018-04-19 12:25:00   \n",
       "348         2.0 2018-04-19 13:52:18 2018-04-19 11:52:18   \n",
       "346         2.0 2018-04-19 13:46:52 2018-04-19 11:46:52   \n",
       "713         2.0 2020-07-20 11:00:00 2020-07-20 09:00:00   \n",
       "\n",
       "                                            post_title  \\\n",
       "194             Champagne Gosset Grand Blanc de Blancs   \n",
       "71                         Champagne Gosset Grand Rosé   \n",
       "30   Gilles Robin Crozes-Hermitage Rouge Papillon 2019   \n",
       "119  Moulin de Gassac IGP Pays d'Hérault Guilhem Ro...   \n",
       "97                    Maurel Pays d'Oc Chardonnay 2019   \n",
       "..                                                 ...   \n",
       "352     Maurice Schoech Pinot Noir Pièce de Chêne 2016   \n",
       "351                      Maurice Schoech Riesling 2018   \n",
       "348                Maurice Schoech Gewurztraminer 2018   \n",
       "346   Maurice Schoech Riesling Vendanges Tardives 2017   \n",
       "713  Domaine Saint-Nicolas Vin de France Blanc Les ...   \n",
       "\n",
       "                                          post_excerpt  \\\n",
       "194  La bulle fine et presente se dirige vers la su...   \n",
       "71   Le nez exprime sans détour la fraise, dans sa ...   \n",
       "30   Avec ses arômes de cassis, de myrtille, de cer...   \n",
       "119  Rosé très agréable, intense, floral et minéral...   \n",
       "97   Un très joli petit chardonnay qui nous révèle ...   \n",
       "..                                                 ...   \n",
       "352  Cette cuvée est issue d’une sélection des plus...   \n",
       "351  Un Riesling plein de fruits frais, sec et racé...   \n",
       "348  Ce sont des vignes âgées situées autour d’Amme...   \n",
       "346  Ces raisins ont été récoltés en trois tris ave...   \n",
       "713  Issu d'un assemblage de chenin blanc et de cha...   \n",
       "\n",
       "                                             post_name   post_modified_gmt  \\\n",
       "194              champagne-gosset-grand-blanc-de-blanc 2020-08-12 12:00:03   \n",
       "71                         champagne-gosset-grand-rose 2020-08-14 14:45:03   \n",
       "30         gilles-robin-crozes-hermitage-papillon-2019 2020-08-27 14:05:04   \n",
       "119  moulin-de-gassac-igp-pays-dherault-guilhem-ros... 2020-08-27 16:55:03   \n",
       "97                      maurel-pays-oc-chardonnay-2019 2020-08-27 13:35:02   \n",
       "..                                                 ...                 ...   \n",
       "352     maurice-schoech-pinot-noir-piece-de-chene-2016 2020-07-07 15:05:02   \n",
       "351                      maurice-schoech-riesling-2018 2020-08-24 16:15:03   \n",
       "348                maurice-schoech-gewurztraminer-2018 2020-08-27 15:55:02   \n",
       "346   maurice-schoech-riesling-vendanges-tardives-2017 2020-08-20 07:30:12   \n",
       "713  domaine-saint-nicolas-fiefs-vendeens-blanc-les... 2020-08-13 08:45:03   \n",
       "\n",
       "                                                  guid post_type  \n",
       "194  https://www.bottle-neck.fr/?post_type=product&...   product  \n",
       "71   https://www.bottle-neck.fr/?post_type=product&...   product  \n",
       "30   https://www.bottle-neck.fr/?post_type=product&...   product  \n",
       "119  https://www.bottle-neck.fr/?post_type=product&...   product  \n",
       "97   https://www.bottle-neck.fr/?post_type=product&...   product  \n",
       "..                                                 ...       ...  \n",
       "352  https://www.bottle-neck.fr/?post_type=product&...   product  \n",
       "351  https://www.bottle-neck.fr/?post_type=product&...   product  \n",
       "348  https://www.bottle-neck.fr/?post_type=product&...   product  \n",
       "346  https://www.bottle-neck.fr/?post_type=product&...   product  \n",
       "713  https://www.bottle-neck.fr/?post_type=product&...   product  \n",
       "\n",
       "[714 rows x 21 columns]"
      ]
     },
     "execution_count": 76,
     "metadata": {},
     "output_type": "execute_result"
    }
   ],
   "source": [
    "df_erp_liaison_web"
   ]
  },
  {
   "cell_type": "code",
   "execution_count": 77,
   "id": "1f124e98",
   "metadata": {},
   "outputs": [],
   "source": [
    "df_erp_liaison_web[\"Totaux_des_ventes_par_produit\"] = df_erp_liaison_web['price']*df_erp_liaison_web['total_sales']"
   ]
  },
  {
   "cell_type": "code",
   "execution_count": 78,
   "id": "f2952bbd",
   "metadata": {},
   "outputs": [],
   "source": [
    "df_erp_liaison_web = df_erp_liaison_web.sort_values(\"Totaux_des_ventes_par_produit\", ascending = False)"
   ]
  },
  {
   "cell_type": "markdown",
   "id": "75190fb2",
   "metadata": {},
   "source": [
    "# On organise une dernière fois nos données :"
   ]
  },
  {
   "cell_type": "code",
   "execution_count": 79,
   "id": "18656918",
   "metadata": {},
   "outputs": [
    {
     "data": {
      "text/html": [
       "<div>\n",
       "<style scoped>\n",
       "    .dataframe tbody tr th:only-of-type {\n",
       "        vertical-align: middle;\n",
       "    }\n",
       "\n",
       "    .dataframe tbody tr th {\n",
       "        vertical-align: top;\n",
       "    }\n",
       "\n",
       "    .dataframe thead th {\n",
       "        text-align: right;\n",
       "    }\n",
       "</style>\n",
       "<table border=\"1\" class=\"dataframe\">\n",
       "  <thead>\n",
       "    <tr style=\"text-align: right;\">\n",
       "      <th></th>\n",
       "      <th>product_id</th>\n",
       "      <th>id_web</th>\n",
       "      <th>Totaux_des_ventes_par_produit</th>\n",
       "      <th>stock_quantity</th>\n",
       "      <th>price</th>\n",
       "      <th>total_sales</th>\n",
       "      <th>onsale_web</th>\n",
       "      <th>post_date_gmt</th>\n",
       "      <th>post_title</th>\n",
       "      <th>post_excerpt</th>\n",
       "      <th>guid</th>\n",
       "    </tr>\n",
       "  </thead>\n",
       "  <tbody>\n",
       "    <tr>\n",
       "      <th>194</th>\n",
       "      <td>4334</td>\n",
       "      <td>7818</td>\n",
       "      <td>4704.0</td>\n",
       "      <td>0</td>\n",
       "      <td>49.0</td>\n",
       "      <td>96.0</td>\n",
       "      <td>1</td>\n",
       "      <td>2018-03-01 13:02:44</td>\n",
       "      <td>Champagne Gosset Grand Blanc de Blancs</td>\n",
       "      <td>La bulle fine et presente se dirige vers la su...</td>\n",
       "      <td>https://www.bottle-neck.fr/?post_type=product&amp;...</td>\n",
       "    </tr>\n",
       "    <tr>\n",
       "      <th>71</th>\n",
       "      <td>4144</td>\n",
       "      <td>1662</td>\n",
       "      <td>4263.0</td>\n",
       "      <td>11</td>\n",
       "      <td>49.0</td>\n",
       "      <td>87.0</td>\n",
       "      <td>1</td>\n",
       "      <td>2018-02-13 12:17:25</td>\n",
       "      <td>Champagne Gosset Grand Rosé</td>\n",
       "      <td>Le nez exprime sans détour la fraise, dans sa ...</td>\n",
       "      <td>https://www.bottle-neck.fr/?post_type=product&amp;...</td>\n",
       "    </tr>\n",
       "    <tr>\n",
       "      <th>218</th>\n",
       "      <td>4402</td>\n",
       "      <td>3510</td>\n",
       "      <td>2288.0</td>\n",
       "      <td>8</td>\n",
       "      <td>176.0</td>\n",
       "      <td>13.0</td>\n",
       "      <td>1</td>\n",
       "      <td>2018-03-22 10:21:05</td>\n",
       "      <td>Cognac Frapin VIP XO</td>\n",
       "      <td>La cuvée VIP XO à été enrichie d’eaux-de-vie t...</td>\n",
       "      <td>https://www.bottle-neck.fr/?post_type=product&amp;...</td>\n",
       "    </tr>\n",
       "    <tr>\n",
       "      <th>70</th>\n",
       "      <td>4142</td>\n",
       "      <td>11641</td>\n",
       "      <td>1590.0</td>\n",
       "      <td>8</td>\n",
       "      <td>53.0</td>\n",
       "      <td>30.0</td>\n",
       "      <td>1</td>\n",
       "      <td>2018-02-13 12:08:44</td>\n",
       "      <td>Champagne Gosset Grand Millésime 2006</td>\n",
       "      <td>L'attaque est ample, gourmande avec une belle ...</td>\n",
       "      <td>https://www.bottle-neck.fr/?post_type=product&amp;...</td>\n",
       "    </tr>\n",
       "    <tr>\n",
       "      <th>69</th>\n",
       "      <td>4141</td>\n",
       "      <td>304</td>\n",
       "      <td>1560.0</td>\n",
       "      <td>1</td>\n",
       "      <td>39.0</td>\n",
       "      <td>40.0</td>\n",
       "      <td>1</td>\n",
       "      <td>2018-02-13 11:57:44</td>\n",
       "      <td>Champagne Gosset Grande Réserve</td>\n",
       "      <td>Le nez, ouvert et expressif, évoque les fruits...</td>\n",
       "      <td>https://www.bottle-neck.fr/?post_type=product&amp;...</td>\n",
       "    </tr>\n",
       "    <tr>\n",
       "      <th>...</th>\n",
       "      <td>...</td>\n",
       "      <td>...</td>\n",
       "      <td>...</td>\n",
       "      <td>...</td>\n",
       "      <td>...</td>\n",
       "      <td>...</td>\n",
       "      <td>...</td>\n",
       "      <td>...</td>\n",
       "      <td>...</td>\n",
       "      <td>...</td>\n",
       "      <td>...</td>\n",
       "    </tr>\n",
       "    <tr>\n",
       "      <th>599</th>\n",
       "      <td>5912</td>\n",
       "      <td>15227</td>\n",
       "      <td>0.0</td>\n",
       "      <td>8</td>\n",
       "      <td>57.0</td>\n",
       "      <td>0.0</td>\n",
       "      <td>1</td>\n",
       "      <td>2019-04-04 13:36:52</td>\n",
       "      <td>Kingsbarns Distillery Lowland Single Malt Whisky</td>\n",
       "      <td>&lt;span title=\"\"&gt;Dream to Dram, un caractère rem...</td>\n",
       "      <td>https://www.bottle-neck.fr/?post_type=product&amp;...</td>\n",
       "    </tr>\n",
       "    <tr>\n",
       "      <th>600</th>\n",
       "      <td>5913</td>\n",
       "      <td>10014</td>\n",
       "      <td>0.0</td>\n",
       "      <td>9</td>\n",
       "      <td>36.0</td>\n",
       "      <td>0.0</td>\n",
       "      <td>1</td>\n",
       "      <td>2019-04-04 13:45:23</td>\n",
       "      <td>Darnley's London Dry Gin Original</td>\n",
       "      <td>&lt;span title=\"\"&gt;Un gin léger, floral et aromati...</td>\n",
       "      <td>https://www.bottle-neck.fr/?post_type=product&amp;...</td>\n",
       "    </tr>\n",
       "    <tr>\n",
       "      <th>602</th>\n",
       "      <td>5916</td>\n",
       "      <td>14774</td>\n",
       "      <td>0.0</td>\n",
       "      <td>3</td>\n",
       "      <td>93.0</td>\n",
       "      <td>0.0</td>\n",
       "      <td>1</td>\n",
       "      <td>2019-04-04 14:39:24</td>\n",
       "      <td>Wemyss Malts Single Cask Scotch Whisky Chocola...</td>\n",
       "      <td>305 bouteilles, 13 ans d'âge.\\n\\n&lt;span title=\"...</td>\n",
       "      <td>https://www.bottle-neck.fr/?post_type=product&amp;...</td>\n",
       "    </tr>\n",
       "    <tr>\n",
       "      <th>603</th>\n",
       "      <td>5917</td>\n",
       "      <td>14775</td>\n",
       "      <td>0.0</td>\n",
       "      <td>4</td>\n",
       "      <td>122.0</td>\n",
       "      <td>0.0</td>\n",
       "      <td>1</td>\n",
       "      <td>2019-04-04 14:49:37</td>\n",
       "      <td>Wemyss Malts Single Cask Scotch Whisky Choc 'n...</td>\n",
       "      <td>710 bouteilles, 17 ans d'âge.\\n\\n&lt;span title=\"...</td>\n",
       "      <td>https://www.bottle-neck.fr/?post_type=product&amp;...</td>\n",
       "    </tr>\n",
       "    <tr>\n",
       "      <th>713</th>\n",
       "      <td>7338</td>\n",
       "      <td>16230</td>\n",
       "      <td>0.0</td>\n",
       "      <td>45</td>\n",
       "      <td>16.3</td>\n",
       "      <td>0.0</td>\n",
       "      <td>1</td>\n",
       "      <td>2020-07-20 09:00:00</td>\n",
       "      <td>Domaine Saint-Nicolas Vin de France Blanc Les ...</td>\n",
       "      <td>Issu d'un assemblage de chenin blanc et de cha...</td>\n",
       "      <td>https://www.bottle-neck.fr/?post_type=product&amp;...</td>\n",
       "    </tr>\n",
       "  </tbody>\n",
       "</table>\n",
       "<p>714 rows × 11 columns</p>\n",
       "</div>"
      ],
      "text/plain": [
       "     product_id id_web  Totaux_des_ventes_par_produit  stock_quantity  price  \\\n",
       "194        4334   7818                         4704.0               0   49.0   \n",
       "71         4144   1662                         4263.0              11   49.0   \n",
       "218        4402   3510                         2288.0               8  176.0   \n",
       "70         4142  11641                         1590.0               8   53.0   \n",
       "69         4141    304                         1560.0               1   39.0   \n",
       "..          ...    ...                            ...             ...    ...   \n",
       "599        5912  15227                            0.0               8   57.0   \n",
       "600        5913  10014                            0.0               9   36.0   \n",
       "602        5916  14774                            0.0               3   93.0   \n",
       "603        5917  14775                            0.0               4  122.0   \n",
       "713        7338  16230                            0.0              45   16.3   \n",
       "\n",
       "     total_sales  onsale_web       post_date_gmt  \\\n",
       "194         96.0           1 2018-03-01 13:02:44   \n",
       "71          87.0           1 2018-02-13 12:17:25   \n",
       "218         13.0           1 2018-03-22 10:21:05   \n",
       "70          30.0           1 2018-02-13 12:08:44   \n",
       "69          40.0           1 2018-02-13 11:57:44   \n",
       "..           ...         ...                 ...   \n",
       "599          0.0           1 2019-04-04 13:36:52   \n",
       "600          0.0           1 2019-04-04 13:45:23   \n",
       "602          0.0           1 2019-04-04 14:39:24   \n",
       "603          0.0           1 2019-04-04 14:49:37   \n",
       "713          0.0           1 2020-07-20 09:00:00   \n",
       "\n",
       "                                            post_title  \\\n",
       "194             Champagne Gosset Grand Blanc de Blancs   \n",
       "71                         Champagne Gosset Grand Rosé   \n",
       "218                               Cognac Frapin VIP XO   \n",
       "70               Champagne Gosset Grand Millésime 2006   \n",
       "69                     Champagne Gosset Grande Réserve   \n",
       "..                                                 ...   \n",
       "599   Kingsbarns Distillery Lowland Single Malt Whisky   \n",
       "600                  Darnley's London Dry Gin Original   \n",
       "602  Wemyss Malts Single Cask Scotch Whisky Chocola...   \n",
       "603  Wemyss Malts Single Cask Scotch Whisky Choc 'n...   \n",
       "713  Domaine Saint-Nicolas Vin de France Blanc Les ...   \n",
       "\n",
       "                                          post_excerpt  \\\n",
       "194  La bulle fine et presente se dirige vers la su...   \n",
       "71   Le nez exprime sans détour la fraise, dans sa ...   \n",
       "218  La cuvée VIP XO à été enrichie d’eaux-de-vie t...   \n",
       "70   L'attaque est ample, gourmande avec une belle ...   \n",
       "69   Le nez, ouvert et expressif, évoque les fruits...   \n",
       "..                                                 ...   \n",
       "599  <span title=\"\">Dream to Dram, un caractère rem...   \n",
       "600  <span title=\"\">Un gin léger, floral et aromati...   \n",
       "602  305 bouteilles, 13 ans d'âge.\\n\\n<span title=\"...   \n",
       "603  710 bouteilles, 17 ans d'âge.\\n\\n<span title=\"...   \n",
       "713  Issu d'un assemblage de chenin blanc et de cha...   \n",
       "\n",
       "                                                  guid  \n",
       "194  https://www.bottle-neck.fr/?post_type=product&...  \n",
       "71   https://www.bottle-neck.fr/?post_type=product&...  \n",
       "218  https://www.bottle-neck.fr/?post_type=product&...  \n",
       "70   https://www.bottle-neck.fr/?post_type=product&...  \n",
       "69   https://www.bottle-neck.fr/?post_type=product&...  \n",
       "..                                                 ...  \n",
       "599  https://www.bottle-neck.fr/?post_type=product&...  \n",
       "600  https://www.bottle-neck.fr/?post_type=product&...  \n",
       "602  https://www.bottle-neck.fr/?post_type=product&...  \n",
       "603  https://www.bottle-neck.fr/?post_type=product&...  \n",
       "713  https://www.bottle-neck.fr/?post_type=product&...  \n",
       "\n",
       "[714 rows x 11 columns]"
      ]
     },
     "execution_count": 79,
     "metadata": {},
     "output_type": "execute_result"
    }
   ],
   "source": [
    "df_erp_liaison_web.reindex(columns=['product_id', 'id_web','Totaux_des_ventes_par_produit','stock_quantity','price','total_sales','onsale_web','post_date_gmt','post_title','post_excerpt','guid'])"
   ]
  },
  {
   "cell_type": "code",
   "execution_count": 80,
   "id": "c98a7c5a",
   "metadata": {},
   "outputs": [
    {
     "data": {
      "text/plain": [
       "70568.6"
      ]
     },
     "execution_count": 80,
     "metadata": {},
     "output_type": "execute_result"
    }
   ],
   "source": [
    "CA_TOTAL_EN_LIGNE = df_erp_liaison_web[\"Totaux_des_ventes_par_produit\"].sum()\n",
    "CA_TOTAL_EN_LIGNE"
   ]
  },
  {
   "cell_type": "markdown",
   "id": "4659b978",
   "metadata": {},
   "source": [
    "# CA Total :   70 568,60 €      sur les ventes en ligne"
   ]
  },
  {
   "cell_type": "code",
   "execution_count": 81,
   "id": "12f8f635",
   "metadata": {},
   "outputs": [
    {
     "data": {
      "text/plain": [
       "387837.6"
      ]
     },
     "execution_count": 81,
     "metadata": {},
     "output_type": "execute_result"
    }
   ],
   "source": [
    "VALEUR_STOCK_TOTAL = (df_erp_liaison_web[\"stock_quantity\"]*df_erp_liaison_web[\"price\"]).sum()\n",
    "VALEUR_STOCK_TOTAL"
   ]
  },
  {
   "cell_type": "markdown",
   "id": "1368fcc1",
   "metadata": {},
   "source": [
    "# Valeur du stock total extraite sur base des données fournies : 387 837,60 € "
   ]
  },
  {
   "cell_type": "code",
   "execution_count": 82,
   "id": "8b28fb90",
   "metadata": {},
   "outputs": [],
   "source": [
    "# ***************************************************************************************************************************"
   ]
  },
  {
   "cell_type": "markdown",
   "id": "1642c6c5",
   "metadata": {},
   "source": [
    "# Recherche d'outliers / d'anormalitées :"
   ]
  },
  {
   "cell_type": "code",
   "execution_count": 83,
   "id": "daef74b0",
   "metadata": {},
   "outputs": [],
   "source": [
    "# Détection d'outliers :"
   ]
  },
  {
   "cell_type": "code",
   "execution_count": 84,
   "id": "0484ebdb",
   "metadata": {},
   "outputs": [
    {
     "data": {
      "text/plain": [
       "225.0"
      ]
     },
     "execution_count": 84,
     "metadata": {},
     "output_type": "execute_result"
    }
   ],
   "source": [
    "max_minmax = df_erp_liaison_web['price'].max()\n",
    "max_minmax"
   ]
  },
  {
   "cell_type": "code",
   "execution_count": 85,
   "id": "0f4facea",
   "metadata": {},
   "outputs": [],
   "source": [
    "#df_erp_liaison_web['price_norma'] = df_erp_liaison_web['price']/max_minmax"
   ]
  },
  {
   "cell_type": "code",
   "execution_count": 86,
   "id": "d304abf1",
   "metadata": {},
   "outputs": [],
   "source": [
    "# Erreurs de saisie : product_id  7201, 7203, 7204"
   ]
  },
  {
   "cell_type": "markdown",
   "id": "7b3f4715",
   "metadata": {},
   "source": [
    "# Normalisation des données :"
   ]
  },
  {
   "cell_type": "code",
   "execution_count": 87,
   "id": "40f1464a",
   "metadata": {},
   "outputs": [],
   "source": [
    "from sklearn.preprocessing import MinMaxScaler, StandardScaler, RobustScaler"
   ]
  },
  {
   "cell_type": "markdown",
   "id": "f2c5962d",
   "metadata": {},
   "source": [
    "### Analyses avec MinMaxScaler :"
   ]
  },
  {
   "cell_type": "code",
   "execution_count": 88,
   "id": "3ff008f4",
   "metadata": {},
   "outputs": [],
   "source": [
    "X = df_erp_liaison_web['price']\n",
    "X = X.array.reshape(-1, 1)"
   ]
  },
  {
   "cell_type": "code",
   "execution_count": 89,
   "id": "aa51bdde",
   "metadata": {},
   "outputs": [
    {
     "data": {
      "text/plain": [
       "<matplotlib.collections.PathCollection at 0x209a914a970>"
      ]
     },
     "execution_count": 89,
     "metadata": {},
     "output_type": "execute_result"
    },
    {
     "data": {
      "image/png": "[encoded data removed]",
      "text/plain": [
       "<Figure size 432x288 with 1 Axes>"
      ]
     },
     "metadata": {
      "needs_background": "light"
     },
     "output_type": "display_data"
    }
   ],
   "source": [
    "X_minmax = MinMaxScaler().fit_transform(X)\n",
    "plt.scatter(X, X)"
   ]
  },
  {
   "cell_type": "markdown",
   "id": "e1dc1679",
   "metadata": {},
   "source": [
    "### Analyses au Standart Scaler :"
   ]
  },
  {
   "cell_type": "code",
   "execution_count": 90,
   "id": "9d3a4393",
   "metadata": {},
   "outputs": [
    {
     "data": {
      "text/plain": [
       "<matplotlib.collections.PathCollection at 0x209a91a1160>"
      ]
     },
     "execution_count": 90,
     "metadata": {},
     "output_type": "execute_result"
    },
    {
     "data": {
      "image/png": "[encoded data removed]",
      "text/plain": [
       "<Figure size 432x288 with 1 Axes>"
      ]
     },
     "metadata": {
      "needs_background": "light"
     },
     "output_type": "display_data"
    }
   ],
   "source": [
    "X_stdscl = StandardScaler().fit_transform(X)\n",
    "\n",
    "plt.scatter(X, X)"
   ]
  },
  {
   "cell_type": "markdown",
   "id": "a2ca95bb",
   "metadata": {},
   "source": [
    "### Analyses au RobustScaler :"
   ]
  },
  {
   "cell_type": "code",
   "execution_count": 91,
   "id": "6eac117b",
   "metadata": {},
   "outputs": [
    {
     "data": {
      "text/plain": [
       "<matplotlib.collections.PathCollection at 0x209a91f0940>"
      ]
     },
     "execution_count": 91,
     "metadata": {},
     "output_type": "execute_result"
    },
    {
     "data": {
      "image/png": "[encoded data removed]",
      "text/plain": [
       "<Figure size 432x288 with 1 Axes>"
      ]
     },
     "metadata": {
      "needs_background": "light"
     },
     "output_type": "display_data"
    }
   ],
   "source": [
    "X_robust = RobustScaler().fit_transform(X)\n",
    "\n",
    "plt.scatter(X, X)"
   ]
  },
  {
   "cell_type": "code",
   "execution_count": 92,
   "id": "d6e8a425",
   "metadata": {},
   "outputs": [],
   "source": [
    "# Calculating summary statistics\n",
    "mean, std = df_erp_liaison_web[\"price\"].mean(), df_erp_liaison_web[\"price\"].std()\n",
    "\n",
    "# Identifying outliers\n",
    "cut_off = std * 3\n",
    "lower, upper = mean - cut_off, mean + cut_off\n",
    "outliers = [x for x in df_erp_liaison_web[\"price\"] if x < lower or x > upper]"
   ]
  },
  {
   "cell_type": "code",
   "execution_count": 93,
   "id": "5c4448d7",
   "metadata": {},
   "outputs": [
    {
     "data": {
      "text/plain": [
       "[176.0,\n",
       " 126.5,\n",
       " 225.0,\n",
       " 137.0,\n",
       " 191.3,\n",
       " 135.0,\n",
       " 217.5,\n",
       " 116.4,\n",
       " 121.0,\n",
       " 121.0,\n",
       " 124.8,\n",
       " 175.0,\n",
       " 157.0,\n",
       " 122.0]"
      ]
     },
     "execution_count": 93,
     "metadata": {},
     "output_type": "execute_result"
    }
   ],
   "source": [
    "outliers"
   ]
  },
  {
   "cell_type": "code",
   "execution_count": 94,
   "id": "3e445d9f",
   "metadata": {},
   "outputs": [],
   "source": [
    "# Extraction pour traitement de la liste des éléments anormaux / outliers :\n",
    "Liste_outliers_potentiels = df_erp_liaison_web.loc[df_erp_liaison_web['price'] >= 116.4,:]\n",
    "Liste_outliers_potentiels = Liste_outliers_potentiels.sort_values('price',ascending=True)\n",
    "df_Liste_outliers_potentiels = Liste_outliers_potentiels"
   ]
  },
  {
   "cell_type": "code",
   "execution_count": 95,
   "id": "80ab0774",
   "metadata": {},
   "outputs": [
    {
     "data": {
      "image/png": "[encoded data removed]",
      "text/plain": [
       "<Figure size 648x1008 with 1 Axes>"
      ]
     },
     "metadata": {},
     "output_type": "display_data"
    }
   ],
   "source": [
    "# Visualisation des outliers potentiels :\n",
    "import seaborn as sns\n",
    "sns.set_theme(style=\"ticks\", palette=\"pastel\")\n",
    "\n",
    "plt.figure(figsize=(9,14))\n",
    "sns.barplot(x=\"price\", y=\"post_title\",\n",
    "            data=Liste_outliers_potentiels)\n",
    "sns.despine(offset=10, trim=True)\n",
    "\n",
    "# Ajouter un titre"
   ]
  },
  {
   "cell_type": "code",
   "execution_count": 96,
   "id": "7405535a",
   "metadata": {},
   "outputs": [],
   "source": [
    "# position moyenne des outliers par rapport aux autres produits :"
   ]
  },
  {
   "cell_type": "code",
   "execution_count": 97,
   "id": "83618781",
   "metadata": {},
   "outputs": [
    {
     "data": {
      "text/html": [
       "<div>\n",
       "<style scoped>\n",
       "    .dataframe tbody tr th:only-of-type {\n",
       "        vertical-align: middle;\n",
       "    }\n",
       "\n",
       "    .dataframe tbody tr th {\n",
       "        vertical-align: top;\n",
       "    }\n",
       "\n",
       "    .dataframe thead th {\n",
       "        text-align: right;\n",
       "    }\n",
       "</style>\n",
       "<table border=\"1\" class=\"dataframe\">\n",
       "  <thead>\n",
       "    <tr style=\"text-align: right;\">\n",
       "      <th></th>\n",
       "      <th>product_id</th>\n",
       "      <th>id_web</th>\n",
       "      <th>stock_quantity</th>\n",
       "      <th>price</th>\n",
       "      <th>stock_status</th>\n",
       "      <th>onsale_web</th>\n",
       "      <th>virtual</th>\n",
       "      <th>downloadable</th>\n",
       "      <th>rating_count</th>\n",
       "      <th>average_rating</th>\n",
       "      <th>...</th>\n",
       "      <th>post_date</th>\n",
       "      <th>post_date_gmt</th>\n",
       "      <th>post_title</th>\n",
       "      <th>post_excerpt</th>\n",
       "      <th>post_name</th>\n",
       "      <th>post_modified_gmt</th>\n",
       "      <th>guid</th>\n",
       "      <th>post_type</th>\n",
       "      <th>Totaux_des_ventes_par_produit</th>\n",
       "      <th>quantile</th>\n",
       "    </tr>\n",
       "  </thead>\n",
       "  <tbody>\n",
       "    <tr>\n",
       "      <th>194</th>\n",
       "      <td>4334</td>\n",
       "      <td>7818</td>\n",
       "      <td>0</td>\n",
       "      <td>49.0</td>\n",
       "      <td>outofstock</td>\n",
       "      <td>1</td>\n",
       "      <td>0</td>\n",
       "      <td>0</td>\n",
       "      <td>0</td>\n",
       "      <td>0.0</td>\n",
       "      <td>...</td>\n",
       "      <td>2018-03-01 14:02:44</td>\n",
       "      <td>2018-03-01 13:02:44</td>\n",
       "      <td>Champagne Gosset Grand Blanc de Blancs</td>\n",
       "      <td>La bulle fine et presente se dirige vers la su...</td>\n",
       "      <td>champagne-gosset-grand-blanc-de-blanc</td>\n",
       "      <td>2020-08-12 12:00:03</td>\n",
       "      <td>https://www.bottle-neck.fr/?post_type=product&amp;...</td>\n",
       "      <td>product</td>\n",
       "      <td>4704.0</td>\n",
       "      <td>NaN</td>\n",
       "    </tr>\n",
       "    <tr>\n",
       "      <th>71</th>\n",
       "      <td>4144</td>\n",
       "      <td>1662</td>\n",
       "      <td>11</td>\n",
       "      <td>49.0</td>\n",
       "      <td>instock</td>\n",
       "      <td>1</td>\n",
       "      <td>0</td>\n",
       "      <td>0</td>\n",
       "      <td>0</td>\n",
       "      <td>0.0</td>\n",
       "      <td>...</td>\n",
       "      <td>2018-02-13 13:17:25</td>\n",
       "      <td>2018-02-13 12:17:25</td>\n",
       "      <td>Champagne Gosset Grand Rosé</td>\n",
       "      <td>Le nez exprime sans détour la fraise, dans sa ...</td>\n",
       "      <td>champagne-gosset-grand-rose</td>\n",
       "      <td>2020-08-14 14:45:03</td>\n",
       "      <td>https://www.bottle-neck.fr/?post_type=product&amp;...</td>\n",
       "      <td>product</td>\n",
       "      <td>4263.0</td>\n",
       "      <td>NaN</td>\n",
       "    </tr>\n",
       "    <tr>\n",
       "      <th>218</th>\n",
       "      <td>4402</td>\n",
       "      <td>3510</td>\n",
       "      <td>8</td>\n",
       "      <td>176.0</td>\n",
       "      <td>instock</td>\n",
       "      <td>1</td>\n",
       "      <td>0</td>\n",
       "      <td>0</td>\n",
       "      <td>0</td>\n",
       "      <td>0.0</td>\n",
       "      <td>...</td>\n",
       "      <td>2018-03-22 11:21:05</td>\n",
       "      <td>2018-03-22 10:21:05</td>\n",
       "      <td>Cognac Frapin VIP XO</td>\n",
       "      <td>La cuvée VIP XO à été enrichie d’eaux-de-vie t...</td>\n",
       "      <td>cognac-frapin-vip-xo</td>\n",
       "      <td>2020-08-22 09:35:03</td>\n",
       "      <td>https://www.bottle-neck.fr/?post_type=product&amp;...</td>\n",
       "      <td>product</td>\n",
       "      <td>2288.0</td>\n",
       "      <td>NaN</td>\n",
       "    </tr>\n",
       "    <tr>\n",
       "      <th>70</th>\n",
       "      <td>4142</td>\n",
       "      <td>11641</td>\n",
       "      <td>8</td>\n",
       "      <td>53.0</td>\n",
       "      <td>instock</td>\n",
       "      <td>1</td>\n",
       "      <td>0</td>\n",
       "      <td>0</td>\n",
       "      <td>0</td>\n",
       "      <td>0.0</td>\n",
       "      <td>...</td>\n",
       "      <td>2018-02-13 13:08:44</td>\n",
       "      <td>2018-02-13 12:08:44</td>\n",
       "      <td>Champagne Gosset Grand Millésime 2006</td>\n",
       "      <td>L'attaque est ample, gourmande avec une belle ...</td>\n",
       "      <td>champagne-gosset-grand-millesime-2006</td>\n",
       "      <td>2020-08-20 07:30:03</td>\n",
       "      <td>https://www.bottle-neck.fr/?post_type=product&amp;...</td>\n",
       "      <td>product</td>\n",
       "      <td>1590.0</td>\n",
       "      <td>NaN</td>\n",
       "    </tr>\n",
       "    <tr>\n",
       "      <th>69</th>\n",
       "      <td>4141</td>\n",
       "      <td>304</td>\n",
       "      <td>1</td>\n",
       "      <td>39.0</td>\n",
       "      <td>instock</td>\n",
       "      <td>1</td>\n",
       "      <td>0</td>\n",
       "      <td>0</td>\n",
       "      <td>0</td>\n",
       "      <td>0.0</td>\n",
       "      <td>...</td>\n",
       "      <td>2018-02-13 12:57:44</td>\n",
       "      <td>2018-02-13 11:57:44</td>\n",
       "      <td>Champagne Gosset Grande Réserve</td>\n",
       "      <td>Le nez, ouvert et expressif, évoque les fruits...</td>\n",
       "      <td>gosset-champagne-grande-reserve</td>\n",
       "      <td>2020-08-27 09:25:02</td>\n",
       "      <td>https://www.bottle-neck.fr/?post_type=product&amp;...</td>\n",
       "      <td>product</td>\n",
       "      <td>1560.0</td>\n",
       "      <td>NaN</td>\n",
       "    </tr>\n",
       "    <tr>\n",
       "      <th>...</th>\n",
       "      <td>...</td>\n",
       "      <td>...</td>\n",
       "      <td>...</td>\n",
       "      <td>...</td>\n",
       "      <td>...</td>\n",
       "      <td>...</td>\n",
       "      <td>...</td>\n",
       "      <td>...</td>\n",
       "      <td>...</td>\n",
       "      <td>...</td>\n",
       "      <td>...</td>\n",
       "      <td>...</td>\n",
       "      <td>...</td>\n",
       "      <td>...</td>\n",
       "      <td>...</td>\n",
       "      <td>...</td>\n",
       "      <td>...</td>\n",
       "      <td>...</td>\n",
       "      <td>...</td>\n",
       "      <td>...</td>\n",
       "      <td>...</td>\n",
       "    </tr>\n",
       "    <tr>\n",
       "      <th>599</th>\n",
       "      <td>5912</td>\n",
       "      <td>15227</td>\n",
       "      <td>8</td>\n",
       "      <td>57.0</td>\n",
       "      <td>instock</td>\n",
       "      <td>1</td>\n",
       "      <td>0</td>\n",
       "      <td>0</td>\n",
       "      <td>0</td>\n",
       "      <td>0.0</td>\n",
       "      <td>...</td>\n",
       "      <td>2019-04-04 15:36:52</td>\n",
       "      <td>2019-04-04 13:36:52</td>\n",
       "      <td>Kingsbarns Distillery Lowland Single Malt Whisky</td>\n",
       "      <td>&lt;span title=\"\"&gt;Dream to Dram, un caractère rem...</td>\n",
       "      <td>whisky-kingsbarns-lowland-single-malt</td>\n",
       "      <td>2019-12-07 16:50:03</td>\n",
       "      <td>https://www.bottle-neck.fr/?post_type=product&amp;...</td>\n",
       "      <td>product</td>\n",
       "      <td>0.0</td>\n",
       "      <td>NaN</td>\n",
       "    </tr>\n",
       "    <tr>\n",
       "      <th>600</th>\n",
       "      <td>5913</td>\n",
       "      <td>10014</td>\n",
       "      <td>9</td>\n",
       "      <td>36.0</td>\n",
       "      <td>instock</td>\n",
       "      <td>1</td>\n",
       "      <td>0</td>\n",
       "      <td>0</td>\n",
       "      <td>0</td>\n",
       "      <td>0.0</td>\n",
       "      <td>...</td>\n",
       "      <td>2019-04-04 15:45:23</td>\n",
       "      <td>2019-04-04 13:45:23</td>\n",
       "      <td>Darnley's London Dry Gin Original</td>\n",
       "      <td>&lt;span title=\"\"&gt;Un gin léger, floral et aromati...</td>\n",
       "      <td>darnleys-london-dry-gin-original</td>\n",
       "      <td>2020-08-26 13:55:02</td>\n",
       "      <td>https://www.bottle-neck.fr/?post_type=product&amp;...</td>\n",
       "      <td>product</td>\n",
       "      <td>0.0</td>\n",
       "      <td>NaN</td>\n",
       "    </tr>\n",
       "    <tr>\n",
       "      <th>602</th>\n",
       "      <td>5916</td>\n",
       "      <td>14774</td>\n",
       "      <td>3</td>\n",
       "      <td>93.0</td>\n",
       "      <td>instock</td>\n",
       "      <td>1</td>\n",
       "      <td>0</td>\n",
       "      <td>0</td>\n",
       "      <td>0</td>\n",
       "      <td>0.0</td>\n",
       "      <td>...</td>\n",
       "      <td>2019-04-04 16:39:24</td>\n",
       "      <td>2019-04-04 14:39:24</td>\n",
       "      <td>Wemyss Malts Single Cask Scotch Whisky Chocola...</td>\n",
       "      <td>305 bouteilles, 13 ans d'âge.\\n\\n&lt;span title=\"...</td>\n",
       "      <td>wemyss-malts-single-cask-chocolate-moka-cake</td>\n",
       "      <td>2019-12-23 08:30:21</td>\n",
       "      <td>https://www.bottle-neck.fr/?post_type=product&amp;...</td>\n",
       "      <td>product</td>\n",
       "      <td>0.0</td>\n",
       "      <td>NaN</td>\n",
       "    </tr>\n",
       "    <tr>\n",
       "      <th>603</th>\n",
       "      <td>5917</td>\n",
       "      <td>14775</td>\n",
       "      <td>4</td>\n",
       "      <td>122.0</td>\n",
       "      <td>instock</td>\n",
       "      <td>1</td>\n",
       "      <td>0</td>\n",
       "      <td>0</td>\n",
       "      <td>0</td>\n",
       "      <td>0.0</td>\n",
       "      <td>...</td>\n",
       "      <td>2019-04-04 16:49:37</td>\n",
       "      <td>2019-04-04 14:49:37</td>\n",
       "      <td>Wemyss Malts Single Cask Scotch Whisky Choc 'n...</td>\n",
       "      <td>710 bouteilles, 17 ans d'âge.\\n\\n&lt;span title=\"...</td>\n",
       "      <td>wemyss-malts-single-cask-scotch-whisky-choc-n-...</td>\n",
       "      <td>2020-03-11 08:30:09</td>\n",
       "      <td>https://www.bottle-neck.fr/?post_type=product&amp;...</td>\n",
       "      <td>product</td>\n",
       "      <td>0.0</td>\n",
       "      <td>NaN</td>\n",
       "    </tr>\n",
       "    <tr>\n",
       "      <th>713</th>\n",
       "      <td>7338</td>\n",
       "      <td>16230</td>\n",
       "      <td>45</td>\n",
       "      <td>16.3</td>\n",
       "      <td>instock</td>\n",
       "      <td>1</td>\n",
       "      <td>0</td>\n",
       "      <td>0</td>\n",
       "      <td>0</td>\n",
       "      <td>0.0</td>\n",
       "      <td>...</td>\n",
       "      <td>2020-07-20 11:00:00</td>\n",
       "      <td>2020-07-20 09:00:00</td>\n",
       "      <td>Domaine Saint-Nicolas Vin de France Blanc Les ...</td>\n",
       "      <td>Issu d'un assemblage de chenin blanc et de cha...</td>\n",
       "      <td>domaine-saint-nicolas-fiefs-vendeens-blanc-les...</td>\n",
       "      <td>2020-08-13 08:45:03</td>\n",
       "      <td>https://www.bottle-neck.fr/?post_type=product&amp;...</td>\n",
       "      <td>product</td>\n",
       "      <td>0.0</td>\n",
       "      <td>NaN</td>\n",
       "    </tr>\n",
       "  </tbody>\n",
       "</table>\n",
       "<p>714 rows × 23 columns</p>\n",
       "</div>"
      ],
      "text/plain": [
       "     product_id id_web  stock_quantity  price stock_status  onsale_web  \\\n",
       "194        4334   7818               0   49.0   outofstock           1   \n",
       "71         4144   1662              11   49.0      instock           1   \n",
       "218        4402   3510               8  176.0      instock           1   \n",
       "70         4142  11641               8   53.0      instock           1   \n",
       "69         4141    304               1   39.0      instock           1   \n",
       "..          ...    ...             ...    ...          ...         ...   \n",
       "599        5912  15227               8   57.0      instock           1   \n",
       "600        5913  10014               9   36.0      instock           1   \n",
       "602        5916  14774               3   93.0      instock           1   \n",
       "603        5917  14775               4  122.0      instock           1   \n",
       "713        7338  16230              45   16.3      instock           1   \n",
       "\n",
       "     virtual  downloadable  rating_count  average_rating  ...  \\\n",
       "194        0             0             0             0.0  ...   \n",
       "71         0             0             0             0.0  ...   \n",
       "218        0             0             0             0.0  ...   \n",
       "70         0             0             0             0.0  ...   \n",
       "69         0             0             0             0.0  ...   \n",
       "..       ...           ...           ...             ...  ...   \n",
       "599        0             0             0             0.0  ...   \n",
       "600        0             0             0             0.0  ...   \n",
       "602        0             0             0             0.0  ...   \n",
       "603        0             0             0             0.0  ...   \n",
       "713        0             0             0             0.0  ...   \n",
       "\n",
       "              post_date       post_date_gmt  \\\n",
       "194 2018-03-01 14:02:44 2018-03-01 13:02:44   \n",
       "71  2018-02-13 13:17:25 2018-02-13 12:17:25   \n",
       "218 2018-03-22 11:21:05 2018-03-22 10:21:05   \n",
       "70  2018-02-13 13:08:44 2018-02-13 12:08:44   \n",
       "69  2018-02-13 12:57:44 2018-02-13 11:57:44   \n",
       "..                  ...                 ...   \n",
       "599 2019-04-04 15:36:52 2019-04-04 13:36:52   \n",
       "600 2019-04-04 15:45:23 2019-04-04 13:45:23   \n",
       "602 2019-04-04 16:39:24 2019-04-04 14:39:24   \n",
       "603 2019-04-04 16:49:37 2019-04-04 14:49:37   \n",
       "713 2020-07-20 11:00:00 2020-07-20 09:00:00   \n",
       "\n",
       "                                            post_title  \\\n",
       "194             Champagne Gosset Grand Blanc de Blancs   \n",
       "71                         Champagne Gosset Grand Rosé   \n",
       "218                               Cognac Frapin VIP XO   \n",
       "70               Champagne Gosset Grand Millésime 2006   \n",
       "69                     Champagne Gosset Grande Réserve   \n",
       "..                                                 ...   \n",
       "599   Kingsbarns Distillery Lowland Single Malt Whisky   \n",
       "600                  Darnley's London Dry Gin Original   \n",
       "602  Wemyss Malts Single Cask Scotch Whisky Chocola...   \n",
       "603  Wemyss Malts Single Cask Scotch Whisky Choc 'n...   \n",
       "713  Domaine Saint-Nicolas Vin de France Blanc Les ...   \n",
       "\n",
       "                                          post_excerpt  \\\n",
       "194  La bulle fine et presente se dirige vers la su...   \n",
       "71   Le nez exprime sans détour la fraise, dans sa ...   \n",
       "218  La cuvée VIP XO à été enrichie d’eaux-de-vie t...   \n",
       "70   L'attaque est ample, gourmande avec une belle ...   \n",
       "69   Le nez, ouvert et expressif, évoque les fruits...   \n",
       "..                                                 ...   \n",
       "599  <span title=\"\">Dream to Dram, un caractère rem...   \n",
       "600  <span title=\"\">Un gin léger, floral et aromati...   \n",
       "602  305 bouteilles, 13 ans d'âge.\\n\\n<span title=\"...   \n",
       "603  710 bouteilles, 17 ans d'âge.\\n\\n<span title=\"...   \n",
       "713  Issu d'un assemblage de chenin blanc et de cha...   \n",
       "\n",
       "                                             post_name   post_modified_gmt  \\\n",
       "194              champagne-gosset-grand-blanc-de-blanc 2020-08-12 12:00:03   \n",
       "71                         champagne-gosset-grand-rose 2020-08-14 14:45:03   \n",
       "218                               cognac-frapin-vip-xo 2020-08-22 09:35:03   \n",
       "70               champagne-gosset-grand-millesime-2006 2020-08-20 07:30:03   \n",
       "69                     gosset-champagne-grande-reserve 2020-08-27 09:25:02   \n",
       "..                                                 ...                 ...   \n",
       "599              whisky-kingsbarns-lowland-single-malt 2019-12-07 16:50:03   \n",
       "600                   darnleys-london-dry-gin-original 2020-08-26 13:55:02   \n",
       "602       wemyss-malts-single-cask-chocolate-moka-cake 2019-12-23 08:30:21   \n",
       "603  wemyss-malts-single-cask-scotch-whisky-choc-n-... 2020-03-11 08:30:09   \n",
       "713  domaine-saint-nicolas-fiefs-vendeens-blanc-les... 2020-08-13 08:45:03   \n",
       "\n",
       "                                                  guid post_type  \\\n",
       "194  https://www.bottle-neck.fr/?post_type=product&...   product   \n",
       "71   https://www.bottle-neck.fr/?post_type=product&...   product   \n",
       "218  https://www.bottle-neck.fr/?post_type=product&...   product   \n",
       "70   https://www.bottle-neck.fr/?post_type=product&...   product   \n",
       "69   https://www.bottle-neck.fr/?post_type=product&...   product   \n",
       "..                                                 ...       ...   \n",
       "599  https://www.bottle-neck.fr/?post_type=product&...   product   \n",
       "600  https://www.bottle-neck.fr/?post_type=product&...   product   \n",
       "602  https://www.bottle-neck.fr/?post_type=product&...   product   \n",
       "603  https://www.bottle-neck.fr/?post_type=product&...   product   \n",
       "713  https://www.bottle-neck.fr/?post_type=product&...   product   \n",
       "\n",
       "    Totaux_des_ventes_par_produit quantile  \n",
       "194                        4704.0      NaN  \n",
       "71                         4263.0      NaN  \n",
       "218                        2288.0      NaN  \n",
       "70                         1590.0      NaN  \n",
       "69                         1560.0      NaN  \n",
       "..                            ...      ...  \n",
       "599                           0.0      NaN  \n",
       "600                           0.0      NaN  \n",
       "602                           0.0      NaN  \n",
       "603                           0.0      NaN  \n",
       "713                           0.0      NaN  \n",
       "\n",
       "[714 rows x 23 columns]"
      ]
     },
     "execution_count": 97,
     "metadata": {},
     "output_type": "execute_result"
    }
   ],
   "source": [
    "df_erp_liaison_web['quantile'] = df_erp_liaison_web.price.quantile([.05, .10, .15, .20, .25, .30, .35, .40, .45, .50, .55, .60, .65, .70, .75,.80,.85,.90,.95,1])\n",
    "df_erp_liaison_web"
   ]
  },
  {
   "cell_type": "code",
   "execution_count": 103,
   "id": "c94db1da",
   "metadata": {},
   "outputs": [
    {
     "data": {
      "text/plain": [
       "Index(['product_id', 'id_web', 'stock_quantity', 'price', 'stock_status',\n",
       "       'onsale_web', 'virtual', 'downloadable', 'rating_count',\n",
       "       'average_rating', 'total_sales', 'tax_status', 'post_author',\n",
       "       'post_date', 'post_date_gmt', 'post_title', 'post_excerpt', 'post_name',\n",
       "       'post_modified_gmt', 'guid', 'post_type',\n",
       "       'Totaux_des_ventes_par_produit', 'quantile'],\n",
       "      dtype='object')"
      ]
     },
     "execution_count": 103,
     "metadata": {},
     "output_type": "execute_result"
    }
   ],
   "source": [
    "df_erp_liaison_web.columns"
   ]
  },
  {
   "cell_type": "code",
   "execution_count": 115,
   "id": "b87308fa",
   "metadata": {},
   "outputs": [
    {
     "data": {
      "text/plain": [
       "Index(['product_id', 'id_web', 'stock_quantity', 'price', 'stock_status',\n",
       "       'onsale_web', 'virtual', 'downloadable', 'rating_count',\n",
       "       'average_rating', 'total_sales', 'tax_status', 'post_author',\n",
       "       'post_date', 'post_date_gmt', 'post_title', 'post_excerpt', 'post_name',\n",
       "       'post_modified_gmt', 'guid', 'post_type',\n",
       "       'Totaux_des_ventes_par_produit', 'quantile', 'date_column'],\n",
       "      dtype='object')"
      ]
     },
     "execution_count": 115,
     "metadata": {},
     "output_type": "execute_result"
    }
   ],
   "source": [
    "df_erp_liaison_web['date_column'] = pd.to_datetime(df_erp_liaison_web['post_date']).dt.date\n",
    "df_erp_liaison_web.columns"
   ]
  },
  {
   "cell_type": "code",
   "execution_count": 116,
   "id": "cabb1dbe",
   "metadata": {},
   "outputs": [
    {
     "data": {
      "text/plain": [
       "194    2018-03-01\n",
       "71     2018-02-13\n",
       "218    2018-03-22\n",
       "70     2018-02-13\n",
       "69     2018-02-13\n",
       "          ...    \n",
       "599    2019-04-04\n",
       "600    2019-04-04\n",
       "602    2019-04-04\n",
       "603    2019-04-04\n",
       "713    2020-07-20\n",
       "Name: date_column, Length: 714, dtype: object"
      ]
     },
     "execution_count": 116,
     "metadata": {},
     "output_type": "execute_result"
    }
   ],
   "source": [
    "df_erp_liaison_web.date_column"
   ]
  },
  {
   "cell_type": "code",
   "execution_count": null,
   "id": "64ca4c04",
   "metadata": {},
   "outputs": [],
   "source": []
  },
  {
   "cell_type": "code",
   "execution_count": null,
   "id": "2e081951",
   "metadata": {},
   "outputs": [],
   "source": []
  },
  {
   "cell_type": "markdown",
   "id": "80f53dda",
   "metadata": {},
   "source": [
    "# Affichage de la répartition des prix de vente :"
   ]
  },
  {
   "cell_type": "code",
   "execution_count": 98,
   "id": "88a9d0dd",
   "metadata": {},
   "outputs": [
    {
     "data": {
      "image/png": "[encoded data removed]",
      "text/plain": [
       "<Figure size 720x720 with 1 Axes>"
      ]
     },
     "metadata": {},
     "output_type": "display_data"
    }
   ],
   "source": [
    "plt.figure(figsize=(10,10))\n",
    "df_erp_liaison_web[\"price\"].hist(bins=25)\n",
    "plt.show()"
   ]
  },
  {
   "cell_type": "code",
   "execution_count": null,
   "id": "b6ae71a4",
   "metadata": {},
   "outputs": [],
   "source": [
    "sns.catplot(x='post_date', y='price', data=df_erp_liaison_web, hue=(df_erp_liaison_web['price']=outliers))"
   ]
  },
  {
   "cell_type": "code",
   "execution_count": 128,
   "id": "e3412dcf",
   "metadata": {},
   "outputs": [
    {
     "data": {
      "text/plain": [
       "<AxesSubplot:xlabel='product_id', ylabel='price'>"
      ]
     },
     "execution_count": 128,
     "metadata": {},
     "output_type": "execute_result"
    },
    {
     "data": {
      "image/png": "[encoded data removed]",
      "text/plain": [
       "<Figure size 2304x576 with 1 Axes>"
      ]
     },
     "metadata": {},
     "output_type": "display_data"
    }
   ],
   "source": [
    "plt.figure(figsize=(32, 8))\n",
    "sns.boxplot(x='product_id', y='price', data=df_erp_liaison_web)"
   ]
  },
  {
   "cell_type": "code",
   "execution_count": 134,
   "id": "8d9cba17",
   "metadata": {},
   "outputs": [
    {
     "data": {
      "text/plain": [
       "<AxesSubplot:xlabel='price', ylabel='price'>"
      ]
     },
     "execution_count": 134,
     "metadata": {},
     "output_type": "execute_result"
    },
    {
     "data": {
      "image/png": "[encoded data removed]",
      "text/plain": [
       "<Figure size 2304x720 with 1 Axes>"
      ]
     },
     "metadata": {},
     "output_type": "display_data"
    }
   ],
   "source": [
    "plt.figure(figsize=(32, 10))\n",
    "sns.boxplot(x='price', y='price', data=df_erp_liaison_web)"
   ]
  },
  {
   "cell_type": "code",
   "execution_count": 138,
   "id": "e8d12fdf",
   "metadata": {},
   "outputs": [
    {
     "data": {
      "text/plain": [
       "<AxesSubplot:xlabel='post_type', ylabel='price'>"
      ]
     },
     "execution_count": 138,
     "metadata": {},
     "output_type": "execute_result"
    },
    {
     "data": {
      "image/png": "[encoded data removed]",
      "text/plain": [
       "<Figure size 2304x720 with 1 Axes>"
      ]
     },
     "metadata": {},
     "output_type": "display_data"
    }
   ],
   "source": [
    "plt.figure(figsize=(32, 10))\n",
    "sns.boxplot(x='post_type', y='price', data=df_erp_liaison_web)"
   ]
  },
  {
   "cell_type": "markdown",
   "id": "514aa35c",
   "metadata": {},
   "source": [
    "# Après visualisations nous pouvons affirmer que les outliers ont l'air de valeurs atypiques et non aberrantes."
   ]
  },
  {
   "cell_type": "code",
   "execution_count": 118,
   "id": "d7be2c65",
   "metadata": {},
   "outputs": [],
   "source": [
    "# Fin de réponses aux question sur les fusions, CA et anormalitées.\n",
    "#\n",
    "# *************************************************************************************\n",
    "# *************************************************************************************"
   ]
  },
  {
   "cell_type": "markdown",
   "id": "dfd9a016",
   "metadata": {},
   "source": [
    "# Présentation COPIL progès réalisés :"
   ]
  },
  {
   "cell_type": "code",
   "execution_count": 119,
   "id": "7fa11ce2",
   "metadata": {},
   "outputs": [
    {
     "data": {
      "text/html": [
       "<div>\n",
       "<style scoped>\n",
       "    .dataframe tbody tr th:only-of-type {\n",
       "        vertical-align: middle;\n",
       "    }\n",
       "\n",
       "    .dataframe tbody tr th {\n",
       "        vertical-align: top;\n",
       "    }\n",
       "\n",
       "    .dataframe thead th {\n",
       "        text-align: right;\n",
       "    }\n",
       "</style>\n",
       "<table border=\"1\" class=\"dataframe\">\n",
       "  <thead>\n",
       "    <tr style=\"text-align: right;\">\n",
       "      <th></th>\n",
       "      <th>product_id</th>\n",
       "      <th>id_web</th>\n",
       "      <th>stock_quantity</th>\n",
       "      <th>price</th>\n",
       "      <th>stock_status</th>\n",
       "      <th>onsale_web</th>\n",
       "      <th>virtual</th>\n",
       "      <th>downloadable</th>\n",
       "      <th>rating_count</th>\n",
       "      <th>average_rating</th>\n",
       "      <th>...</th>\n",
       "      <th>post_date_gmt</th>\n",
       "      <th>post_title</th>\n",
       "      <th>post_excerpt</th>\n",
       "      <th>post_name</th>\n",
       "      <th>post_modified_gmt</th>\n",
       "      <th>guid</th>\n",
       "      <th>post_type</th>\n",
       "      <th>Totaux_des_ventes_par_produit</th>\n",
       "      <th>quantile</th>\n",
       "      <th>date_column</th>\n",
       "    </tr>\n",
       "  </thead>\n",
       "  <tbody>\n",
       "    <tr>\n",
       "      <th>194</th>\n",
       "      <td>4334</td>\n",
       "      <td>7818</td>\n",
       "      <td>0</td>\n",
       "      <td>49.0</td>\n",
       "      <td>outofstock</td>\n",
       "      <td>1</td>\n",
       "      <td>0</td>\n",
       "      <td>0</td>\n",
       "      <td>0</td>\n",
       "      <td>0.0</td>\n",
       "      <td>...</td>\n",
       "      <td>2018-03-01 13:02:44</td>\n",
       "      <td>Champagne Gosset Grand Blanc de Blancs</td>\n",
       "      <td>La bulle fine et presente se dirige vers la su...</td>\n",
       "      <td>champagne-gosset-grand-blanc-de-blanc</td>\n",
       "      <td>2020-08-12 12:00:03</td>\n",
       "      <td>https://www.bottle-neck.fr/?post_type=product&amp;...</td>\n",
       "      <td>product</td>\n",
       "      <td>4704.0</td>\n",
       "      <td>NaN</td>\n",
       "      <td>2018-03-01</td>\n",
       "    </tr>\n",
       "    <tr>\n",
       "      <th>71</th>\n",
       "      <td>4144</td>\n",
       "      <td>1662</td>\n",
       "      <td>11</td>\n",
       "      <td>49.0</td>\n",
       "      <td>instock</td>\n",
       "      <td>1</td>\n",
       "      <td>0</td>\n",
       "      <td>0</td>\n",
       "      <td>0</td>\n",
       "      <td>0.0</td>\n",
       "      <td>...</td>\n",
       "      <td>2018-02-13 12:17:25</td>\n",
       "      <td>Champagne Gosset Grand Rosé</td>\n",
       "      <td>Le nez exprime sans détour la fraise, dans sa ...</td>\n",
       "      <td>champagne-gosset-grand-rose</td>\n",
       "      <td>2020-08-14 14:45:03</td>\n",
       "      <td>https://www.bottle-neck.fr/?post_type=product&amp;...</td>\n",
       "      <td>product</td>\n",
       "      <td>4263.0</td>\n",
       "      <td>NaN</td>\n",
       "      <td>2018-02-13</td>\n",
       "    </tr>\n",
       "    <tr>\n",
       "      <th>218</th>\n",
       "      <td>4402</td>\n",
       "      <td>3510</td>\n",
       "      <td>8</td>\n",
       "      <td>176.0</td>\n",
       "      <td>instock</td>\n",
       "      <td>1</td>\n",
       "      <td>0</td>\n",
       "      <td>0</td>\n",
       "      <td>0</td>\n",
       "      <td>0.0</td>\n",
       "      <td>...</td>\n",
       "      <td>2018-03-22 10:21:05</td>\n",
       "      <td>Cognac Frapin VIP XO</td>\n",
       "      <td>La cuvée VIP XO à été enrichie d’eaux-de-vie t...</td>\n",
       "      <td>cognac-frapin-vip-xo</td>\n",
       "      <td>2020-08-22 09:35:03</td>\n",
       "      <td>https://www.bottle-neck.fr/?post_type=product&amp;...</td>\n",
       "      <td>product</td>\n",
       "      <td>2288.0</td>\n",
       "      <td>NaN</td>\n",
       "      <td>2018-03-22</td>\n",
       "    </tr>\n",
       "    <tr>\n",
       "      <th>70</th>\n",
       "      <td>4142</td>\n",
       "      <td>11641</td>\n",
       "      <td>8</td>\n",
       "      <td>53.0</td>\n",
       "      <td>instock</td>\n",
       "      <td>1</td>\n",
       "      <td>0</td>\n",
       "      <td>0</td>\n",
       "      <td>0</td>\n",
       "      <td>0.0</td>\n",
       "      <td>...</td>\n",
       "      <td>2018-02-13 12:08:44</td>\n",
       "      <td>Champagne Gosset Grand Millésime 2006</td>\n",
       "      <td>L'attaque est ample, gourmande avec une belle ...</td>\n",
       "      <td>champagne-gosset-grand-millesime-2006</td>\n",
       "      <td>2020-08-20 07:30:03</td>\n",
       "      <td>https://www.bottle-neck.fr/?post_type=product&amp;...</td>\n",
       "      <td>product</td>\n",
       "      <td>1590.0</td>\n",
       "      <td>NaN</td>\n",
       "      <td>2018-02-13</td>\n",
       "    </tr>\n",
       "    <tr>\n",
       "      <th>69</th>\n",
       "      <td>4141</td>\n",
       "      <td>304</td>\n",
       "      <td>1</td>\n",
       "      <td>39.0</td>\n",
       "      <td>instock</td>\n",
       "      <td>1</td>\n",
       "      <td>0</td>\n",
       "      <td>0</td>\n",
       "      <td>0</td>\n",
       "      <td>0.0</td>\n",
       "      <td>...</td>\n",
       "      <td>2018-02-13 11:57:44</td>\n",
       "      <td>Champagne Gosset Grande Réserve</td>\n",
       "      <td>Le nez, ouvert et expressif, évoque les fruits...</td>\n",
       "      <td>gosset-champagne-grande-reserve</td>\n",
       "      <td>2020-08-27 09:25:02</td>\n",
       "      <td>https://www.bottle-neck.fr/?post_type=product&amp;...</td>\n",
       "      <td>product</td>\n",
       "      <td>1560.0</td>\n",
       "      <td>NaN</td>\n",
       "      <td>2018-02-13</td>\n",
       "    </tr>\n",
       "    <tr>\n",
       "      <th>...</th>\n",
       "      <td>...</td>\n",
       "      <td>...</td>\n",
       "      <td>...</td>\n",
       "      <td>...</td>\n",
       "      <td>...</td>\n",
       "      <td>...</td>\n",
       "      <td>...</td>\n",
       "      <td>...</td>\n",
       "      <td>...</td>\n",
       "      <td>...</td>\n",
       "      <td>...</td>\n",
       "      <td>...</td>\n",
       "      <td>...</td>\n",
       "      <td>...</td>\n",
       "      <td>...</td>\n",
       "      <td>...</td>\n",
       "      <td>...</td>\n",
       "      <td>...</td>\n",
       "      <td>...</td>\n",
       "      <td>...</td>\n",
       "      <td>...</td>\n",
       "    </tr>\n",
       "    <tr>\n",
       "      <th>599</th>\n",
       "      <td>5912</td>\n",
       "      <td>15227</td>\n",
       "      <td>8</td>\n",
       "      <td>57.0</td>\n",
       "      <td>instock</td>\n",
       "      <td>1</td>\n",
       "      <td>0</td>\n",
       "      <td>0</td>\n",
       "      <td>0</td>\n",
       "      <td>0.0</td>\n",
       "      <td>...</td>\n",
       "      <td>2019-04-04 13:36:52</td>\n",
       "      <td>Kingsbarns Distillery Lowland Single Malt Whisky</td>\n",
       "      <td>&lt;span title=\"\"&gt;Dream to Dram, un caractère rem...</td>\n",
       "      <td>whisky-kingsbarns-lowland-single-malt</td>\n",
       "      <td>2019-12-07 16:50:03</td>\n",
       "      <td>https://www.bottle-neck.fr/?post_type=product&amp;...</td>\n",
       "      <td>product</td>\n",
       "      <td>0.0</td>\n",
       "      <td>NaN</td>\n",
       "      <td>2019-04-04</td>\n",
       "    </tr>\n",
       "    <tr>\n",
       "      <th>600</th>\n",
       "      <td>5913</td>\n",
       "      <td>10014</td>\n",
       "      <td>9</td>\n",
       "      <td>36.0</td>\n",
       "      <td>instock</td>\n",
       "      <td>1</td>\n",
       "      <td>0</td>\n",
       "      <td>0</td>\n",
       "      <td>0</td>\n",
       "      <td>0.0</td>\n",
       "      <td>...</td>\n",
       "      <td>2019-04-04 13:45:23</td>\n",
       "      <td>Darnley's London Dry Gin Original</td>\n",
       "      <td>&lt;span title=\"\"&gt;Un gin léger, floral et aromati...</td>\n",
       "      <td>darnleys-london-dry-gin-original</td>\n",
       "      <td>2020-08-26 13:55:02</td>\n",
       "      <td>https://www.bottle-neck.fr/?post_type=product&amp;...</td>\n",
       "      <td>product</td>\n",
       "      <td>0.0</td>\n",
       "      <td>NaN</td>\n",
       "      <td>2019-04-04</td>\n",
       "    </tr>\n",
       "    <tr>\n",
       "      <th>602</th>\n",
       "      <td>5916</td>\n",
       "      <td>14774</td>\n",
       "      <td>3</td>\n",
       "      <td>93.0</td>\n",
       "      <td>instock</td>\n",
       "      <td>1</td>\n",
       "      <td>0</td>\n",
       "      <td>0</td>\n",
       "      <td>0</td>\n",
       "      <td>0.0</td>\n",
       "      <td>...</td>\n",
       "      <td>2019-04-04 14:39:24</td>\n",
       "      <td>Wemyss Malts Single Cask Scotch Whisky Chocola...</td>\n",
       "      <td>305 bouteilles, 13 ans d'âge.\\n\\n&lt;span title=\"...</td>\n",
       "      <td>wemyss-malts-single-cask-chocolate-moka-cake</td>\n",
       "      <td>2019-12-23 08:30:21</td>\n",
       "      <td>https://www.bottle-neck.fr/?post_type=product&amp;...</td>\n",
       "      <td>product</td>\n",
       "      <td>0.0</td>\n",
       "      <td>NaN</td>\n",
       "      <td>2019-04-04</td>\n",
       "    </tr>\n",
       "    <tr>\n",
       "      <th>603</th>\n",
       "      <td>5917</td>\n",
       "      <td>14775</td>\n",
       "      <td>4</td>\n",
       "      <td>122.0</td>\n",
       "      <td>instock</td>\n",
       "      <td>1</td>\n",
       "      <td>0</td>\n",
       "      <td>0</td>\n",
       "      <td>0</td>\n",
       "      <td>0.0</td>\n",
       "      <td>...</td>\n",
       "      <td>2019-04-04 14:49:37</td>\n",
       "      <td>Wemyss Malts Single Cask Scotch Whisky Choc 'n...</td>\n",
       "      <td>710 bouteilles, 17 ans d'âge.\\n\\n&lt;span title=\"...</td>\n",
       "      <td>wemyss-malts-single-cask-scotch-whisky-choc-n-...</td>\n",
       "      <td>2020-03-11 08:30:09</td>\n",
       "      <td>https://www.bottle-neck.fr/?post_type=product&amp;...</td>\n",
       "      <td>product</td>\n",
       "      <td>0.0</td>\n",
       "      <td>NaN</td>\n",
       "      <td>2019-04-04</td>\n",
       "    </tr>\n",
       "    <tr>\n",
       "      <th>713</th>\n",
       "      <td>7338</td>\n",
       "      <td>16230</td>\n",
       "      <td>45</td>\n",
       "      <td>16.3</td>\n",
       "      <td>instock</td>\n",
       "      <td>1</td>\n",
       "      <td>0</td>\n",
       "      <td>0</td>\n",
       "      <td>0</td>\n",
       "      <td>0.0</td>\n",
       "      <td>...</td>\n",
       "      <td>2020-07-20 09:00:00</td>\n",
       "      <td>Domaine Saint-Nicolas Vin de France Blanc Les ...</td>\n",
       "      <td>Issu d'un assemblage de chenin blanc et de cha...</td>\n",
       "      <td>domaine-saint-nicolas-fiefs-vendeens-blanc-les...</td>\n",
       "      <td>2020-08-13 08:45:03</td>\n",
       "      <td>https://www.bottle-neck.fr/?post_type=product&amp;...</td>\n",
       "      <td>product</td>\n",
       "      <td>0.0</td>\n",
       "      <td>NaN</td>\n",
       "      <td>2020-07-20</td>\n",
       "    </tr>\n",
       "  </tbody>\n",
       "</table>\n",
       "<p>714 rows × 24 columns</p>\n",
       "</div>"
      ],
      "text/plain": [
       "     product_id id_web  stock_quantity  price stock_status  onsale_web  \\\n",
       "194        4334   7818               0   49.0   outofstock           1   \n",
       "71         4144   1662              11   49.0      instock           1   \n",
       "218        4402   3510               8  176.0      instock           1   \n",
       "70         4142  11641               8   53.0      instock           1   \n",
       "69         4141    304               1   39.0      instock           1   \n",
       "..          ...    ...             ...    ...          ...         ...   \n",
       "599        5912  15227               8   57.0      instock           1   \n",
       "600        5913  10014               9   36.0      instock           1   \n",
       "602        5916  14774               3   93.0      instock           1   \n",
       "603        5917  14775               4  122.0      instock           1   \n",
       "713        7338  16230              45   16.3      instock           1   \n",
       "\n",
       "     virtual  downloadable  rating_count  average_rating  ...  \\\n",
       "194        0             0             0             0.0  ...   \n",
       "71         0             0             0             0.0  ...   \n",
       "218        0             0             0             0.0  ...   \n",
       "70         0             0             0             0.0  ...   \n",
       "69         0             0             0             0.0  ...   \n",
       "..       ...           ...           ...             ...  ...   \n",
       "599        0             0             0             0.0  ...   \n",
       "600        0             0             0             0.0  ...   \n",
       "602        0             0             0             0.0  ...   \n",
       "603        0             0             0             0.0  ...   \n",
       "713        0             0             0             0.0  ...   \n",
       "\n",
       "          post_date_gmt                                         post_title  \\\n",
       "194 2018-03-01 13:02:44             Champagne Gosset Grand Blanc de Blancs   \n",
       "71  2018-02-13 12:17:25                        Champagne Gosset Grand Rosé   \n",
       "218 2018-03-22 10:21:05                               Cognac Frapin VIP XO   \n",
       "70  2018-02-13 12:08:44              Champagne Gosset Grand Millésime 2006   \n",
       "69  2018-02-13 11:57:44                    Champagne Gosset Grande Réserve   \n",
       "..                  ...                                                ...   \n",
       "599 2019-04-04 13:36:52   Kingsbarns Distillery Lowland Single Malt Whisky   \n",
       "600 2019-04-04 13:45:23                  Darnley's London Dry Gin Original   \n",
       "602 2019-04-04 14:39:24  Wemyss Malts Single Cask Scotch Whisky Chocola...   \n",
       "603 2019-04-04 14:49:37  Wemyss Malts Single Cask Scotch Whisky Choc 'n...   \n",
       "713 2020-07-20 09:00:00  Domaine Saint-Nicolas Vin de France Blanc Les ...   \n",
       "\n",
       "                                          post_excerpt  \\\n",
       "194  La bulle fine et presente se dirige vers la su...   \n",
       "71   Le nez exprime sans détour la fraise, dans sa ...   \n",
       "218  La cuvée VIP XO à été enrichie d’eaux-de-vie t...   \n",
       "70   L'attaque est ample, gourmande avec une belle ...   \n",
       "69   Le nez, ouvert et expressif, évoque les fruits...   \n",
       "..                                                 ...   \n",
       "599  <span title=\"\">Dream to Dram, un caractère rem...   \n",
       "600  <span title=\"\">Un gin léger, floral et aromati...   \n",
       "602  305 bouteilles, 13 ans d'âge.\\n\\n<span title=\"...   \n",
       "603  710 bouteilles, 17 ans d'âge.\\n\\n<span title=\"...   \n",
       "713  Issu d'un assemblage de chenin blanc et de cha...   \n",
       "\n",
       "                                             post_name   post_modified_gmt  \\\n",
       "194              champagne-gosset-grand-blanc-de-blanc 2020-08-12 12:00:03   \n",
       "71                         champagne-gosset-grand-rose 2020-08-14 14:45:03   \n",
       "218                               cognac-frapin-vip-xo 2020-08-22 09:35:03   \n",
       "70               champagne-gosset-grand-millesime-2006 2020-08-20 07:30:03   \n",
       "69                     gosset-champagne-grande-reserve 2020-08-27 09:25:02   \n",
       "..                                                 ...                 ...   \n",
       "599              whisky-kingsbarns-lowland-single-malt 2019-12-07 16:50:03   \n",
       "600                   darnleys-london-dry-gin-original 2020-08-26 13:55:02   \n",
       "602       wemyss-malts-single-cask-chocolate-moka-cake 2019-12-23 08:30:21   \n",
       "603  wemyss-malts-single-cask-scotch-whisky-choc-n-... 2020-03-11 08:30:09   \n",
       "713  domaine-saint-nicolas-fiefs-vendeens-blanc-les... 2020-08-13 08:45:03   \n",
       "\n",
       "                                                  guid post_type  \\\n",
       "194  https://www.bottle-neck.fr/?post_type=product&...   product   \n",
       "71   https://www.bottle-neck.fr/?post_type=product&...   product   \n",
       "218  https://www.bottle-neck.fr/?post_type=product&...   product   \n",
       "70   https://www.bottle-neck.fr/?post_type=product&...   product   \n",
       "69   https://www.bottle-neck.fr/?post_type=product&...   product   \n",
       "..                                                 ...       ...   \n",
       "599  https://www.bottle-neck.fr/?post_type=product&...   product   \n",
       "600  https://www.bottle-neck.fr/?post_type=product&...   product   \n",
       "602  https://www.bottle-neck.fr/?post_type=product&...   product   \n",
       "603  https://www.bottle-neck.fr/?post_type=product&...   product   \n",
       "713  https://www.bottle-neck.fr/?post_type=product&...   product   \n",
       "\n",
       "    Totaux_des_ventes_par_produit quantile date_column  \n",
       "194                        4704.0      NaN  2018-03-01  \n",
       "71                         4263.0      NaN  2018-02-13  \n",
       "218                        2288.0      NaN  2018-03-22  \n",
       "70                         1590.0      NaN  2018-02-13  \n",
       "69                         1560.0      NaN  2018-02-13  \n",
       "..                            ...      ...         ...  \n",
       "599                           0.0      NaN  2019-04-04  \n",
       "600                           0.0      NaN  2019-04-04  \n",
       "602                           0.0      NaN  2019-04-04  \n",
       "603                           0.0      NaN  2019-04-04  \n",
       "713                           0.0      NaN  2020-07-20  \n",
       "\n",
       "[714 rows x 24 columns]"
      ]
     },
     "execution_count": 119,
     "metadata": {},
     "output_type": "execute_result"
    }
   ],
   "source": [
    "df_erp_liaison_web"
   ]
  },
  {
   "cell_type": "code",
   "execution_count": 120,
   "id": "87a679e3",
   "metadata": {},
   "outputs": [],
   "source": [
    "# Malgré la \"volonté de m'épargner une présentation en Data Visualisation\" j'ai tout de même pris le temps de la réaliser\n",
    "# car la pertinence des diagrammes intéractifs pour un comité de pilotage me paraissait essentiel."
   ]
  },
  {
   "cell_type": "code",
   "execution_count": 126,
   "id": "619029c1",
   "metadata": {},
   "outputs": [
    {
     "name": "stdout",
     "output_type": "stream",
     "text": [
      "DataFrame is written to Excel File successfully.\n"
     ]
    }
   ],
   "source": [
    "df_erp_liaison_web_avec_date = df_erp_liaison_web\n",
    "datatoexcel = df_erp_liaison_web_avec_date\n",
    "\n",
    "datatoexcel = pd.ExcelWriter('df_erp_liaison_web_avec_date.xlsx') \n",
    "  \n",
    "df_erp_liaison_web_avec_date.to_excel(datatoexcel) \n",
    "  \n",
    "datatoexcel.save() \n",
    "print('DataFrame is written to Excel File successfully.')"
   ]
  },
  {
   "cell_type": "code",
   "execution_count": 122,
   "id": "c8ba0b70",
   "metadata": {},
   "outputs": [
    {
     "name": "stdout",
     "output_type": "stream",
     "text": [
      "DataFrame is written to Excel File successfully.\n"
     ]
    }
   ],
   "source": [
    "# extraction dataframe df_Liste_outliers_potentiels\n",
    "\n",
    "datatoexcel = df_Liste_outliers_potentiels\n",
    "\n",
    "datatoexcel = pd.ExcelWriter('df_Liste_outliers_potentiels.xlsx') \n",
    "  \n",
    "df_Liste_outliers_potentiels.to_excel(datatoexcel) \n",
    "  \n",
    "datatoexcel.save() \n",
    "print('DataFrame is written to Excel File successfully.')\n"
   ]
  },
  {
   "cell_type": "code",
   "execution_count": 123,
   "id": "0e025a69",
   "metadata": {},
   "outputs": [
    {
     "name": "stdout",
     "output_type": "stream",
     "text": [
      "DataFrame is written to Excel File successfully.\n"
     ]
    }
   ],
   "source": [
    "# extraction dataframe df_liaisons_vides_verif\n",
    "\n",
    "datatoexcel = df_liaisons_vides_verif\n",
    "\n",
    "datatoexcel = pd.ExcelWriter('df_liaisons_vides_verif.xlsx') \n",
    "  \n",
    "df_liaisons_vides_verif.to_excel(datatoexcel) \n",
    "  \n",
    "datatoexcel.save() \n",
    "print('DataFrame is written to Excel File successfully.')\n"
   ]
  },
  {
   "cell_type": "code",
   "execution_count": 103,
   "id": "87f3f0db",
   "metadata": {},
   "outputs": [],
   "source": [
    "# Suite sous Microsoft Power BI - Pour toutes questions/modifications : cyril.bgs.dev@gmail.com"
   ]
  }
 ],
 "metadata": {
  "kernelspec": {
   "display_name": "Python 3 (ipykernel)",
   "language": "python",
   "name": "python3"
  },
  "language_info": {
   "codemirror_mode": {
    "name": "ipython",
    "version": 3
   },
   "file_extension": ".py",
   "mimetype": "text/x-python",
   "name": "python",
   "nbconvert_exporter": "python",
   "pygments_lexer": "ipython3",
   "version": "3.9.7"
  }
 },
 "nbformat": 4,
 "nbformat_minor": 5
}
